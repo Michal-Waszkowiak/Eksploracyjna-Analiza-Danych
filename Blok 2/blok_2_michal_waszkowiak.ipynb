{
 "cells": [
  {
   "cell_type": "markdown",
   "metadata": {},
   "source": [
    "# Lab 10 - Projekt podsumowujący zajęcia dotyczące testowania hipotez"
   ]
  },
  {
   "cell_type": "markdown",
   "metadata": {},
   "source": [
    "Autor: Michał Waszkowiak"
   ]
  },
  {
   "cell_type": "markdown",
   "metadata": {},
   "source": [
    "## Wczytanie bibliotek i danych"
   ]
  },
  {
   "cell_type": "markdown",
   "metadata": {},
   "source": [
    "### Biblioteki"
   ]
  },
  {
   "cell_type": "code",
   "execution_count": 2,
   "metadata": {},
   "outputs": [],
   "source": [
    "import pandas as pd\n",
    "import numpy as np\n",
    "import matplotlib.pyplot as plt\n",
    "import seaborn as sns\n",
    "from statsmodels.formula.api import ols\n",
    "from scipy.stats import chi2_contingency\n",
    "from sklearn.model_selection import train_test_split\n",
    "from sklearn.metrics import mean_squared_error, mean_absolute_error\n",
    "import statsmodels.api as sm\n",
    "from sklearn.linear_model import LogisticRegression\n",
    "from sklearn.preprocessing import StandardScaler\n",
    "from sklearn.tree import DecisionTreeRegressor\n"
   ]
  },
  {
   "cell_type": "markdown",
   "metadata": {},
   "source": [
    "### Dane"
   ]
  },
  {
   "cell_type": "code",
   "execution_count": 3,
   "metadata": {},
   "outputs": [],
   "source": [
    "data = pd.read_csv('27521-0001-Data.tsv', sep='\\t')"
   ]
  },
  {
   "cell_type": "markdown",
   "metadata": {},
   "source": [
    "Wybranie tylko tych wierszy, gdzie wartość w kolumnie `DEPRESSIONINDEX` jest w przedziale od 0 do 9"
   ]
  },
  {
   "cell_type": "code",
   "execution_count": 4,
   "metadata": {},
   "outputs": [],
   "source": [
    "depression_data = data[(data['DEPRESSIONINDEX'] >= 0) & (data['DEPRESSIONINDEX'] <= 9)]"
   ]
  },
  {
   "cell_type": "markdown",
   "metadata": {},
   "source": [
    "Wyselekcjonowanie cech, które będą poddane wstępnej analizie"
   ]
  },
  {
   "cell_type": "code",
   "execution_count": 5,
   "metadata": {},
   "outputs": [],
   "source": [
    "selected_columns = [\n",
    "    # Wskaźnik depresji\n",
    "    'DEPRESSIONINDEX',\n",
    "\n",
    "    # Wskaźniki grup wiekowych, płci i rasy\n",
    "    'CATAG2', 'IRSEX', 'NEWRACE2',\n",
    "\n",
    "    # Wskaźniki uzależnień\n",
    "    'ANYINDEX', 'MJANDCOKE', 'ILLICITDRUGUSE', 'LSYRILLICIT', 'COKECRACK', \n",
    "    'OTHERILLICIT', 'MARJLTYR', 'MJCOKELY', 'COCCRKLY', 'MJGT12MO', \n",
    "    'COCGT12MO', 'ANYGT12MO', 'ALCFMFPB',\n",
    "\n",
    "    # Wskaźniki edukacji\n",
    "    'IREDUC2', 'EDU_DUMMY',\n",
    "\n",
    "    # Wskaźniki ekonomiczne\n",
    "    'INCOME', 'INCOME_R', 'POVERTY', 'IRPRVHLT', 'WORKFORCE', 'EMPSTAT4',\n",
    "\n",
    "    # Wskaźniki warunków zamieszkania\n",
    "    'REVERSEPOP', 'MOVESPY2', 'CACHAR', 'CATYPE',\n",
    "\n",
    "    # Wskaźniki konfliktów z prawem\n",
    "    'CRIMEHIST', 'ANYSDRUG', 'ANYATTACK', 'ANYTHEFT', 'NUMARREST',\n",
    "\n",
    "    # Stan zdrowia\n",
    "    'HEALTH2', 'SCHDSICK', 'SCHDSKIP', 'TXLCAD', 'DSTCHEER', 'DSTNRVOS',\n",
    "\n",
    "    # Problemy ze zmęczeniem\n",
    "    'ADWRENRG', 'YOWRENRG', 'AD_MDEA6', 'YO_MDEA6',\n",
    "\n",
    "    # Zaburzenia apetytu\n",
    "    'AD_MDEA3', 'YO_MDEA3', 'ADWRELES', 'YOWRELES',\n",
    "\n",
    "    # Problemy ze snem\n",
    "    'AD_MDEA4', 'YO_MDEA4', 'ADWRSLEP', 'YOWRSLEP', 'ADWRSMOR', 'YOWRSMOR',\n",
    "\n",
    "    # Myśli samobójcze\n",
    "    'ADWRSATP', 'YOWRSATP', 'ADWRSPLN', 'YOWRSPLN', 'ADWRDLOT',\n",
    "    'YOWRDLOT', 'ADWRSTHK', 'YOWRSTHK',\n",
    "\n",
    "    # Informacje rodzinne\n",
    "    'IRMARIT', 'NOMARR2', 'RKIDSHH', 'MARRIED', 'CHILDRENINHOME'\n",
    "]"
   ]
  },
  {
   "cell_type": "code",
   "execution_count": 6,
   "metadata": {},
   "outputs": [
    {
     "name": "stdout",
     "output_type": "stream",
     "text": [
      "36972\n"
     ]
    }
   ],
   "source": [
    "filtered_data = depression_data[selected_columns]\n",
    "print(filtered_data.shape[0])"
   ]
  },
  {
   "cell_type": "markdown",
   "metadata": {},
   "source": [
    "Uzupełnienie `missing values` w taki sposób, żeby dalsza analiza była łatwiejsza"
   ]
  },
  {
   "cell_type": "code",
   "execution_count": 7,
   "metadata": {},
   "outputs": [
    {
     "name": "stderr",
     "output_type": "stream",
     "text": [
      "/tmp/ipykernel_348608/1024473335.py:74: SettingWithCopyWarning: \n",
      "A value is trying to be set on a copy of a slice from a DataFrame.\n",
      "Try using .loc[row_indexer,col_indexer] = value instead\n",
      "\n",
      "See the caveats in the documentation: https://pandas.pydata.org/pandas-docs/stable/user_guide/indexing.html#returning-a-view-versus-a-copy\n",
      "  filtered_data['MDEA6'] = None\n",
      "/tmp/ipykernel_348608/1024473335.py:79: FutureWarning: A value is trying to be set on a copy of a DataFrame or Series through chained assignment using an inplace method.\n",
      "The behavior will change in pandas 3.0. This inplace method will never work because the intermediate object on which we are setting values always behaves as a copy.\n",
      "\n",
      "For example, when doing 'df[col].method(value, inplace=True)', try using 'df.method({col: value}, inplace=True)' or df[col] = df[col].method(value) instead, to perform the operation inplace on the original object.\n",
      "\n",
      "\n",
      "  filtered_data['MDEA6'].fillna(99, inplace=True)\n",
      "/tmp/ipykernel_348608/1024473335.py:79: FutureWarning: Downcasting object dtype arrays on .fillna, .ffill, .bfill is deprecated and will change in a future version. Call result.infer_objects(copy=False) instead. To opt-in to the future behavior, set `pd.set_option('future.no_silent_downcasting', True)`\n",
      "  filtered_data['MDEA6'].fillna(99, inplace=True)\n",
      "/tmp/ipykernel_348608/1024473335.py:79: SettingWithCopyWarning: \n",
      "A value is trying to be set on a copy of a slice from a DataFrame\n",
      "\n",
      "See the caveats in the documentation: https://pandas.pydata.org/pandas-docs/stable/user_guide/indexing.html#returning-a-view-versus-a-copy\n",
      "  filtered_data['MDEA6'].fillna(99, inplace=True)\n",
      "/tmp/ipykernel_348608/1024473335.py:93: SettingWithCopyWarning: \n",
      "A value is trying to be set on a copy of a slice from a DataFrame.\n",
      "Try using .loc[row_indexer,col_indexer] = value instead\n",
      "\n",
      "See the caveats in the documentation: https://pandas.pydata.org/pandas-docs/stable/user_guide/indexing.html#returning-a-view-versus-a-copy\n",
      "  filtered_data['WRENRG'] = None\n",
      "/tmp/ipykernel_348608/1024473335.py:98: FutureWarning: A value is trying to be set on a copy of a DataFrame or Series through chained assignment using an inplace method.\n",
      "The behavior will change in pandas 3.0. This inplace method will never work because the intermediate object on which we are setting values always behaves as a copy.\n",
      "\n",
      "For example, when doing 'df[col].method(value, inplace=True)', try using 'df.method({col: value}, inplace=True)' or df[col] = df[col].method(value) instead, to perform the operation inplace on the original object.\n",
      "\n",
      "\n",
      "  filtered_data['WRENRG'].fillna(99, inplace=True)\n",
      "/tmp/ipykernel_348608/1024473335.py:98: FutureWarning: Downcasting object dtype arrays on .fillna, .ffill, .bfill is deprecated and will change in a future version. Call result.infer_objects(copy=False) instead. To opt-in to the future behavior, set `pd.set_option('future.no_silent_downcasting', True)`\n",
      "  filtered_data['WRENRG'].fillna(99, inplace=True)\n",
      "/tmp/ipykernel_348608/1024473335.py:98: SettingWithCopyWarning: \n",
      "A value is trying to be set on a copy of a slice from a DataFrame\n",
      "\n",
      "See the caveats in the documentation: https://pandas.pydata.org/pandas-docs/stable/user_guide/indexing.html#returning-a-view-versus-a-copy\n",
      "  filtered_data['WRENRG'].fillna(99, inplace=True)\n",
      "/tmp/ipykernel_348608/1024473335.py:110: SettingWithCopyWarning: \n",
      "A value is trying to be set on a copy of a slice from a DataFrame.\n",
      "Try using .loc[row_indexer,col_indexer] = value instead\n",
      "\n",
      "See the caveats in the documentation: https://pandas.pydata.org/pandas-docs/stable/user_guide/indexing.html#returning-a-view-versus-a-copy\n",
      "  filtered_data['MDEA3'] = None\n",
      "/tmp/ipykernel_348608/1024473335.py:115: FutureWarning: A value is trying to be set on a copy of a DataFrame or Series through chained assignment using an inplace method.\n",
      "The behavior will change in pandas 3.0. This inplace method will never work because the intermediate object on which we are setting values always behaves as a copy.\n",
      "\n",
      "For example, when doing 'df[col].method(value, inplace=True)', try using 'df.method({col: value}, inplace=True)' or df[col] = df[col].method(value) instead, to perform the operation inplace on the original object.\n",
      "\n",
      "\n",
      "  filtered_data['MDEA3'].fillna(99, inplace=True)\n",
      "/tmp/ipykernel_348608/1024473335.py:115: FutureWarning: Downcasting object dtype arrays on .fillna, .ffill, .bfill is deprecated and will change in a future version. Call result.infer_objects(copy=False) instead. To opt-in to the future behavior, set `pd.set_option('future.no_silent_downcasting', True)`\n",
      "  filtered_data['MDEA3'].fillna(99, inplace=True)\n",
      "/tmp/ipykernel_348608/1024473335.py:115: SettingWithCopyWarning: \n",
      "A value is trying to be set on a copy of a slice from a DataFrame\n",
      "\n",
      "See the caveats in the documentation: https://pandas.pydata.org/pandas-docs/stable/user_guide/indexing.html#returning-a-view-versus-a-copy\n",
      "  filtered_data['MDEA3'].fillna(99, inplace=True)\n",
      "/tmp/ipykernel_348608/1024473335.py:129: SettingWithCopyWarning: \n",
      "A value is trying to be set on a copy of a slice from a DataFrame.\n",
      "Try using .loc[row_indexer,col_indexer] = value instead\n",
      "\n",
      "See the caveats in the documentation: https://pandas.pydata.org/pandas-docs/stable/user_guide/indexing.html#returning-a-view-versus-a-copy\n",
      "  filtered_data['WRELES'] = None\n",
      "/tmp/ipykernel_348608/1024473335.py:134: FutureWarning: A value is trying to be set on a copy of a DataFrame or Series through chained assignment using an inplace method.\n",
      "The behavior will change in pandas 3.0. This inplace method will never work because the intermediate object on which we are setting values always behaves as a copy.\n",
      "\n",
      "For example, when doing 'df[col].method(value, inplace=True)', try using 'df.method({col: value}, inplace=True)' or df[col] = df[col].method(value) instead, to perform the operation inplace on the original object.\n",
      "\n",
      "\n",
      "  filtered_data['WRELES'].fillna(99, inplace=True)\n",
      "/tmp/ipykernel_348608/1024473335.py:134: FutureWarning: Downcasting object dtype arrays on .fillna, .ffill, .bfill is deprecated and will change in a future version. Call result.infer_objects(copy=False) instead. To opt-in to the future behavior, set `pd.set_option('future.no_silent_downcasting', True)`\n",
      "  filtered_data['WRELES'].fillna(99, inplace=True)\n",
      "/tmp/ipykernel_348608/1024473335.py:134: SettingWithCopyWarning: \n",
      "A value is trying to be set on a copy of a slice from a DataFrame\n",
      "\n",
      "See the caveats in the documentation: https://pandas.pydata.org/pandas-docs/stable/user_guide/indexing.html#returning-a-view-versus-a-copy\n",
      "  filtered_data['WRELES'].fillna(99, inplace=True)\n",
      "/tmp/ipykernel_348608/1024473335.py:146: SettingWithCopyWarning: \n",
      "A value is trying to be set on a copy of a slice from a DataFrame.\n",
      "Try using .loc[row_indexer,col_indexer] = value instead\n",
      "\n",
      "See the caveats in the documentation: https://pandas.pydata.org/pandas-docs/stable/user_guide/indexing.html#returning-a-view-versus-a-copy\n",
      "  filtered_data['MDEA4'] = None\n",
      "/tmp/ipykernel_348608/1024473335.py:151: FutureWarning: A value is trying to be set on a copy of a DataFrame or Series through chained assignment using an inplace method.\n",
      "The behavior will change in pandas 3.0. This inplace method will never work because the intermediate object on which we are setting values always behaves as a copy.\n",
      "\n",
      "For example, when doing 'df[col].method(value, inplace=True)', try using 'df.method({col: value}, inplace=True)' or df[col] = df[col].method(value) instead, to perform the operation inplace on the original object.\n",
      "\n",
      "\n",
      "  filtered_data['MDEA4'].fillna(99, inplace=True)\n",
      "/tmp/ipykernel_348608/1024473335.py:151: FutureWarning: Downcasting object dtype arrays on .fillna, .ffill, .bfill is deprecated and will change in a future version. Call result.infer_objects(copy=False) instead. To opt-in to the future behavior, set `pd.set_option('future.no_silent_downcasting', True)`\n",
      "  filtered_data['MDEA4'].fillna(99, inplace=True)\n",
      "/tmp/ipykernel_348608/1024473335.py:151: SettingWithCopyWarning: \n",
      "A value is trying to be set on a copy of a slice from a DataFrame\n",
      "\n",
      "See the caveats in the documentation: https://pandas.pydata.org/pandas-docs/stable/user_guide/indexing.html#returning-a-view-versus-a-copy\n",
      "  filtered_data['MDEA4'].fillna(99, inplace=True)\n",
      "/tmp/ipykernel_348608/1024473335.py:165: SettingWithCopyWarning: \n",
      "A value is trying to be set on a copy of a slice from a DataFrame.\n",
      "Try using .loc[row_indexer,col_indexer] = value instead\n",
      "\n",
      "See the caveats in the documentation: https://pandas.pydata.org/pandas-docs/stable/user_guide/indexing.html#returning-a-view-versus-a-copy\n",
      "  filtered_data['WRSLEP'] = None\n",
      "/tmp/ipykernel_348608/1024473335.py:170: FutureWarning: A value is trying to be set on a copy of a DataFrame or Series through chained assignment using an inplace method.\n",
      "The behavior will change in pandas 3.0. This inplace method will never work because the intermediate object on which we are setting values always behaves as a copy.\n",
      "\n",
      "For example, when doing 'df[col].method(value, inplace=True)', try using 'df.method({col: value}, inplace=True)' or df[col] = df[col].method(value) instead, to perform the operation inplace on the original object.\n",
      "\n",
      "\n",
      "  filtered_data['WRSLEP'].fillna(99, inplace=True)\n",
      "/tmp/ipykernel_348608/1024473335.py:170: FutureWarning: Downcasting object dtype arrays on .fillna, .ffill, .bfill is deprecated and will change in a future version. Call result.infer_objects(copy=False) instead. To opt-in to the future behavior, set `pd.set_option('future.no_silent_downcasting', True)`\n",
      "  filtered_data['WRSLEP'].fillna(99, inplace=True)\n",
      "/tmp/ipykernel_348608/1024473335.py:170: SettingWithCopyWarning: \n",
      "A value is trying to be set on a copy of a slice from a DataFrame\n",
      "\n",
      "See the caveats in the documentation: https://pandas.pydata.org/pandas-docs/stable/user_guide/indexing.html#returning-a-view-versus-a-copy\n",
      "  filtered_data['WRSLEP'].fillna(99, inplace=True)\n",
      "/tmp/ipykernel_348608/1024473335.py:184: SettingWithCopyWarning: \n",
      "A value is trying to be set on a copy of a slice from a DataFrame.\n",
      "Try using .loc[row_indexer,col_indexer] = value instead\n",
      "\n",
      "See the caveats in the documentation: https://pandas.pydata.org/pandas-docs/stable/user_guide/indexing.html#returning-a-view-versus-a-copy\n",
      "  filtered_data['WRSMOR'] = None\n",
      "/tmp/ipykernel_348608/1024473335.py:189: FutureWarning: A value is trying to be set on a copy of a DataFrame or Series through chained assignment using an inplace method.\n",
      "The behavior will change in pandas 3.0. This inplace method will never work because the intermediate object on which we are setting values always behaves as a copy.\n",
      "\n",
      "For example, when doing 'df[col].method(value, inplace=True)', try using 'df.method({col: value}, inplace=True)' or df[col] = df[col].method(value) instead, to perform the operation inplace on the original object.\n",
      "\n",
      "\n",
      "  filtered_data['WRSMOR'].fillna(99, inplace=True)\n",
      "/tmp/ipykernel_348608/1024473335.py:189: FutureWarning: Downcasting object dtype arrays on .fillna, .ffill, .bfill is deprecated and will change in a future version. Call result.infer_objects(copy=False) instead. To opt-in to the future behavior, set `pd.set_option('future.no_silent_downcasting', True)`\n",
      "  filtered_data['WRSMOR'].fillna(99, inplace=True)\n",
      "/tmp/ipykernel_348608/1024473335.py:189: SettingWithCopyWarning: \n",
      "A value is trying to be set on a copy of a slice from a DataFrame\n",
      "\n",
      "See the caveats in the documentation: https://pandas.pydata.org/pandas-docs/stable/user_guide/indexing.html#returning-a-view-versus-a-copy\n",
      "  filtered_data['WRSMOR'].fillna(99, inplace=True)\n",
      "/tmp/ipykernel_348608/1024473335.py:203: SettingWithCopyWarning: \n",
      "A value is trying to be set on a copy of a slice from a DataFrame.\n",
      "Try using .loc[row_indexer,col_indexer] = value instead\n",
      "\n",
      "See the caveats in the documentation: https://pandas.pydata.org/pandas-docs/stable/user_guide/indexing.html#returning-a-view-versus-a-copy\n",
      "  filtered_data['WRSATP'] = None\n",
      "/tmp/ipykernel_348608/1024473335.py:208: FutureWarning: A value is trying to be set on a copy of a DataFrame or Series through chained assignment using an inplace method.\n",
      "The behavior will change in pandas 3.0. This inplace method will never work because the intermediate object on which we are setting values always behaves as a copy.\n",
      "\n",
      "For example, when doing 'df[col].method(value, inplace=True)', try using 'df.method({col: value}, inplace=True)' or df[col] = df[col].method(value) instead, to perform the operation inplace on the original object.\n",
      "\n",
      "\n",
      "  filtered_data['WRSATP'].fillna(99, inplace=True)\n",
      "/tmp/ipykernel_348608/1024473335.py:208: FutureWarning: Downcasting object dtype arrays on .fillna, .ffill, .bfill is deprecated and will change in a future version. Call result.infer_objects(copy=False) instead. To opt-in to the future behavior, set `pd.set_option('future.no_silent_downcasting', True)`\n",
      "  filtered_data['WRSATP'].fillna(99, inplace=True)\n",
      "/tmp/ipykernel_348608/1024473335.py:208: SettingWithCopyWarning: \n",
      "A value is trying to be set on a copy of a slice from a DataFrame\n",
      "\n",
      "See the caveats in the documentation: https://pandas.pydata.org/pandas-docs/stable/user_guide/indexing.html#returning-a-view-versus-a-copy\n",
      "  filtered_data['WRSATP'].fillna(99, inplace=True)\n",
      "/tmp/ipykernel_348608/1024473335.py:220: SettingWithCopyWarning: \n",
      "A value is trying to be set on a copy of a slice from a DataFrame.\n",
      "Try using .loc[row_indexer,col_indexer] = value instead\n",
      "\n",
      "See the caveats in the documentation: https://pandas.pydata.org/pandas-docs/stable/user_guide/indexing.html#returning-a-view-versus-a-copy\n",
      "  filtered_data['WRSPLN'] = None\n",
      "/tmp/ipykernel_348608/1024473335.py:225: FutureWarning: A value is trying to be set on a copy of a DataFrame or Series through chained assignment using an inplace method.\n",
      "The behavior will change in pandas 3.0. This inplace method will never work because the intermediate object on which we are setting values always behaves as a copy.\n",
      "\n",
      "For example, when doing 'df[col].method(value, inplace=True)', try using 'df.method({col: value}, inplace=True)' or df[col] = df[col].method(value) instead, to perform the operation inplace on the original object.\n",
      "\n",
      "\n",
      "  filtered_data['WRSPLN'].fillna(99, inplace=True)\n",
      "/tmp/ipykernel_348608/1024473335.py:225: FutureWarning: Downcasting object dtype arrays on .fillna, .ffill, .bfill is deprecated and will change in a future version. Call result.infer_objects(copy=False) instead. To opt-in to the future behavior, set `pd.set_option('future.no_silent_downcasting', True)`\n",
      "  filtered_data['WRSPLN'].fillna(99, inplace=True)\n",
      "/tmp/ipykernel_348608/1024473335.py:225: SettingWithCopyWarning: \n",
      "A value is trying to be set on a copy of a slice from a DataFrame\n",
      "\n",
      "See the caveats in the documentation: https://pandas.pydata.org/pandas-docs/stable/user_guide/indexing.html#returning-a-view-versus-a-copy\n",
      "  filtered_data['WRSPLN'].fillna(99, inplace=True)\n",
      "/tmp/ipykernel_348608/1024473335.py:239: SettingWithCopyWarning: \n",
      "A value is trying to be set on a copy of a slice from a DataFrame.\n",
      "Try using .loc[row_indexer,col_indexer] = value instead\n",
      "\n",
      "See the caveats in the documentation: https://pandas.pydata.org/pandas-docs/stable/user_guide/indexing.html#returning-a-view-versus-a-copy\n",
      "  filtered_data['WRDLOT'] = None\n",
      "/tmp/ipykernel_348608/1024473335.py:244: FutureWarning: A value is trying to be set on a copy of a DataFrame or Series through chained assignment using an inplace method.\n",
      "The behavior will change in pandas 3.0. This inplace method will never work because the intermediate object on which we are setting values always behaves as a copy.\n",
      "\n",
      "For example, when doing 'df[col].method(value, inplace=True)', try using 'df.method({col: value}, inplace=True)' or df[col] = df[col].method(value) instead, to perform the operation inplace on the original object.\n",
      "\n",
      "\n",
      "  filtered_data['WRDLOT'].fillna(99, inplace=True)\n",
      "/tmp/ipykernel_348608/1024473335.py:244: FutureWarning: Downcasting object dtype arrays on .fillna, .ffill, .bfill is deprecated and will change in a future version. Call result.infer_objects(copy=False) instead. To opt-in to the future behavior, set `pd.set_option('future.no_silent_downcasting', True)`\n",
      "  filtered_data['WRDLOT'].fillna(99, inplace=True)\n",
      "/tmp/ipykernel_348608/1024473335.py:244: SettingWithCopyWarning: \n",
      "A value is trying to be set on a copy of a slice from a DataFrame\n",
      "\n",
      "See the caveats in the documentation: https://pandas.pydata.org/pandas-docs/stable/user_guide/indexing.html#returning-a-view-versus-a-copy\n",
      "  filtered_data['WRDLOT'].fillna(99, inplace=True)\n",
      "/tmp/ipykernel_348608/1024473335.py:258: SettingWithCopyWarning: \n",
      "A value is trying to be set on a copy of a slice from a DataFrame.\n",
      "Try using .loc[row_indexer,col_indexer] = value instead\n",
      "\n",
      "See the caveats in the documentation: https://pandas.pydata.org/pandas-docs/stable/user_guide/indexing.html#returning-a-view-versus-a-copy\n",
      "  filtered_data['WRSTHK'] = None\n",
      "/tmp/ipykernel_348608/1024473335.py:263: FutureWarning: A value is trying to be set on a copy of a DataFrame or Series through chained assignment using an inplace method.\n",
      "The behavior will change in pandas 3.0. This inplace method will never work because the intermediate object on which we are setting values always behaves as a copy.\n",
      "\n",
      "For example, when doing 'df[col].method(value, inplace=True)', try using 'df.method({col: value}, inplace=True)' or df[col] = df[col].method(value) instead, to perform the operation inplace on the original object.\n",
      "\n",
      "\n",
      "  filtered_data['WRSTHK'].fillna(99, inplace=True)\n",
      "/tmp/ipykernel_348608/1024473335.py:263: FutureWarning: Downcasting object dtype arrays on .fillna, .ffill, .bfill is deprecated and will change in a future version. Call result.infer_objects(copy=False) instead. To opt-in to the future behavior, set `pd.set_option('future.no_silent_downcasting', True)`\n",
      "  filtered_data['WRSTHK'].fillna(99, inplace=True)\n",
      "/tmp/ipykernel_348608/1024473335.py:263: SettingWithCopyWarning: \n",
      "A value is trying to be set on a copy of a slice from a DataFrame\n",
      "\n",
      "See the caveats in the documentation: https://pandas.pydata.org/pandas-docs/stable/user_guide/indexing.html#returning-a-view-versus-a-copy\n",
      "  filtered_data['WRSTHK'].fillna(99, inplace=True)\n",
      "/tmp/ipykernel_348608/1024473335.py:270: SettingWithCopyWarning: \n",
      "A value is trying to be set on a copy of a slice from a DataFrame.\n",
      "Try using .loc[row_indexer,col_indexer] = value instead\n",
      "\n",
      "See the caveats in the documentation: https://pandas.pydata.org/pandas-docs/stable/user_guide/indexing.html#returning-a-view-versus-a-copy\n",
      "  filtered_data['SOMA'] = 99\n"
     ]
    }
   ],
   "source": [
    "filtered_data.loc[filtered_data['ANYINDEX'] == -1.0000, 'ANYINDEX'] = 0.1429\n",
    "\n",
    "filtered_data.loc[filtered_data['COKECRACK'] == -1, 'COKECRACK'] = 1\n",
    "\n",
    "filtered_data.loc[filtered_data['MJGT12MO'] == -9, 'MJGT12MO'] = 1\n",
    "\n",
    "filtered_data.loc[filtered_data['COCGT12MO'] == -9, 'COCGT12MO'] = 1\n",
    "\n",
    "filtered_data.loc[filtered_data['ANYGT12MO'] == -9, 'ANYGT12MO'] = 1\n",
    "\n",
    "filtered_data.loc[filtered_data['ALCFMFPB'] == 83, 'ALCFMFPB'] = 2\n",
    "filtered_data.loc[filtered_data['ALCFMFPB'] == 91, 'ALCFMFPB'] = 2\n",
    "filtered_data.loc[filtered_data['ALCFMFPB'] == 93, 'ALCFMFPB'] = 2\n",
    "filtered_data.loc[filtered_data['ALCFMFPB'] == 94, 'ALCFMFPB'] = 1\n",
    "filtered_data.loc[filtered_data['ALCFMFPB'] == 97, 'ALCFMFPB'] = 1\n",
    "filtered_data.loc[filtered_data['ALCFMFPB'] == 98, 'ALCFMFPB'] = 1\n",
    "\n",
    "filtered_data.loc[filtered_data['WORKFORCE'] == -1, 'WORKFORCE'] = 0\n",
    "\n",
    "filtered_data.loc[filtered_data['MOVESPY2'] == 994, 'MOVESPY2'] = 2\n",
    "filtered_data.loc[filtered_data['MOVESPY2'] == 997, 'MOVESPY2'] = 1\n",
    "filtered_data.loc[filtered_data['MOVESPY2'] == 998, 'MOVESPY2'] = 3\n",
    "\n",
    "filtered_data.loc[filtered_data['CACHAR'] == -9, 'CACHAR'] = 3\n",
    "\n",
    "filtered_data.loc[filtered_data['CATYPE'] == -9, 'CATYPE'] = 1\n",
    "\n",
    "filtered_data.loc[filtered_data['CRIMEHIST'] == -1, 'CRIMEHIST'] = 1\n",
    "\n",
    "filtered_data.loc[filtered_data['ANYSDRUG'] == -1, 'ANYSDRUG'] = 1\n",
    "\n",
    "filtered_data.loc[filtered_data['ANYATTACK'] == -1, 'ANYATTACK'] = 1\n",
    "\n",
    "filtered_data.loc[filtered_data['ANYTHEFT'] == -1, 'ANYTHEFT'] = 1\n",
    "\n",
    "np.random.seed(0)\n",
    "missing_values = filtered_data[filtered_data['NUMARREST'] == -9].index\n",
    "new_values = np.random.choice([1, 2, 3], size=len(missing_values))\n",
    "filtered_data.loc[missing_values, 'NUMARREST'] = new_values\n",
    "\n",
    "filtered_data.loc[filtered_data['HEALTH2'] == -9, 'HEALTH2'] = 4\n",
    "\n",
    "filtered_data.loc[filtered_data['SCHDSICK'] == 89, 'SCHDSICK'] = 90\n",
    "filtered_data.loc[filtered_data['SCHDSICK'] == 94, 'SCHDSICK'] = 90\n",
    "filtered_data.loc[filtered_data['SCHDSICK'] == 97, 'SCHDSICK'] = 90\n",
    "filtered_data.loc[filtered_data['SCHDSICK'] == 98, 'SCHDSICK'] = 90\n",
    "\n",
    "filtered_data.loc[filtered_data['SCHDSKIP'] == 89, 'SCHDSKIP'] = 90\n",
    "filtered_data.loc[filtered_data['SCHDSKIP'] == 94, 'SCHDSKIP'] = 90\n",
    "filtered_data.loc[filtered_data['SCHDSKIP'] == 97, 'SCHDSKIP'] = 90\n",
    "filtered_data.loc[filtered_data['SCHDSKIP'] == 98, 'SCHDSKIP'] = 90\n",
    "\n",
    "filtered_data.loc[filtered_data['DSTCHEER'] == 85, 'DSTCHEER'] = 99\n",
    "filtered_data.loc[filtered_data['DSTCHEER'] == 94, 'DSTCHEER'] = 3\n",
    "filtered_data.loc[filtered_data['DSTCHEER'] == 97, 'DSTCHEER'] = 1\n",
    "filtered_data.loc[filtered_data['DSTCHEER'] == 98, 'DSTCHEER'] = 2\n",
    "\n",
    "filtered_data.loc[filtered_data['DSTNRVOS'] == 85, 'DSTNRVOS'] = 99\n",
    "filtered_data.loc[filtered_data['DSTNRVOS'] == 89, 'DSTNRVOS'] = 99\n",
    "filtered_data.loc[filtered_data['DSTNRVOS'] == 94, 'DSTNRVOS'] = 2\n",
    "filtered_data.loc[filtered_data['DSTNRVOS'] == 97, 'DSTNRVOS'] = 1\n",
    "filtered_data.loc[filtered_data['DSTNRVOS'] == 98, 'DSTNRVOS'] = 2\n",
    "\n",
    "filtered_data.loc[filtered_data['YO_MDEA6'] == 94, 'YO_MDEA6'] = 2\n",
    "filtered_data.loc[filtered_data['YO_MDEA6'] == 97, 'YO_MDEA6'] = 1\n",
    "\n",
    "filtered_data.loc[filtered_data['AD_MDEA6'] == 94, 'AD_MDEA6'] = 2\n",
    "filtered_data.loc[filtered_data['AD_MDEA6'] == 97, 'AD_MDEA6'] = 1\n",
    "\n",
    "mdea6_yo_1 = filtered_data[filtered_data['YO_MDEA6'] == 1].index\n",
    "mdea6_yo_2 = filtered_data[filtered_data['YO_MDEA6'] == 2].index\n",
    "mdea6_ad_1 = filtered_data[filtered_data['AD_MDEA6'] == 1].index\n",
    "mdea6_ad_2 = filtered_data[filtered_data['AD_MDEA6'] == 2].index\n",
    "filtered_data['MDEA6'] = None \n",
    "filtered_data.loc[mdea6_yo_1, 'MDEA6'] = 1\n",
    "filtered_data.loc[mdea6_yo_2, 'MDEA6'] = 2\n",
    "filtered_data.loc[mdea6_ad_1, 'MDEA6'] = 1\n",
    "filtered_data.loc[mdea6_ad_2, 'MDEA6'] = 2\n",
    "filtered_data['MDEA6'].fillna(99, inplace=True)\n",
    "\n",
    "filtered_data.loc[filtered_data['YOWRENRG'] == 94, 'YOWRENRG'] = 2\n",
    "filtered_data.loc[filtered_data['YOWRENRG'] == 97, 'YOWRENRG'] = 1\n",
    "filtered_data.loc[filtered_data['YOWRENRG'] == 98, 'YOWRENRG'] = 1\n",
    "\n",
    "filtered_data.loc[filtered_data['ADWRENRG'] == 94, 'ADWRENRG'] = 2\n",
    "filtered_data.loc[filtered_data['ADWRENRG'] == 97, 'ADWRENRG'] = 1\n",
    "filtered_data.loc[filtered_data['ADWRENRG'] == 98, 'ADWRENRG'] = 1\n",
    "\n",
    "wrenrg_yo_1 = filtered_data[filtered_data['YOWRENRG'] == 1].index\n",
    "wrenrg_yo_2 = filtered_data[filtered_data['YOWRENRG'] == 2].index\n",
    "wrenrg_ad_1 = filtered_data[filtered_data['ADWRENRG'] == 1].index\n",
    "wrenrg_ad_2 = filtered_data[filtered_data['ADWRENRG'] == 2].index\n",
    "filtered_data['WRENRG'] = None \n",
    "filtered_data.loc[wrenrg_yo_1, 'WRENRG'] = 1\n",
    "filtered_data.loc[wrenrg_yo_2, 'WRENRG'] = 2\n",
    "filtered_data.loc[wrenrg_ad_1, 'WRENRG'] = 1\n",
    "filtered_data.loc[wrenrg_ad_2, 'WRENRG'] = 2\n",
    "filtered_data['WRENRG'].fillna(99, inplace=True)\n",
    "\n",
    "filtered_data.loc[filtered_data['YO_MDEA3'] == 94, 'YO_MDEA3'] = 2\n",
    "filtered_data.loc[filtered_data['YO_MDEA3'] == 97, 'YO_MDEA3'] = 1\n",
    "\n",
    "filtered_data.loc[filtered_data['AD_MDEA3'] == 94, 'AD_MDEA3'] = 2\n",
    "filtered_data.loc[filtered_data['AD_MDEA3'] == 97, 'AD_MDEA3'] = 1\n",
    "\n",
    "mdea3_yo_1 = filtered_data[filtered_data['YO_MDEA3'] == 1].index\n",
    "mdea3_yo_2 = filtered_data[filtered_data['YO_MDEA3'] == 2].index\n",
    "mdea3_ad_1 = filtered_data[filtered_data['AD_MDEA3'] == 1].index\n",
    "mdea3_ad_2 = filtered_data[filtered_data['AD_MDEA3'] == 2].index\n",
    "filtered_data['MDEA3'] = None \n",
    "filtered_data.loc[mdea3_yo_1, 'MDEA3'] = 1\n",
    "filtered_data.loc[mdea3_yo_2, 'MDEA3'] = 2\n",
    "filtered_data.loc[mdea3_ad_1, 'MDEA3'] = 1\n",
    "filtered_data.loc[mdea3_ad_2, 'MDEA3'] = 2\n",
    "filtered_data['MDEA3'].fillna(99, inplace=True)\n",
    "\n",
    "filtered_data.loc[filtered_data['YOWRELES'] == 94, 'YOWRELES'] = 2\n",
    "filtered_data.loc[filtered_data['YOWRELES'] == 97, 'YOWRELES'] = 1\n",
    "filtered_data.loc[filtered_data['YOWRELES'] == 98, 'YOWRELES'] = 1\n",
    "\n",
    "filtered_data.loc[filtered_data['ADWRELES'] == 94, 'ADWRELES'] = 2\n",
    "filtered_data.loc[filtered_data['ADWRELES'] == 97, 'ADWRELES'] = 1\n",
    "filtered_data.loc[filtered_data['ADWRELES'] == 98, 'ADWRELES'] = 1\n",
    "\n",
    "wreles_yo_1 = filtered_data[filtered_data['YOWRENRG'] == 1].index\n",
    "wreles_yo_2 = filtered_data[filtered_data['YOWRENRG'] == 2].index\n",
    "wreles_ad_1 = filtered_data[filtered_data['ADWRENRG'] == 1].index\n",
    "wreles_ad_2 = filtered_data[filtered_data['ADWRENRG'] == 2].index\n",
    "filtered_data['WRELES'] = None \n",
    "filtered_data.loc[wreles_yo_1, 'WRELES'] = 1\n",
    "filtered_data.loc[wreles_yo_2, 'WRELES'] = 2\n",
    "filtered_data.loc[wreles_ad_1, 'WRELES'] = 1\n",
    "filtered_data.loc[wreles_ad_2, 'WRELES'] = 2\n",
    "filtered_data['WRELES'].fillna(99, inplace=True)\n",
    "\n",
    "filtered_data.loc[filtered_data['YO_MDEA4'] == 94, 'YO_MDEA4'] = 2\n",
    "filtered_data.loc[filtered_data['YO_MDEA4'] == 97, 'YO_MDEA4'] = 1\n",
    "\n",
    "filtered_data.loc[filtered_data['AD_MDEA4'] == 94, 'AD_MDEA4'] = 2\n",
    "filtered_data.loc[filtered_data['AD_MDEA4'] == 97, 'AD_MDEA4'] = 1\n",
    "\n",
    "mdea4_yo_1 = filtered_data[filtered_data['YO_MDEA4'] == 1].index\n",
    "mdea4_yo_2 = filtered_data[filtered_data['YO_MDEA4'] == 2].index\n",
    "mdea4_ad_1 = filtered_data[filtered_data['AD_MDEA4'] == 1].index\n",
    "mdea4_ad_2 = filtered_data[filtered_data['AD_MDEA4'] == 2].index\n",
    "filtered_data['MDEA4'] = None \n",
    "filtered_data.loc[mdea4_yo_1, 'MDEA4'] = 1\n",
    "filtered_data.loc[mdea4_yo_2, 'MDEA4'] = 2\n",
    "filtered_data.loc[mdea4_ad_1, 'MDEA4'] = 1\n",
    "filtered_data.loc[mdea4_ad_2, 'MDEA4'] = 2\n",
    "filtered_data['MDEA4'].fillna(99, inplace=True)\n",
    "\n",
    "filtered_data.loc[filtered_data['YOWRSLEP'] == 94, 'YOWRSLEP'] = 2\n",
    "filtered_data.loc[filtered_data['YOWRSLEP'] == 97, 'YOWRSLEP'] = 1\n",
    "filtered_data.loc[filtered_data['YOWRSLEP'] == 98, 'YOWRSLEP'] = 1\n",
    "\n",
    "filtered_data.loc[filtered_data['ADWRSLEP'] == 94, 'ADWRSLEP'] = 2\n",
    "filtered_data.loc[filtered_data['ADWRSLEP'] == 97, 'ADWRSLEP'] = 1\n",
    "filtered_data.loc[filtered_data['ADWRSLEP'] == 98, 'ADWRSLEP'] = 1\n",
    "\n",
    "wrslep_yo_1 = filtered_data[filtered_data['YOWRSLEP'] == 1].index\n",
    "wrslep_yo_2 = filtered_data[filtered_data['YOWRSLEP'] == 2].index\n",
    "wrslep_ad_1 = filtered_data[filtered_data['ADWRSLEP'] == 1].index\n",
    "wrslep_ad_2 = filtered_data[filtered_data['ADWRSLEP'] == 2].index\n",
    "filtered_data['WRSLEP'] = None \n",
    "filtered_data.loc[wrslep_yo_1, 'WRSLEP'] = 1\n",
    "filtered_data.loc[wrslep_yo_2, 'WRSLEP'] = 2\n",
    "filtered_data.loc[wrslep_ad_1, 'WRSLEP'] = 1\n",
    "filtered_data.loc[wrslep_ad_2, 'WRSLEP'] = 2\n",
    "filtered_data['WRSLEP'].fillna(99, inplace=True)\n",
    "\n",
    "filtered_data.loc[filtered_data['YOWRSMOR'] == 94, 'YOWRSMOR'] = 2\n",
    "filtered_data.loc[filtered_data['YOWRSMOR'] == 97, 'YOWRSMOR'] = 1\n",
    "filtered_data.loc[filtered_data['YOWRSMOR'] == 98, 'YOWRSMOR'] = 1\n",
    "\n",
    "filtered_data.loc[filtered_data['ADWRSMOR'] == 94, 'ADWRSMOR'] = 2\n",
    "filtered_data.loc[filtered_data['ADWRSMOR'] == 97, 'ADWRSMOR'] = 1\n",
    "filtered_data.loc[filtered_data['ADWRSMOR'] == 98, 'ADWRSMOR'] = 1\n",
    "\n",
    "wrsmor_yo_1 = filtered_data[filtered_data['YOWRSMOR'] == 1].index\n",
    "wrsmor_yo_2 = filtered_data[filtered_data['YOWRSMOR'] == 2].index\n",
    "wrsmor_ad_1 = filtered_data[filtered_data['ADWRSMOR'] == 1].index\n",
    "wrsmor_ad_2 = filtered_data[filtered_data['ADWRSMOR'] == 2].index\n",
    "filtered_data['WRSMOR'] = None \n",
    "filtered_data.loc[wrsmor_yo_1, 'WRSMOR'] = 1\n",
    "filtered_data.loc[wrsmor_yo_2, 'WRSMOR'] = 2\n",
    "filtered_data.loc[wrsmor_ad_1, 'WRSMOR'] = 1\n",
    "filtered_data.loc[wrsmor_ad_2, 'WRSMOR'] = 2\n",
    "filtered_data['WRSMOR'].fillna(99, inplace=True)\n",
    "\n",
    "filtered_data.loc[filtered_data['YOWRSATP'] == 94, 'YOWRSATP'] = 2\n",
    "filtered_data.loc[filtered_data['YOWRSATP'] == 97, 'YOWRSATP'] = 1\n",
    "filtered_data.loc[filtered_data['YOWRSATP'] == 98, 'YOWRSATP'] = 1\n",
    "\n",
    "filtered_data.loc[filtered_data['ADWRSATP'] == 94, 'ADWRSATP'] = 2\n",
    "filtered_data.loc[filtered_data['ADWRSATP'] == 97, 'ADWRSATP'] = 1\n",
    "filtered_data.loc[filtered_data['ADWRSATP'] == 98, 'ADWRSATP'] = 1\n",
    "\n",
    "wrsatp_yo_1 = filtered_data[filtered_data['YOWRSATP'] == 1].index\n",
    "wrsatp_yo_2 = filtered_data[filtered_data['YOWRSATP'] == 2].index\n",
    "wrsatp_ad_1 = filtered_data[filtered_data['ADWRSATP'] == 1].index\n",
    "wrsatp_ad_2 = filtered_data[filtered_data['ADWRSATP'] == 2].index\n",
    "filtered_data['WRSATP'] = None \n",
    "filtered_data.loc[wrsatp_yo_1, 'WRSATP'] = 1\n",
    "filtered_data.loc[wrsatp_yo_2, 'WRSATP'] = 2\n",
    "filtered_data.loc[wrsatp_ad_1, 'WRSATP'] = 1\n",
    "filtered_data.loc[wrsatp_ad_2, 'WRSATP'] = 2\n",
    "filtered_data['WRSATP'].fillna(99, inplace=True)\n",
    "\n",
    "filtered_data.loc[filtered_data['YOWRSPLN'] == 94, 'YOWRSPLN'] = 2\n",
    "filtered_data.loc[filtered_data['YOWRSPLN'] == 98, 'YOWRSPLN'] = 1\n",
    "\n",
    "filtered_data.loc[filtered_data['ADWRSPLN'] == 94, 'ADWRSPLN'] = 2\n",
    "filtered_data.loc[filtered_data['ADWRSPLN'] == 98, 'ADWRSPLN'] = 1\n",
    "\n",
    "wrspln_yo_1 = filtered_data[filtered_data['YOWRSPLN'] == 1].index\n",
    "wrspln_yo_2 = filtered_data[filtered_data['YOWRSPLN'] == 2].index\n",
    "wrspln_ad_1 = filtered_data[filtered_data['ADWRSPLN'] == 1].index\n",
    "wrspln_ad_2 = filtered_data[filtered_data['ADWRSPLN'] == 2].index\n",
    "filtered_data['WRSPLN'] = None \n",
    "filtered_data.loc[wrspln_yo_1, 'WRSPLN'] = 1\n",
    "filtered_data.loc[wrspln_yo_2, 'WRSPLN'] = 2\n",
    "filtered_data.loc[wrspln_ad_1, 'WRSPLN'] = 1\n",
    "filtered_data.loc[wrspln_ad_2, 'WRSPLN'] = 2\n",
    "filtered_data['WRSPLN'].fillna(99, inplace=True)\n",
    "\n",
    "filtered_data.loc[filtered_data['YOWRDLOT'] == 94, 'YOWRDLOT'] = 2\n",
    "filtered_data.loc[filtered_data['YOWRDLOT'] == 97, 'YOWRDLOT'] = 1\n",
    "filtered_data.loc[filtered_data['YOWRDLOT'] == 98, 'YOWRDLOT'] = 1\n",
    "\n",
    "filtered_data.loc[filtered_data['ADWRDLOT'] == 94, 'ADWRDLOT'] = 2\n",
    "filtered_data.loc[filtered_data['ADWRDLOT'] == 97, 'ADWRDLOT'] = 1\n",
    "filtered_data.loc[filtered_data['ADWRDLOT'] == 98, 'ADWRDLOT'] = 1\n",
    "\n",
    "wrdlot_yo_1 = filtered_data[filtered_data['YOWRSATP'] == 1].index\n",
    "wrdlot_yo_2 = filtered_data[filtered_data['YOWRSATP'] == 2].index\n",
    "wrdlot_ad_1 = filtered_data[filtered_data['ADWRDLOT'] == 1].index\n",
    "wrdlot_ad_2 = filtered_data[filtered_data['ADWRDLOT'] == 2].index\n",
    "filtered_data['WRDLOT'] = None \n",
    "filtered_data.loc[wrdlot_yo_1, 'WRDLOT'] = 1\n",
    "filtered_data.loc[wrdlot_yo_2, 'WRDLOT'] = 2\n",
    "filtered_data.loc[wrdlot_ad_1, 'WRDLOT'] = 1\n",
    "filtered_data.loc[wrdlot_ad_2, 'WRDLOT'] = 2\n",
    "filtered_data['WRDLOT'].fillna(99, inplace=True)\n",
    "\n",
    "filtered_data.loc[filtered_data['YOWRSTHK'] == 94, 'YOWRSTHK'] = 2\n",
    "filtered_data.loc[filtered_data['YOWRSTHK'] == 97, 'YOWRSTHK'] = 1\n",
    "filtered_data.loc[filtered_data['YOWRSTHK'] == 98, 'YOWRSTHK'] = 1\n",
    "\n",
    "filtered_data.loc[filtered_data['ADWRSTHK'] == 94, 'ADWRSTHK'] = 2\n",
    "filtered_data.loc[filtered_data['ADWRSTHK'] == 97, 'ADWRSTHK'] = 1\n",
    "filtered_data.loc[filtered_data['ADWRSTHK'] == 98, 'ADWRSTHK'] = 1\n",
    "\n",
    "wrsthk_yo_1 = filtered_data[filtered_data['YOWRSTHK'] == 1].index\n",
    "wrsthk_yo_2 = filtered_data[filtered_data['YOWRSTHK'] == 2].index\n",
    "wrsthk_ad_1 = filtered_data[filtered_data['ADWRSTHK'] == 1].index\n",
    "wrsthk_ad_2 = filtered_data[filtered_data['ADWRSTHK'] == 2].index\n",
    "filtered_data['WRSTHK'] = None \n",
    "filtered_data.loc[wrsthk_yo_1, 'WRSTHK'] = 1\n",
    "filtered_data.loc[wrsthk_yo_2, 'WRSTHK'] = 2\n",
    "filtered_data.loc[wrsthk_ad_1, 'WRSTHK'] = 1\n",
    "filtered_data.loc[wrsthk_ad_2, 'WRSTHK'] = 2\n",
    "filtered_data['WRSTHK'].fillna(99, inplace=True)\n",
    "\n",
    "filtered_data.loc[filtered_data['NOMARR2'] == 94, 'NOMARR2'] = 2\n",
    "filtered_data.loc[filtered_data['NOMARR2'] == 97, 'NOMARR2'] = 2\n",
    "\n",
    "filtered_data.loc[filtered_data['RKIDSHH'] == -1, 'RKIDSHH'] = 1\n",
    "\n",
    "filtered_data['SOMA'] = 99\n",
    "filtered_data.loc[(filtered_data['MDEA3'] == 1) & (filtered_data['MDEA4'] == 1) & (filtered_data['MDEA6'] == 1), 'SOMA'] = 1\n",
    "filtered_data.loc[(filtered_data['MDEA3'] == 2) | (filtered_data['MDEA4'] == 2) | (filtered_data['MDEA6'] == 2), 'SOMA'] = 0"
   ]
  },
  {
   "cell_type": "code",
   "execution_count": 8,
   "metadata": {},
   "outputs": [
    {
     "name": "stdout",
     "output_type": "stream",
     "text": [
      "Wartość 0 występuje w kolumnie 'SOMA' 2009 razy.\n"
     ]
    }
   ],
   "source": [
    "column_name = 'SOMA'\n",
    "value = 0\n",
    "\n",
    "count = filtered_data[column_name].value_counts().get(value, 0)\n",
    "print(f\"Wartość {value} występuje w kolumnie '{column_name}' {count} razy.\")"
   ]
  },
  {
   "cell_type": "markdown",
   "metadata": {},
   "source": [
    "## FAZA I - analiza czynnikowa i eksploracja"
   ]
  },
  {
   "cell_type": "markdown",
   "metadata": {},
   "source": [
    "### Wstępnie wybrane cechy"
   ]
  },
  {
   "cell_type": "markdown",
   "metadata": {},
   "source": [
    "Wstępnie wybranymi cechami są:\n",
    "\n",
    "- `ANYINDEX` - ANY DRUG DEPENDENCY INDEX\n",
    "- `IREDUC2` - RECODE - IMPUTATION REVISED EDUCATION\n",
    "- `EMPSTAT4` - IMPUTATION REVISED EMPLOYMENT STATUS 18+\n",
    "- `ANYTHEFT` - DID YOUTH OR ADULT STEAL/ATTEMPT STEAL ANYTHING WORTH > $50 W/IN PAST 12\n",
    "MONTHS?\n",
    "- `DSTCHEER` - HOW OFTEN COULDN'T BE CHEERED UP IN WORST MONTH\n",
    "- `HEALTH2` - OVERALL HEALTH RECODE\n",
    "- `IRMARIT` - IMPUTATION REVISED MARITAL STATUS\n",
    "\n",
    "Jednym z czynników, które brałem pod uwagę przy doborze cech, był procent `missing value` w całości danej cechy. Cechy gdzie ten procent przekraczał 50\\% nie były brane pod uwagę"
   ]
  },
  {
   "cell_type": "markdown",
   "metadata": {},
   "source": [
    "Analiza wpływu danej cechy na poziom depresji za pomoca modelu `ols` oraz przedstawienie wyników na wykresie"
   ]
  },
  {
   "cell_type": "code",
   "execution_count": 9,
   "metadata": {},
   "outputs": [
    {
     "data": {
      "text/html": [
       "<table class=\"simpletable\">\n",
       "<caption>OLS Regression Results</caption>\n",
       "<tr>\n",
       "  <th>Dep. Variable:</th>     <td>DEPRESSIONINDEX</td> <th>  R-squared:         </th> <td>   0.020</td> \n",
       "</tr>\n",
       "<tr>\n",
       "  <th>Model:</th>                   <td>OLS</td>       <th>  Adj. R-squared:    </th> <td>   0.020</td> \n",
       "</tr>\n",
       "<tr>\n",
       "  <th>Method:</th>             <td>Least Squares</td>  <th>  F-statistic:       </th> <td>   62.90</td> \n",
       "</tr>\n",
       "<tr>\n",
       "  <th>Date:</th>             <td>Sun, 26 Jan 2025</td> <th>  Prob (F-statistic):</th> <td>3.20e-152</td>\n",
       "</tr>\n",
       "<tr>\n",
       "  <th>Time:</th>                 <td>18:30:38</td>     <th>  Log-Likelihood:    </th> <td> -89228.</td> \n",
       "</tr>\n",
       "<tr>\n",
       "  <th>No. Observations:</th>      <td> 36972</td>      <th>  AIC:               </th> <td>1.785e+05</td>\n",
       "</tr>\n",
       "<tr>\n",
       "  <th>Df Residuals:</th>          <td> 36959</td>      <th>  BIC:               </th> <td>1.786e+05</td>\n",
       "</tr>\n",
       "<tr>\n",
       "  <th>Df Model:</th>              <td>    12</td>      <th>                     </th>     <td> </td>    \n",
       "</tr>\n",
       "<tr>\n",
       "  <th>Covariance Type:</th>      <td>nonrobust</td>    <th>                     </th>     <td> </td>    \n",
       "</tr>\n",
       "</table>\n",
       "<table class=\"simpletable\">\n",
       "<tr>\n",
       "                  <td></td>                    <th>coef</th>     <th>std err</th>      <th>t</th>      <th>P>|t|</th>  <th>[0.025</th>    <th>0.975]</th>  \n",
       "</tr>\n",
       "<tr>\n",
       "  <th>Intercept</th>                        <td>    1.1119</td> <td>    0.015</td> <td>   75.220</td> <td> 0.000</td> <td>    1.083</td> <td>    1.141</td>\n",
       "</tr>\n",
       "<tr>\n",
       "  <th>C(ANYINDEX)[T.0.1429]</th>            <td>   -0.0774</td> <td>    0.502</td> <td>   -0.154</td> <td> 0.877</td> <td>   -1.062</td> <td>    0.907</td>\n",
       "</tr>\n",
       "<tr>\n",
       "  <th>C(ANYINDEX)[T.0.166666666666667]</th> <td>    0.4308</td> <td>    0.081</td> <td>    5.333</td> <td> 0.000</td> <td>    0.272</td> <td>    0.589</td>\n",
       "</tr>\n",
       "<tr>\n",
       "  <th>C(ANYINDEX)[T.0.285714285714286]</th> <td>    1.8237</td> <td>    0.191</td> <td>    9.558</td> <td> 0.000</td> <td>    1.450</td> <td>    2.198</td>\n",
       "</tr>\n",
       "<tr>\n",
       "  <th>C(ANYINDEX)[T.0.333333333333333]</th> <td>    0.6639</td> <td>    0.093</td> <td>    7.114</td> <td> 0.000</td> <td>    0.481</td> <td>    0.847</td>\n",
       "</tr>\n",
       "<tr>\n",
       "  <th>C(ANYINDEX)[T.0.428571428571429]</th> <td>    2.0739</td> <td>    0.255</td> <td>    8.140</td> <td> 0.000</td> <td>    1.575</td> <td>    2.573</td>\n",
       "</tr>\n",
       "<tr>\n",
       "  <th>C(ANYINDEX)[T.0.5]</th>               <td>    0.9995</td> <td>    0.131</td> <td>    7.625</td> <td> 0.000</td> <td>    0.743</td> <td>    1.256</td>\n",
       "</tr>\n",
       "<tr>\n",
       "  <th>C(ANYINDEX)[T.0.571428571428571]</th> <td>    2.0934</td> <td>    0.256</td> <td>    8.181</td> <td> 0.000</td> <td>    1.592</td> <td>    2.595</td>\n",
       "</tr>\n",
       "<tr>\n",
       "  <th>C(ANYINDEX)[T.0.666666666666667]</th> <td>    1.5573</td> <td>    0.169</td> <td>    9.199</td> <td> 0.000</td> <td>    1.226</td> <td>    1.889</td>\n",
       "</tr>\n",
       "<tr>\n",
       "  <th>C(ANYINDEX)[T.0.714285714285714]</th> <td>    2.2858</td> <td>    0.289</td> <td>    7.921</td> <td> 0.000</td> <td>    1.720</td> <td>    2.851</td>\n",
       "</tr>\n",
       "<tr>\n",
       "  <th>C(ANYINDEX)[T.0.833333333333333]</th> <td>    1.8001</td> <td>    0.242</td> <td>    7.430</td> <td> 0.000</td> <td>    1.325</td> <td>    2.275</td>\n",
       "</tr>\n",
       "<tr>\n",
       "  <th>C(ANYINDEX)[T.0.857142857142857]</th> <td>    3.2935</td> <td>    0.315</td> <td>   10.467</td> <td> 0.000</td> <td>    2.677</td> <td>    3.910</td>\n",
       "</tr>\n",
       "<tr>\n",
       "  <th>C(ANYINDEX)[T.1.0]</th>               <td>    3.6675</td> <td>    0.328</td> <td>   11.174</td> <td> 0.000</td> <td>    3.024</td> <td>    4.311</td>\n",
       "</tr>\n",
       "</table>\n",
       "<table class=\"simpletable\">\n",
       "<tr>\n",
       "  <th>Omnibus:</th>       <td>12059.351</td> <th>  Durbin-Watson:     </th> <td>   2.002</td> \n",
       "</tr>\n",
       "<tr>\n",
       "  <th>Prob(Omnibus):</th>  <td> 0.000</td>   <th>  Jarque-Bera (JB):  </th> <td>28834.764</td>\n",
       "</tr>\n",
       "<tr>\n",
       "  <th>Skew:</th>           <td> 1.903</td>   <th>  Prob(JB):          </th> <td>    0.00</td> \n",
       "</tr>\n",
       "<tr>\n",
       "  <th>Kurtosis:</th>       <td> 5.057</td>   <th>  Cond. No.          </th> <td>    35.8</td> \n",
       "</tr>\n",
       "</table><br/><br/>Notes:<br/>[1] Standard Errors assume that the covariance matrix of the errors is correctly specified."
      ],
      "text/latex": [
       "\\begin{center}\n",
       "\\begin{tabular}{lclc}\n",
       "\\toprule\n",
       "\\textbf{Dep. Variable:}                   & DEPRESSIONINDEX  & \\textbf{  R-squared:         } &     0.020   \\\\\n",
       "\\textbf{Model:}                           &       OLS        & \\textbf{  Adj. R-squared:    } &     0.020   \\\\\n",
       "\\textbf{Method:}                          &  Least Squares   & \\textbf{  F-statistic:       } &     62.90   \\\\\n",
       "\\textbf{Date:}                            & Sun, 26 Jan 2025 & \\textbf{  Prob (F-statistic):} & 3.20e-152   \\\\\n",
       "\\textbf{Time:}                            &     18:30:38     & \\textbf{  Log-Likelihood:    } &   -89228.   \\\\\n",
       "\\textbf{No. Observations:}                &       36972      & \\textbf{  AIC:               } & 1.785e+05   \\\\\n",
       "\\textbf{Df Residuals:}                    &       36959      & \\textbf{  BIC:               } & 1.786e+05   \\\\\n",
       "\\textbf{Df Model:}                        &          12      & \\textbf{                     } &             \\\\\n",
       "\\textbf{Covariance Type:}                 &    nonrobust     & \\textbf{                     } &             \\\\\n",
       "\\bottomrule\n",
       "\\end{tabular}\n",
       "\\begin{tabular}{lcccccc}\n",
       "                                          & \\textbf{coef} & \\textbf{std err} & \\textbf{t} & \\textbf{P$> |$t$|$} & \\textbf{[0.025} & \\textbf{0.975]}  \\\\\n",
       "\\midrule\n",
       "\\textbf{Intercept}                        &       1.1119  &        0.015     &    75.220  &         0.000        &        1.083    &        1.141     \\\\\n",
       "\\textbf{C(ANYINDEX)[T.0.1429]}            &      -0.0774  &        0.502     &    -0.154  &         0.877        &       -1.062    &        0.907     \\\\\n",
       "\\textbf{C(ANYINDEX)[T.0.166666666666667]} &       0.4308  &        0.081     &     5.333  &         0.000        &        0.272    &        0.589     \\\\\n",
       "\\textbf{C(ANYINDEX)[T.0.285714285714286]} &       1.8237  &        0.191     &     9.558  &         0.000        &        1.450    &        2.198     \\\\\n",
       "\\textbf{C(ANYINDEX)[T.0.333333333333333]} &       0.6639  &        0.093     &     7.114  &         0.000        &        0.481    &        0.847     \\\\\n",
       "\\textbf{C(ANYINDEX)[T.0.428571428571429]} &       2.0739  &        0.255     &     8.140  &         0.000        &        1.575    &        2.573     \\\\\n",
       "\\textbf{C(ANYINDEX)[T.0.5]}               &       0.9995  &        0.131     &     7.625  &         0.000        &        0.743    &        1.256     \\\\\n",
       "\\textbf{C(ANYINDEX)[T.0.571428571428571]} &       2.0934  &        0.256     &     8.181  &         0.000        &        1.592    &        2.595     \\\\\n",
       "\\textbf{C(ANYINDEX)[T.0.666666666666667]} &       1.5573  &        0.169     &     9.199  &         0.000        &        1.226    &        1.889     \\\\\n",
       "\\textbf{C(ANYINDEX)[T.0.714285714285714]} &       2.2858  &        0.289     &     7.921  &         0.000        &        1.720    &        2.851     \\\\\n",
       "\\textbf{C(ANYINDEX)[T.0.833333333333333]} &       1.8001  &        0.242     &     7.430  &         0.000        &        1.325    &        2.275     \\\\\n",
       "\\textbf{C(ANYINDEX)[T.0.857142857142857]} &       3.2935  &        0.315     &    10.467  &         0.000        &        2.677    &        3.910     \\\\\n",
       "\\textbf{C(ANYINDEX)[T.1.0]}               &       3.6675  &        0.328     &    11.174  &         0.000        &        3.024    &        4.311     \\\\\n",
       "\\bottomrule\n",
       "\\end{tabular}\n",
       "\\begin{tabular}{lclc}\n",
       "\\textbf{Omnibus:}       & 12059.351 & \\textbf{  Durbin-Watson:     } &     2.002  \\\\\n",
       "\\textbf{Prob(Omnibus):} &    0.000  & \\textbf{  Jarque-Bera (JB):  } & 28834.764  \\\\\n",
       "\\textbf{Skew:}          &    1.903  & \\textbf{  Prob(JB):          } &      0.00  \\\\\n",
       "\\textbf{Kurtosis:}      &    5.057  & \\textbf{  Cond. No.          } &      35.8  \\\\\n",
       "\\bottomrule\n",
       "\\end{tabular}\n",
       "%\\caption{OLS Regression Results}\n",
       "\\end{center}\n",
       "\n",
       "Notes: \\newline\n",
       " [1] Standard Errors assume that the covariance matrix of the errors is correctly specified."
      ],
      "text/plain": [
       "<class 'statsmodels.iolib.summary.Summary'>\n",
       "\"\"\"\n",
       "                            OLS Regression Results                            \n",
       "==============================================================================\n",
       "Dep. Variable:        DEPRESSIONINDEX   R-squared:                       0.020\n",
       "Model:                            OLS   Adj. R-squared:                  0.020\n",
       "Method:                 Least Squares   F-statistic:                     62.90\n",
       "Date:                Sun, 26 Jan 2025   Prob (F-statistic):          3.20e-152\n",
       "Time:                        18:30:38   Log-Likelihood:                -89228.\n",
       "No. Observations:               36972   AIC:                         1.785e+05\n",
       "Df Residuals:                   36959   BIC:                         1.786e+05\n",
       "Df Model:                          12                                         \n",
       "Covariance Type:            nonrobust                                         \n",
       "====================================================================================================\n",
       "                                       coef    std err          t      P>|t|      [0.025      0.975]\n",
       "----------------------------------------------------------------------------------------------------\n",
       "Intercept                            1.1119      0.015     75.220      0.000       1.083       1.141\n",
       "C(ANYINDEX)[T.0.1429]               -0.0774      0.502     -0.154      0.877      -1.062       0.907\n",
       "C(ANYINDEX)[T.0.166666666666667]     0.4308      0.081      5.333      0.000       0.272       0.589\n",
       "C(ANYINDEX)[T.0.285714285714286]     1.8237      0.191      9.558      0.000       1.450       2.198\n",
       "C(ANYINDEX)[T.0.333333333333333]     0.6639      0.093      7.114      0.000       0.481       0.847\n",
       "C(ANYINDEX)[T.0.428571428571429]     2.0739      0.255      8.140      0.000       1.575       2.573\n",
       "C(ANYINDEX)[T.0.5]                   0.9995      0.131      7.625      0.000       0.743       1.256\n",
       "C(ANYINDEX)[T.0.571428571428571]     2.0934      0.256      8.181      0.000       1.592       2.595\n",
       "C(ANYINDEX)[T.0.666666666666667]     1.5573      0.169      9.199      0.000       1.226       1.889\n",
       "C(ANYINDEX)[T.0.714285714285714]     2.2858      0.289      7.921      0.000       1.720       2.851\n",
       "C(ANYINDEX)[T.0.833333333333333]     1.8001      0.242      7.430      0.000       1.325       2.275\n",
       "C(ANYINDEX)[T.0.857142857142857]     3.2935      0.315     10.467      0.000       2.677       3.910\n",
       "C(ANYINDEX)[T.1.0]                   3.6675      0.328     11.174      0.000       3.024       4.311\n",
       "==============================================================================\n",
       "Omnibus:                    12059.351   Durbin-Watson:                   2.002\n",
       "Prob(Omnibus):                  0.000   Jarque-Bera (JB):            28834.764\n",
       "Skew:                           1.903   Prob(JB):                         0.00\n",
       "Kurtosis:                       5.057   Cond. No.                         35.8\n",
       "==============================================================================\n",
       "\n",
       "Notes:\n",
       "[1] Standard Errors assume that the covariance matrix of the errors is correctly specified.\n",
       "\"\"\""
      ]
     },
     "execution_count": 9,
     "metadata": {},
     "output_type": "execute_result"
    }
   ],
   "source": [
    "formula = \"\"\"\n",
    "DEPRESSIONINDEX ~ C(ANYINDEX)\n",
    "\"\"\"\n",
    "model = ols(formula=formula, data=filtered_data)\n",
    "res = model.fit()\n",
    "res.summary()\n",
    "\n"
   ]
  },
  {
   "cell_type": "code",
   "execution_count": 10,
   "metadata": {},
   "outputs": [
    {
     "data": {
      "image/png": "[encoded data removed]",
      "text/plain": [
       "<Figure size 800x600 with 1 Axes>"
      ]
     },
     "metadata": {},
     "output_type": "display_data"
    }
   ],
   "source": [
    "coef = res.params\n",
    "errors = res.bse\n",
    "\n",
    "intercept = coef.loc['Intercept']\n",
    "adjusted_coef = coef.copy()\n",
    "adjusted_coef[1:] += intercept\n",
    "\n",
    "coef_df = pd.DataFrame({\n",
    "    'Coefficient': adjusted_coef.index,\n",
    "    'Value': adjusted_coef.values,\n",
    "})\n",
    "\n",
    "plt.figure(figsize=(8, 6))\n",
    "sns.barplot(\n",
    "    data=coef_df, \n",
    "    y='Value', \n",
    "    x='Coefficient',  \n",
    "    color='skyblue', \n",
    "    edgecolor='black'\n",
    ")\n",
    "\n",
    "for i in range(len(coef_df)):\n",
    "    plt.errorbar(\n",
    "        coef_df['Coefficient'][i], \n",
    "        coef_df['Value'][i], \n",
    "        fmt='o', \n",
    "        color='black'\n",
    "    )\n",
    "\n",
    "plt.title('Regression Coefficients')\n",
    "plt.ylabel('Coefficient Value')\n",
    "plt.xlabel('Variable')\n",
    "plt.tight_layout()\n",
    "plt.show()\n"
   ]
  },
  {
   "cell_type": "markdown",
   "metadata": {},
   "source": [
    "Analizując powyższy wykres przedstawiający wartości coef dla DEPRESSIONINDEX ~ ANYINDEX, można zauważyć, że im większe uzależnienie od narkotyków tym osoba ma skłonność do wpadnięcia w głębszą depresję. W środkowej części wykresu widać pewne oscylacje, jednak im większy współczynnik uzależnienia tym one maleją a wartości wzrastają. Patrząc na wyniki z modelu OLS, dla wszystkich segmentów możemy odrzucić hipotezę zerową oprócz wartości ANYINDEX = 0.1429, gdzie p-value = 0.877 co znacząco przekracza graniczną wartość 0.05. Jednak mimo tego widać, że czynnik ANYINDEX ma znaczący wpływ na poziom depresji. "
   ]
  },
  {
   "cell_type": "code",
   "execution_count": 11,
   "metadata": {},
   "outputs": [
    {
     "data": {
      "text/html": [
       "<table class=\"simpletable\">\n",
       "<caption>OLS Regression Results</caption>\n",
       "<tr>\n",
       "  <th>Dep. Variable:</th>     <td>DEPRESSIONINDEX</td> <th>  R-squared:         </th> <td>   0.010</td> \n",
       "</tr>\n",
       "<tr>\n",
       "  <th>Model:</th>                   <td>OLS</td>       <th>  Adj. R-squared:    </th> <td>   0.010</td> \n",
       "</tr>\n",
       "<tr>\n",
       "  <th>Method:</th>             <td>Least Squares</td>  <th>  F-statistic:       </th> <td>   36.61</td> \n",
       "</tr>\n",
       "<tr>\n",
       "  <th>Date:</th>             <td>Sun, 26 Jan 2025</td> <th>  Prob (F-statistic):</th> <td>3.65e-72</td> \n",
       "</tr>\n",
       "<tr>\n",
       "  <th>Time:</th>                 <td>18:30:42</td>     <th>  Log-Likelihood:    </th> <td> -89419.</td> \n",
       "</tr>\n",
       "<tr>\n",
       "  <th>No. Observations:</th>      <td> 36972</td>      <th>  AIC:               </th> <td>1.789e+05</td>\n",
       "</tr>\n",
       "<tr>\n",
       "  <th>Df Residuals:</th>          <td> 36961</td>      <th>  BIC:               </th> <td>1.790e+05</td>\n",
       "</tr>\n",
       "<tr>\n",
       "  <th>Df Model:</th>              <td>    10</td>      <th>                     </th>     <td> </td>    \n",
       "</tr>\n",
       "<tr>\n",
       "  <th>Covariance Type:</th>      <td>nonrobust</td>    <th>                     </th>     <td> </td>    \n",
       "</tr>\n",
       "</table>\n",
       "<table class=\"simpletable\">\n",
       "<tr>\n",
       "          <td></td>            <th>coef</th>     <th>std err</th>      <th>t</th>      <th>P>|t|</th>  <th>[0.025</th>    <th>0.975]</th>  \n",
       "</tr>\n",
       "<tr>\n",
       "  <th>Intercept</th>        <td>    0.4486</td> <td>    0.074</td> <td>    6.072</td> <td> 0.000</td> <td>    0.304</td> <td>    0.593</td>\n",
       "</tr>\n",
       "<tr>\n",
       "  <th>C(IREDUC2)[T.2]</th>  <td>    0.2094</td> <td>    0.089</td> <td>    2.361</td> <td> 0.018</td> <td>    0.036</td> <td>    0.383</td>\n",
       "</tr>\n",
       "<tr>\n",
       "  <th>C(IREDUC2)[T.3]</th>  <td>    0.4537</td> <td>    0.088</td> <td>    5.157</td> <td> 0.000</td> <td>    0.281</td> <td>    0.626</td>\n",
       "</tr>\n",
       "<tr>\n",
       "  <th>C(IREDUC2)[T.4]</th>  <td>    0.7988</td> <td>    0.087</td> <td>    9.186</td> <td> 0.000</td> <td>    0.628</td> <td>    0.969</td>\n",
       "</tr>\n",
       "<tr>\n",
       "  <th>C(IREDUC2)[T.5]</th>  <td>    0.8199</td> <td>    0.087</td> <td>    9.468</td> <td> 0.000</td> <td>    0.650</td> <td>    0.990</td>\n",
       "</tr>\n",
       "<tr>\n",
       "  <th>C(IREDUC2)[T.6]</th>  <td>    1.0148</td> <td>    0.087</td> <td>   11.686</td> <td> 0.000</td> <td>    0.845</td> <td>    1.185</td>\n",
       "</tr>\n",
       "<tr>\n",
       "  <th>C(IREDUC2)[T.7]</th>  <td>    0.9336</td> <td>    0.088</td> <td>   10.610</td> <td> 0.000</td> <td>    0.761</td> <td>    1.106</td>\n",
       "</tr>\n",
       "<tr>\n",
       "  <th>C(IREDUC2)[T.8]</th>  <td>    0.8495</td> <td>    0.081</td> <td>   10.453</td> <td> 0.000</td> <td>    0.690</td> <td>    1.009</td>\n",
       "</tr>\n",
       "<tr>\n",
       "  <th>C(IREDUC2)[T.9]</th>  <td>    0.9794</td> <td>    0.096</td> <td>   10.208</td> <td> 0.000</td> <td>    0.791</td> <td>    1.167</td>\n",
       "</tr>\n",
       "<tr>\n",
       "  <th>C(IREDUC2)[T.10]</th> <td>    0.9976</td> <td>    0.088</td> <td>   11.363</td> <td> 0.000</td> <td>    0.826</td> <td>    1.170</td>\n",
       "</tr>\n",
       "<tr>\n",
       "  <th>C(IREDUC2)[T.11]</th> <td>    0.8100</td> <td>    0.086</td> <td>    9.380</td> <td> 0.000</td> <td>    0.641</td> <td>    0.979</td>\n",
       "</tr>\n",
       "</table>\n",
       "<table class=\"simpletable\">\n",
       "<tr>\n",
       "  <th>Omnibus:</th>       <td>12098.086</td> <th>  Durbin-Watson:     </th> <td>   2.009</td> \n",
       "</tr>\n",
       "<tr>\n",
       "  <th>Prob(Omnibus):</th>  <td> 0.000</td>   <th>  Jarque-Bera (JB):  </th> <td>28854.115</td>\n",
       "</tr>\n",
       "<tr>\n",
       "  <th>Skew:</th>           <td> 1.916</td>   <th>  Prob(JB):          </th> <td>    0.00</td> \n",
       "</tr>\n",
       "<tr>\n",
       "  <th>Kurtosis:</th>       <td> 5.010</td>   <th>  Cond. No.          </th> <td>    18.5</td> \n",
       "</tr>\n",
       "</table><br/><br/>Notes:<br/>[1] Standard Errors assume that the covariance matrix of the errors is correctly specified."
      ],
      "text/latex": [
       "\\begin{center}\n",
       "\\begin{tabular}{lclc}\n",
       "\\toprule\n",
       "\\textbf{Dep. Variable:}    & DEPRESSIONINDEX  & \\textbf{  R-squared:         } &     0.010   \\\\\n",
       "\\textbf{Model:}            &       OLS        & \\textbf{  Adj. R-squared:    } &     0.010   \\\\\n",
       "\\textbf{Method:}           &  Least Squares   & \\textbf{  F-statistic:       } &     36.61   \\\\\n",
       "\\textbf{Date:}             & Sun, 26 Jan 2025 & \\textbf{  Prob (F-statistic):} &  3.65e-72   \\\\\n",
       "\\textbf{Time:}             &     18:30:42     & \\textbf{  Log-Likelihood:    } &   -89419.   \\\\\n",
       "\\textbf{No. Observations:} &       36972      & \\textbf{  AIC:               } & 1.789e+05   \\\\\n",
       "\\textbf{Df Residuals:}     &       36961      & \\textbf{  BIC:               } & 1.790e+05   \\\\\n",
       "\\textbf{Df Model:}         &          10      & \\textbf{                     } &             \\\\\n",
       "\\textbf{Covariance Type:}  &    nonrobust     & \\textbf{                     } &             \\\\\n",
       "\\bottomrule\n",
       "\\end{tabular}\n",
       "\\begin{tabular}{lcccccc}\n",
       "                          & \\textbf{coef} & \\textbf{std err} & \\textbf{t} & \\textbf{P$> |$t$|$} & \\textbf{[0.025} & \\textbf{0.975]}  \\\\\n",
       "\\midrule\n",
       "\\textbf{Intercept}        &       0.4486  &        0.074     &     6.072  &         0.000        &        0.304    &        0.593     \\\\\n",
       "\\textbf{C(IREDUC2)[T.2]}  &       0.2094  &        0.089     &     2.361  &         0.018        &        0.036    &        0.383     \\\\\n",
       "\\textbf{C(IREDUC2)[T.3]}  &       0.4537  &        0.088     &     5.157  &         0.000        &        0.281    &        0.626     \\\\\n",
       "\\textbf{C(IREDUC2)[T.4]}  &       0.7988  &        0.087     &     9.186  &         0.000        &        0.628    &        0.969     \\\\\n",
       "\\textbf{C(IREDUC2)[T.5]}  &       0.8199  &        0.087     &     9.468  &         0.000        &        0.650    &        0.990     \\\\\n",
       "\\textbf{C(IREDUC2)[T.6]}  &       1.0148  &        0.087     &    11.686  &         0.000        &        0.845    &        1.185     \\\\\n",
       "\\textbf{C(IREDUC2)[T.7]}  &       0.9336  &        0.088     &    10.610  &         0.000        &        0.761    &        1.106     \\\\\n",
       "\\textbf{C(IREDUC2)[T.8]}  &       0.8495  &        0.081     &    10.453  &         0.000        &        0.690    &        1.009     \\\\\n",
       "\\textbf{C(IREDUC2)[T.9]}  &       0.9794  &        0.096     &    10.208  &         0.000        &        0.791    &        1.167     \\\\\n",
       "\\textbf{C(IREDUC2)[T.10]} &       0.9976  &        0.088     &    11.363  &         0.000        &        0.826    &        1.170     \\\\\n",
       "\\textbf{C(IREDUC2)[T.11]} &       0.8100  &        0.086     &     9.380  &         0.000        &        0.641    &        0.979     \\\\\n",
       "\\bottomrule\n",
       "\\end{tabular}\n",
       "\\begin{tabular}{lclc}\n",
       "\\textbf{Omnibus:}       & 12098.086 & \\textbf{  Durbin-Watson:     } &     2.009  \\\\\n",
       "\\textbf{Prob(Omnibus):} &    0.000  & \\textbf{  Jarque-Bera (JB):  } & 28854.115  \\\\\n",
       "\\textbf{Skew:}          &    1.916  & \\textbf{  Prob(JB):          } &      0.00  \\\\\n",
       "\\textbf{Kurtosis:}      &    5.010  & \\textbf{  Cond. No.          } &      18.5  \\\\\n",
       "\\bottomrule\n",
       "\\end{tabular}\n",
       "%\\caption{OLS Regression Results}\n",
       "\\end{center}\n",
       "\n",
       "Notes: \\newline\n",
       " [1] Standard Errors assume that the covariance matrix of the errors is correctly specified."
      ],
      "text/plain": [
       "<class 'statsmodels.iolib.summary.Summary'>\n",
       "\"\"\"\n",
       "                            OLS Regression Results                            \n",
       "==============================================================================\n",
       "Dep. Variable:        DEPRESSIONINDEX   R-squared:                       0.010\n",
       "Model:                            OLS   Adj. R-squared:                  0.010\n",
       "Method:                 Least Squares   F-statistic:                     36.61\n",
       "Date:                Sun, 26 Jan 2025   Prob (F-statistic):           3.65e-72\n",
       "Time:                        18:30:42   Log-Likelihood:                -89419.\n",
       "No. Observations:               36972   AIC:                         1.789e+05\n",
       "Df Residuals:                   36961   BIC:                         1.790e+05\n",
       "Df Model:                          10                                         \n",
       "Covariance Type:            nonrobust                                         \n",
       "====================================================================================\n",
       "                       coef    std err          t      P>|t|      [0.025      0.975]\n",
       "------------------------------------------------------------------------------------\n",
       "Intercept            0.4486      0.074      6.072      0.000       0.304       0.593\n",
       "C(IREDUC2)[T.2]      0.2094      0.089      2.361      0.018       0.036       0.383\n",
       "C(IREDUC2)[T.3]      0.4537      0.088      5.157      0.000       0.281       0.626\n",
       "C(IREDUC2)[T.4]      0.7988      0.087      9.186      0.000       0.628       0.969\n",
       "C(IREDUC2)[T.5]      0.8199      0.087      9.468      0.000       0.650       0.990\n",
       "C(IREDUC2)[T.6]      1.0148      0.087     11.686      0.000       0.845       1.185\n",
       "C(IREDUC2)[T.7]      0.9336      0.088     10.610      0.000       0.761       1.106\n",
       "C(IREDUC2)[T.8]      0.8495      0.081     10.453      0.000       0.690       1.009\n",
       "C(IREDUC2)[T.9]      0.9794      0.096     10.208      0.000       0.791       1.167\n",
       "C(IREDUC2)[T.10]     0.9976      0.088     11.363      0.000       0.826       1.170\n",
       "C(IREDUC2)[T.11]     0.8100      0.086      9.380      0.000       0.641       0.979\n",
       "==============================================================================\n",
       "Omnibus:                    12098.086   Durbin-Watson:                   2.009\n",
       "Prob(Omnibus):                  0.000   Jarque-Bera (JB):            28854.115\n",
       "Skew:                           1.916   Prob(JB):                         0.00\n",
       "Kurtosis:                       5.010   Cond. No.                         18.5\n",
       "==============================================================================\n",
       "\n",
       "Notes:\n",
       "[1] Standard Errors assume that the covariance matrix of the errors is correctly specified.\n",
       "\"\"\""
      ]
     },
     "execution_count": 11,
     "metadata": {},
     "output_type": "execute_result"
    }
   ],
   "source": [
    "formula = \"\"\"\n",
    "DEPRESSIONINDEX ~ C(IREDUC2)\n",
    "\"\"\"\n",
    "model = ols(formula=formula, data=filtered_data)\n",
    "res = model.fit()\n",
    "res.summary()"
   ]
  },
  {
   "cell_type": "code",
   "execution_count": 12,
   "metadata": {},
   "outputs": [
    {
     "data": {
      "image/png": "[encoded data removed]",
      "text/plain": [
       "<Figure size 800x600 with 1 Axes>"
      ]
     },
     "metadata": {},
     "output_type": "display_data"
    }
   ],
   "source": [
    "coef = res.params\n",
    "errors = res.bse\n",
    "\n",
    "intercept = coef.loc['Intercept']\n",
    "adjusted_coef = coef.copy()\n",
    "adjusted_coef[1:] += intercept\n",
    "\n",
    "coef_df = pd.DataFrame({\n",
    "    'Coefficient': adjusted_coef.index,\n",
    "    'Value': adjusted_coef.values,\n",
    "})\n",
    "\n",
    "plt.figure(figsize=(8, 6))\n",
    "sns.barplot(\n",
    "    data=coef_df, \n",
    "    y='Value', \n",
    "    x='Coefficient',  \n",
    "    color='skyblue', \n",
    "    edgecolor='black'\n",
    ")\n",
    "\n",
    "for i in range(len(coef_df)):\n",
    "    plt.errorbar(\n",
    "        coef_df['Coefficient'][i], \n",
    "        coef_df['Value'][i], \n",
    "        fmt='o', \n",
    "        color='black'\n",
    "    )\n",
    "\n",
    "plt.title('Regression Coefficients')\n",
    "plt.ylabel('Coefficient Value')\n",
    "plt.xlabel('Variable')\n",
    "plt.tight_layout()\n",
    "plt.show()"
   ]
  },
  {
   "cell_type": "markdown",
   "metadata": {},
   "source": [
    "Analizując powyższy wykres przedstawiający wartości coef dla DEPRESSIONINDEX ~ IREDUC, można zauważyć, że im większe wykształcenie do pewnego momentu, tym osoba ma skłonność do wpadnięcia w głębszą depresję. Następnie od wartości IREDUC2 = 4 ten współczynnik depresji utrzymuje się na równym poziomie z małymi oscylacjami. Patrząc na wyniki z modelu OLS, dla wszystkich segmentów możemy odrzucić hipotezę zerową oprócz wartości IREDUC2 = 2, gdzie p-value = 0.018 co przekracza graniczną wartość 0.05. Jednak mimo tego widać, że czynnik IREDUC2 ma znaczący wpływ na poziom depresji i jest to wartość od tego czynnika zależna"
   ]
  },
  {
   "cell_type": "code",
   "execution_count": 13,
   "metadata": {},
   "outputs": [
    {
     "data": {
      "text/html": [
       "<table class=\"simpletable\">\n",
       "<caption>OLS Regression Results</caption>\n",
       "<tr>\n",
       "  <th>Dep. Variable:</th>     <td>DEPRESSIONINDEX</td> <th>  R-squared:         </th> <td>   0.002</td> \n",
       "</tr>\n",
       "<tr>\n",
       "  <th>Model:</th>                   <td>OLS</td>       <th>  Adj. R-squared:    </th> <td>   0.002</td> \n",
       "</tr>\n",
       "<tr>\n",
       "  <th>Method:</th>             <td>Least Squares</td>  <th>  F-statistic:       </th> <td>   17.04</td> \n",
       "</tr>\n",
       "<tr>\n",
       "  <th>Date:</th>             <td>Sun, 26 Jan 2025</td> <th>  Prob (F-statistic):</th> <td>5.75e-14</td> \n",
       "</tr>\n",
       "<tr>\n",
       "  <th>Time:</th>                 <td>18:30:45</td>     <th>  Log-Likelihood:    </th> <td> -89567.</td> \n",
       "</tr>\n",
       "<tr>\n",
       "  <th>No. Observations:</th>      <td> 36972</td>      <th>  AIC:               </th> <td>1.791e+05</td>\n",
       "</tr>\n",
       "<tr>\n",
       "  <th>Df Residuals:</th>          <td> 36967</td>      <th>  BIC:               </th> <td>1.792e+05</td>\n",
       "</tr>\n",
       "<tr>\n",
       "  <th>Df Model:</th>              <td>     4</td>      <th>                     </th>     <td> </td>    \n",
       "</tr>\n",
       "<tr>\n",
       "  <th>Covariance Type:</th>      <td>nonrobust</td>    <th>                     </th>     <td> </td>    \n",
       "</tr>\n",
       "</table>\n",
       "<table class=\"simpletable\">\n",
       "<tr>\n",
       "          <td></td>             <th>coef</th>     <th>std err</th>      <th>t</th>      <th>P>|t|</th>  <th>[0.025</th>    <th>0.975]</th>  \n",
       "</tr>\n",
       "<tr>\n",
       "  <th>Intercept</th>         <td>    1.2413</td> <td>    0.028</td> <td>   45.097</td> <td> 0.000</td> <td>    1.187</td> <td>    1.295</td>\n",
       "</tr>\n",
       "<tr>\n",
       "  <th>C(EMPSTAT4)[T.2]</th>  <td>    0.2037</td> <td>    0.054</td> <td>    3.800</td> <td> 0.000</td> <td>    0.099</td> <td>    0.309</td>\n",
       "</tr>\n",
       "<tr>\n",
       "  <th>C(EMPSTAT4)[T.3]</th>  <td>    0.2627</td> <td>    0.086</td> <td>    3.061</td> <td> 0.002</td> <td>    0.094</td> <td>    0.431</td>\n",
       "</tr>\n",
       "<tr>\n",
       "  <th>C(EMPSTAT4)[T.4]</th>  <td>    0.0534</td> <td>    0.050</td> <td>    1.063</td> <td> 0.288</td> <td>   -0.045</td> <td>    0.152</td>\n",
       "</tr>\n",
       "<tr>\n",
       "  <th>C(EMPSTAT4)[T.99]</th> <td>   -0.1293</td> <td>    0.034</td> <td>   -3.790</td> <td> 0.000</td> <td>   -0.196</td> <td>   -0.062</td>\n",
       "</tr>\n",
       "</table>\n",
       "<table class=\"simpletable\">\n",
       "<tr>\n",
       "  <th>Omnibus:</th>       <td>12302.274</td> <th>  Durbin-Watson:     </th> <td>   2.007</td> \n",
       "</tr>\n",
       "<tr>\n",
       "  <th>Prob(Omnibus):</th>  <td> 0.000</td>   <th>  Jarque-Bera (JB):  </th> <td>29751.894</td>\n",
       "</tr>\n",
       "<tr>\n",
       "  <th>Skew:</th>           <td> 1.942</td>   <th>  Prob(JB):          </th> <td>    0.00</td> \n",
       "</tr>\n",
       "<tr>\n",
       "  <th>Kurtosis:</th>       <td> 5.057</td>   <th>  Cond. No.          </th> <td>    7.22</td> \n",
       "</tr>\n",
       "</table><br/><br/>Notes:<br/>[1] Standard Errors assume that the covariance matrix of the errors is correctly specified."
      ],
      "text/latex": [
       "\\begin{center}\n",
       "\\begin{tabular}{lclc}\n",
       "\\toprule\n",
       "\\textbf{Dep. Variable:}    & DEPRESSIONINDEX  & \\textbf{  R-squared:         } &     0.002   \\\\\n",
       "\\textbf{Model:}            &       OLS        & \\textbf{  Adj. R-squared:    } &     0.002   \\\\\n",
       "\\textbf{Method:}           &  Least Squares   & \\textbf{  F-statistic:       } &     17.04   \\\\\n",
       "\\textbf{Date:}             & Sun, 26 Jan 2025 & \\textbf{  Prob (F-statistic):} &  5.75e-14   \\\\\n",
       "\\textbf{Time:}             &     18:30:45     & \\textbf{  Log-Likelihood:    } &   -89567.   \\\\\n",
       "\\textbf{No. Observations:} &       36972      & \\textbf{  AIC:               } & 1.791e+05   \\\\\n",
       "\\textbf{Df Residuals:}     &       36967      & \\textbf{  BIC:               } & 1.792e+05   \\\\\n",
       "\\textbf{Df Model:}         &           4      & \\textbf{                     } &             \\\\\n",
       "\\textbf{Covariance Type:}  &    nonrobust     & \\textbf{                     } &             \\\\\n",
       "\\bottomrule\n",
       "\\end{tabular}\n",
       "\\begin{tabular}{lcccccc}\n",
       "                           & \\textbf{coef} & \\textbf{std err} & \\textbf{t} & \\textbf{P$> |$t$|$} & \\textbf{[0.025} & \\textbf{0.975]}  \\\\\n",
       "\\midrule\n",
       "\\textbf{Intercept}         &       1.2413  &        0.028     &    45.097  &         0.000        &        1.187    &        1.295     \\\\\n",
       "\\textbf{C(EMPSTAT4)[T.2]}  &       0.2037  &        0.054     &     3.800  &         0.000        &        0.099    &        0.309     \\\\\n",
       "\\textbf{C(EMPSTAT4)[T.3]}  &       0.2627  &        0.086     &     3.061  &         0.002        &        0.094    &        0.431     \\\\\n",
       "\\textbf{C(EMPSTAT4)[T.4]}  &       0.0534  &        0.050     &     1.063  &         0.288        &       -0.045    &        0.152     \\\\\n",
       "\\textbf{C(EMPSTAT4)[T.99]} &      -0.1293  &        0.034     &    -3.790  &         0.000        &       -0.196    &       -0.062     \\\\\n",
       "\\bottomrule\n",
       "\\end{tabular}\n",
       "\\begin{tabular}{lclc}\n",
       "\\textbf{Omnibus:}       & 12302.274 & \\textbf{  Durbin-Watson:     } &     2.007  \\\\\n",
       "\\textbf{Prob(Omnibus):} &    0.000  & \\textbf{  Jarque-Bera (JB):  } & 29751.894  \\\\\n",
       "\\textbf{Skew:}          &    1.942  & \\textbf{  Prob(JB):          } &      0.00  \\\\\n",
       "\\textbf{Kurtosis:}      &    5.057  & \\textbf{  Cond. No.          } &      7.22  \\\\\n",
       "\\bottomrule\n",
       "\\end{tabular}\n",
       "%\\caption{OLS Regression Results}\n",
       "\\end{center}\n",
       "\n",
       "Notes: \\newline\n",
       " [1] Standard Errors assume that the covariance matrix of the errors is correctly specified."
      ],
      "text/plain": [
       "<class 'statsmodels.iolib.summary.Summary'>\n",
       "\"\"\"\n",
       "                            OLS Regression Results                            \n",
       "==============================================================================\n",
       "Dep. Variable:        DEPRESSIONINDEX   R-squared:                       0.002\n",
       "Model:                            OLS   Adj. R-squared:                  0.002\n",
       "Method:                 Least Squares   F-statistic:                     17.04\n",
       "Date:                Sun, 26 Jan 2025   Prob (F-statistic):           5.75e-14\n",
       "Time:                        18:30:45   Log-Likelihood:                -89567.\n",
       "No. Observations:               36972   AIC:                         1.791e+05\n",
       "Df Residuals:                   36967   BIC:                         1.792e+05\n",
       "Df Model:                           4                                         \n",
       "Covariance Type:            nonrobust                                         \n",
       "=====================================================================================\n",
       "                        coef    std err          t      P>|t|      [0.025      0.975]\n",
       "-------------------------------------------------------------------------------------\n",
       "Intercept             1.2413      0.028     45.097      0.000       1.187       1.295\n",
       "C(EMPSTAT4)[T.2]      0.2037      0.054      3.800      0.000       0.099       0.309\n",
       "C(EMPSTAT4)[T.3]      0.2627      0.086      3.061      0.002       0.094       0.431\n",
       "C(EMPSTAT4)[T.4]      0.0534      0.050      1.063      0.288      -0.045       0.152\n",
       "C(EMPSTAT4)[T.99]    -0.1293      0.034     -3.790      0.000      -0.196      -0.062\n",
       "==============================================================================\n",
       "Omnibus:                    12302.274   Durbin-Watson:                   2.007\n",
       "Prob(Omnibus):                  0.000   Jarque-Bera (JB):            29751.894\n",
       "Skew:                           1.942   Prob(JB):                         0.00\n",
       "Kurtosis:                       5.057   Cond. No.                         7.22\n",
       "==============================================================================\n",
       "\n",
       "Notes:\n",
       "[1] Standard Errors assume that the covariance matrix of the errors is correctly specified.\n",
       "\"\"\""
      ]
     },
     "execution_count": 13,
     "metadata": {},
     "output_type": "execute_result"
    }
   ],
   "source": [
    "formula = \"\"\"\n",
    "DEPRESSIONINDEX ~ C(EMPSTAT4)\n",
    "\"\"\"\n",
    "model = ols(formula=formula, data=filtered_data)\n",
    "res = model.fit()\n",
    "res.summary()"
   ]
  },
  {
   "cell_type": "code",
   "execution_count": 14,
   "metadata": {},
   "outputs": [
    {
     "data": {
      "image/png": "[encoded data removed]",
      "text/plain": [
       "<Figure size 800x600 with 1 Axes>"
      ]
     },
     "metadata": {},
     "output_type": "display_data"
    }
   ],
   "source": [
    "coef = res.params\n",
    "errors = res.bse\n",
    "\n",
    "intercept = coef.loc['Intercept']\n",
    "adjusted_coef = coef.copy()\n",
    "adjusted_coef[1:] += intercept\n",
    "\n",
    "coef_df = pd.DataFrame({\n",
    "    'Coefficient': adjusted_coef.index,\n",
    "    'Value': adjusted_coef.values,\n",
    "})\n",
    "\n",
    "plt.figure(figsize=(8, 6))\n",
    "sns.barplot(\n",
    "    data=coef_df, \n",
    "    y='Value', \n",
    "    x='Coefficient',  \n",
    "    color='skyblue', \n",
    "    edgecolor='black'\n",
    ")\n",
    "\n",
    "for i in range(len(coef_df)):\n",
    "    plt.errorbar(\n",
    "        coef_df['Coefficient'][i], \n",
    "        coef_df['Value'][i], \n",
    "        fmt='o', \n",
    "        color='black'\n",
    "    )\n",
    "\n",
    "plt.title('Regression Coefficients')\n",
    "plt.ylabel('Coefficient Value')\n",
    "plt.xlabel('Variable')\n",
    "plt.tight_layout()\n",
    "plt.show()"
   ]
  },
  {
   "cell_type": "markdown",
   "metadata": {},
   "source": [
    "Analizując powyższy wykres przedstawiający wartości coef dla DEPRESSIONINDEX ~ EMPSTAT4, można zauważyć, że rodzaj zatrudnienia ma wpływ na poziom depresji. Osoby bezrobotne mają większą tendencję do popadania w nią od osób, które pracują na stałe, na pół etatu lub nie były brane pod uwagę w tym pytaniu. Analizując wyniki otrzymane z modelu OLS, wynika że wartość DEPRESSIONINDEX jest zależna od EMPSTAT4 oprócz EMPSTAT4 = 4, gdzie są osoby, których działalność ciężko zdefiniować. Dla tej wartości p-value = 0.288, co uniemożliwia nam odrzucenie hipotezy zerowej, ponieważ nie jesteśmy w jasny sposób określić, czy ta wartość jest ściśle zależna"
   ]
  },
  {
   "cell_type": "code",
   "execution_count": 15,
   "metadata": {},
   "outputs": [
    {
     "data": {
      "text/html": [
       "<table class=\"simpletable\">\n",
       "<caption>OLS Regression Results</caption>\n",
       "<tr>\n",
       "  <th>Dep. Variable:</th>     <td>DEPRESSIONINDEX</td> <th>  R-squared:         </th> <td>   0.003</td> \n",
       "</tr>\n",
       "<tr>\n",
       "  <th>Model:</th>                   <td>OLS</td>       <th>  Adj. R-squared:    </th> <td>   0.003</td> \n",
       "</tr>\n",
       "<tr>\n",
       "  <th>Method:</th>             <td>Least Squares</td>  <th>  F-statistic:       </th> <td>   109.5</td> \n",
       "</tr>\n",
       "<tr>\n",
       "  <th>Date:</th>             <td>Sun, 26 Jan 2025</td> <th>  Prob (F-statistic):</th> <td>1.34e-25</td> \n",
       "</tr>\n",
       "<tr>\n",
       "  <th>Time:</th>                 <td>18:30:49</td>     <th>  Log-Likelihood:    </th> <td> -89547.</td> \n",
       "</tr>\n",
       "<tr>\n",
       "  <th>No. Observations:</th>      <td> 36972</td>      <th>  AIC:               </th> <td>1.791e+05</td>\n",
       "</tr>\n",
       "<tr>\n",
       "  <th>Df Residuals:</th>          <td> 36970</td>      <th>  BIC:               </th> <td>1.791e+05</td>\n",
       "</tr>\n",
       "<tr>\n",
       "  <th>Df Model:</th>              <td>     1</td>      <th>                     </th>     <td> </td>    \n",
       "</tr>\n",
       "<tr>\n",
       "  <th>Covariance Type:</th>      <td>nonrobust</td>    <th>                     </th>     <td> </td>    \n",
       "</tr>\n",
       "</table>\n",
       "<table class=\"simpletable\">\n",
       "<tr>\n",
       "          <td></td>            <th>coef</th>     <th>std err</th>      <th>t</th>      <th>P>|t|</th>  <th>[0.025</th>    <th>0.975]</th>  \n",
       "</tr>\n",
       "<tr>\n",
       "  <th>Intercept</th>        <td>    1.1833</td> <td>    0.014</td> <td>   82.040</td> <td> 0.000</td> <td>    1.155</td> <td>    1.212</td>\n",
       "</tr>\n",
       "<tr>\n",
       "  <th>C(ANYTHEFT)[T.1]</th> <td>    0.8273</td> <td>    0.079</td> <td>   10.466</td> <td> 0.000</td> <td>    0.672</td> <td>    0.982</td>\n",
       "</tr>\n",
       "</table>\n",
       "<table class=\"simpletable\">\n",
       "<tr>\n",
       "  <th>Omnibus:</th>       <td>12274.824</td> <th>  Durbin-Watson:     </th> <td>   2.008</td> \n",
       "</tr>\n",
       "<tr>\n",
       "  <th>Prob(Omnibus):</th>  <td> 0.000</td>   <th>  Jarque-Bera (JB):  </th> <td>29630.044</td>\n",
       "</tr>\n",
       "<tr>\n",
       "  <th>Skew:</th>           <td> 1.938</td>   <th>  Prob(JB):          </th> <td>    0.00</td> \n",
       "</tr>\n",
       "<tr>\n",
       "  <th>Kurtosis:</th>       <td> 5.051</td>   <th>  Cond. No.          </th> <td>    5.58</td> \n",
       "</tr>\n",
       "</table><br/><br/>Notes:<br/>[1] Standard Errors assume that the covariance matrix of the errors is correctly specified."
      ],
      "text/latex": [
       "\\begin{center}\n",
       "\\begin{tabular}{lclc}\n",
       "\\toprule\n",
       "\\textbf{Dep. Variable:}    & DEPRESSIONINDEX  & \\textbf{  R-squared:         } &     0.003   \\\\\n",
       "\\textbf{Model:}            &       OLS        & \\textbf{  Adj. R-squared:    } &     0.003   \\\\\n",
       "\\textbf{Method:}           &  Least Squares   & \\textbf{  F-statistic:       } &     109.5   \\\\\n",
       "\\textbf{Date:}             & Sun, 26 Jan 2025 & \\textbf{  Prob (F-statistic):} &  1.34e-25   \\\\\n",
       "\\textbf{Time:}             &     18:30:49     & \\textbf{  Log-Likelihood:    } &   -89547.   \\\\\n",
       "\\textbf{No. Observations:} &       36972      & \\textbf{  AIC:               } & 1.791e+05   \\\\\n",
       "\\textbf{Df Residuals:}     &       36970      & \\textbf{  BIC:               } & 1.791e+05   \\\\\n",
       "\\textbf{Df Model:}         &           1      & \\textbf{                     } &             \\\\\n",
       "\\textbf{Covariance Type:}  &    nonrobust     & \\textbf{                     } &             \\\\\n",
       "\\bottomrule\n",
       "\\end{tabular}\n",
       "\\begin{tabular}{lcccccc}\n",
       "                          & \\textbf{coef} & \\textbf{std err} & \\textbf{t} & \\textbf{P$> |$t$|$} & \\textbf{[0.025} & \\textbf{0.975]}  \\\\\n",
       "\\midrule\n",
       "\\textbf{Intercept}        &       1.1833  &        0.014     &    82.040  &         0.000        &        1.155    &        1.212     \\\\\n",
       "\\textbf{C(ANYTHEFT)[T.1]} &       0.8273  &        0.079     &    10.466  &         0.000        &        0.672    &        0.982     \\\\\n",
       "\\bottomrule\n",
       "\\end{tabular}\n",
       "\\begin{tabular}{lclc}\n",
       "\\textbf{Omnibus:}       & 12274.824 & \\textbf{  Durbin-Watson:     } &     2.008  \\\\\n",
       "\\textbf{Prob(Omnibus):} &    0.000  & \\textbf{  Jarque-Bera (JB):  } & 29630.044  \\\\\n",
       "\\textbf{Skew:}          &    1.938  & \\textbf{  Prob(JB):          } &      0.00  \\\\\n",
       "\\textbf{Kurtosis:}      &    5.051  & \\textbf{  Cond. No.          } &      5.58  \\\\\n",
       "\\bottomrule\n",
       "\\end{tabular}\n",
       "%\\caption{OLS Regression Results}\n",
       "\\end{center}\n",
       "\n",
       "Notes: \\newline\n",
       " [1] Standard Errors assume that the covariance matrix of the errors is correctly specified."
      ],
      "text/plain": [
       "<class 'statsmodels.iolib.summary.Summary'>\n",
       "\"\"\"\n",
       "                            OLS Regression Results                            \n",
       "==============================================================================\n",
       "Dep. Variable:        DEPRESSIONINDEX   R-squared:                       0.003\n",
       "Model:                            OLS   Adj. R-squared:                  0.003\n",
       "Method:                 Least Squares   F-statistic:                     109.5\n",
       "Date:                Sun, 26 Jan 2025   Prob (F-statistic):           1.34e-25\n",
       "Time:                        18:30:49   Log-Likelihood:                -89547.\n",
       "No. Observations:               36972   AIC:                         1.791e+05\n",
       "Df Residuals:                   36970   BIC:                         1.791e+05\n",
       "Df Model:                           1                                         \n",
       "Covariance Type:            nonrobust                                         \n",
       "====================================================================================\n",
       "                       coef    std err          t      P>|t|      [0.025      0.975]\n",
       "------------------------------------------------------------------------------------\n",
       "Intercept            1.1833      0.014     82.040      0.000       1.155       1.212\n",
       "C(ANYTHEFT)[T.1]     0.8273      0.079     10.466      0.000       0.672       0.982\n",
       "==============================================================================\n",
       "Omnibus:                    12274.824   Durbin-Watson:                   2.008\n",
       "Prob(Omnibus):                  0.000   Jarque-Bera (JB):            29630.044\n",
       "Skew:                           1.938   Prob(JB):                         0.00\n",
       "Kurtosis:                       5.051   Cond. No.                         5.58\n",
       "==============================================================================\n",
       "\n",
       "Notes:\n",
       "[1] Standard Errors assume that the covariance matrix of the errors is correctly specified.\n",
       "\"\"\""
      ]
     },
     "execution_count": 15,
     "metadata": {},
     "output_type": "execute_result"
    }
   ],
   "source": [
    "formula = \"\"\"\n",
    "DEPRESSIONINDEX ~ C(ANYTHEFT)\n",
    "\"\"\"\n",
    "model = ols(formula=formula, data=filtered_data)\n",
    "res = model.fit()\n",
    "res.summary()"
   ]
  },
  {
   "cell_type": "code",
   "execution_count": 16,
   "metadata": {},
   "outputs": [
    {
     "data": {
      "image/png": "[encoded data removed]",
      "text/plain": [
       "<Figure size 800x600 with 1 Axes>"
      ]
     },
     "metadata": {},
     "output_type": "display_data"
    }
   ],
   "source": [
    "coef = res.params\n",
    "errors = res.bse\n",
    "\n",
    "intercept = coef.loc['Intercept']\n",
    "adjusted_coef = coef.copy()\n",
    "adjusted_coef[1:] += intercept\n",
    "\n",
    "coef_df = pd.DataFrame({\n",
    "    'Coefficient': adjusted_coef.index,\n",
    "    'Value': adjusted_coef.values,\n",
    "})\n",
    "\n",
    "plt.figure(figsize=(8, 6))\n",
    "sns.barplot(\n",
    "    data=coef_df, \n",
    "    y='Value', \n",
    "    x='Coefficient',  \n",
    "    color='skyblue', \n",
    "    edgecolor='black'\n",
    ")\n",
    "\n",
    "for i in range(len(coef_df)):\n",
    "    plt.errorbar(\n",
    "        coef_df['Coefficient'][i], \n",
    "        coef_df['Value'][i], \n",
    "        fmt='o', \n",
    "        color='black'\n",
    "    )\n",
    "\n",
    "plt.title('Regression Coefficients')\n",
    "plt.ylabel('Coefficient Value')\n",
    "plt.xlabel('Variable')\n",
    "plt.tight_layout()\n",
    "plt.show()"
   ]
  },
  {
   "cell_type": "markdown",
   "metadata": {},
   "source": [
    "Analizując powyższy wykres przedstawiający wartości coef dla DEPRESSIONINDEX ~ ANYTHEFT, można zauważyć, że osoby, które popełniły kiedykolwiek jakieś przestępstwo mają większą skłonność do depresji, niż osoby, które nie popełniły żadnego wykroczenia. Analizując model OLS widać, że DEPRESSIONINDEX jest silnie zależne od tego czynnika"
   ]
  },
  {
   "cell_type": "code",
   "execution_count": 17,
   "metadata": {},
   "outputs": [
    {
     "data": {
      "text/html": [
       "<table class=\"simpletable\">\n",
       "<caption>OLS Regression Results</caption>\n",
       "<tr>\n",
       "  <th>Dep. Variable:</th>     <td>DEPRESSIONINDEX</td> <th>  R-squared:         </th> <td>   0.122</td> \n",
       "</tr>\n",
       "<tr>\n",
       "  <th>Model:</th>                   <td>OLS</td>       <th>  Adj. R-squared:    </th> <td>   0.122</td> \n",
       "</tr>\n",
       "<tr>\n",
       "  <th>Method:</th>             <td>Least Squares</td>  <th>  F-statistic:       </th> <td>   1026.</td> \n",
       "</tr>\n",
       "<tr>\n",
       "  <th>Date:</th>             <td>Sun, 26 Jan 2025</td> <th>  Prob (F-statistic):</th>  <td>  0.00</td>  \n",
       "</tr>\n",
       "<tr>\n",
       "  <th>Time:</th>                 <td>18:30:55</td>     <th>  Log-Likelihood:    </th> <td> -87199.</td> \n",
       "</tr>\n",
       "<tr>\n",
       "  <th>No. Observations:</th>      <td> 36972</td>      <th>  AIC:               </th> <td>1.744e+05</td>\n",
       "</tr>\n",
       "<tr>\n",
       "  <th>Df Residuals:</th>          <td> 36966</td>      <th>  BIC:               </th> <td>1.745e+05</td>\n",
       "</tr>\n",
       "<tr>\n",
       "  <th>Df Model:</th>              <td>     5</td>      <th>                     </th>     <td> </td>    \n",
       "</tr>\n",
       "<tr>\n",
       "  <th>Covariance Type:</th>      <td>nonrobust</td>    <th>                     </th>     <td> </td>    \n",
       "</tr>\n",
       "</table>\n",
       "<table class=\"simpletable\">\n",
       "<tr>\n",
       "          <td></td>             <th>coef</th>     <th>std err</th>      <th>t</th>      <th>P>|t|</th>  <th>[0.025</th>    <th>0.975]</th>  \n",
       "</tr>\n",
       "<tr>\n",
       "  <th>Intercept</th>         <td>    4.7488</td> <td>    0.090</td> <td>   52.746</td> <td> 0.000</td> <td>    4.572</td> <td>    4.925</td>\n",
       "</tr>\n",
       "<tr>\n",
       "  <th>C(DSTCHEER)[T.2]</th>  <td>   -0.5539</td> <td>    0.111</td> <td>   -4.996</td> <td> 0.000</td> <td>   -0.771</td> <td>   -0.337</td>\n",
       "</tr>\n",
       "<tr>\n",
       "  <th>C(DSTCHEER)[T.3]</th>  <td>   -2.6103</td> <td>    0.101</td> <td>  -25.719</td> <td> 0.000</td> <td>   -2.809</td> <td>   -2.411</td>\n",
       "</tr>\n",
       "<tr>\n",
       "  <th>C(DSTCHEER)[T.4]</th>  <td>   -3.7100</td> <td>    0.098</td> <td>  -37.829</td> <td> 0.000</td> <td>   -3.902</td> <td>   -3.518</td>\n",
       "</tr>\n",
       "<tr>\n",
       "  <th>C(DSTCHEER)[T.5]</th>  <td>   -4.3990</td> <td>    0.094</td> <td>  -46.804</td> <td> 0.000</td> <td>   -4.583</td> <td>   -4.215</td>\n",
       "</tr>\n",
       "<tr>\n",
       "  <th>C(DSTCHEER)[T.99]</th> <td>   -3.6368</td> <td>    0.092</td> <td>  -39.532</td> <td> 0.000</td> <td>   -3.817</td> <td>   -3.457</td>\n",
       "</tr>\n",
       "</table>\n",
       "<table class=\"simpletable\">\n",
       "<tr>\n",
       "  <th>Omnibus:</th>       <td>11060.513</td> <th>  Durbin-Watson:     </th> <td>   2.007</td> \n",
       "</tr>\n",
       "<tr>\n",
       "  <th>Prob(Omnibus):</th>  <td> 0.000</td>   <th>  Jarque-Bera (JB):  </th> <td>26039.775</td>\n",
       "</tr>\n",
       "<tr>\n",
       "  <th>Skew:</th>           <td> 1.715</td>   <th>  Prob(JB):          </th> <td>    0.00</td> \n",
       "</tr>\n",
       "<tr>\n",
       "  <th>Kurtosis:</th>       <td> 5.266</td>   <th>  Cond. No.          </th> <td>    19.6</td> \n",
       "</tr>\n",
       "</table><br/><br/>Notes:<br/>[1] Standard Errors assume that the covariance matrix of the errors is correctly specified."
      ],
      "text/latex": [
       "\\begin{center}\n",
       "\\begin{tabular}{lclc}\n",
       "\\toprule\n",
       "\\textbf{Dep. Variable:}    & DEPRESSIONINDEX  & \\textbf{  R-squared:         } &     0.122   \\\\\n",
       "\\textbf{Model:}            &       OLS        & \\textbf{  Adj. R-squared:    } &     0.122   \\\\\n",
       "\\textbf{Method:}           &  Least Squares   & \\textbf{  F-statistic:       } &     1026.   \\\\\n",
       "\\textbf{Date:}             & Sun, 26 Jan 2025 & \\textbf{  Prob (F-statistic):} &     0.00    \\\\\n",
       "\\textbf{Time:}             &     18:30:55     & \\textbf{  Log-Likelihood:    } &   -87199.   \\\\\n",
       "\\textbf{No. Observations:} &       36972      & \\textbf{  AIC:               } & 1.744e+05   \\\\\n",
       "\\textbf{Df Residuals:}     &       36966      & \\textbf{  BIC:               } & 1.745e+05   \\\\\n",
       "\\textbf{Df Model:}         &           5      & \\textbf{                     } &             \\\\\n",
       "\\textbf{Covariance Type:}  &    nonrobust     & \\textbf{                     } &             \\\\\n",
       "\\bottomrule\n",
       "\\end{tabular}\n",
       "\\begin{tabular}{lcccccc}\n",
       "                           & \\textbf{coef} & \\textbf{std err} & \\textbf{t} & \\textbf{P$> |$t$|$} & \\textbf{[0.025} & \\textbf{0.975]}  \\\\\n",
       "\\midrule\n",
       "\\textbf{Intercept}         &       4.7488  &        0.090     &    52.746  &         0.000        &        4.572    &        4.925     \\\\\n",
       "\\textbf{C(DSTCHEER)[T.2]}  &      -0.5539  &        0.111     &    -4.996  &         0.000        &       -0.771    &       -0.337     \\\\\n",
       "\\textbf{C(DSTCHEER)[T.3]}  &      -2.6103  &        0.101     &   -25.719  &         0.000        &       -2.809    &       -2.411     \\\\\n",
       "\\textbf{C(DSTCHEER)[T.4]}  &      -3.7100  &        0.098     &   -37.829  &         0.000        &       -3.902    &       -3.518     \\\\\n",
       "\\textbf{C(DSTCHEER)[T.5]}  &      -4.3990  &        0.094     &   -46.804  &         0.000        &       -4.583    &       -4.215     \\\\\n",
       "\\textbf{C(DSTCHEER)[T.99]} &      -3.6368  &        0.092     &   -39.532  &         0.000        &       -3.817    &       -3.457     \\\\\n",
       "\\bottomrule\n",
       "\\end{tabular}\n",
       "\\begin{tabular}{lclc}\n",
       "\\textbf{Omnibus:}       & 11060.513 & \\textbf{  Durbin-Watson:     } &     2.007  \\\\\n",
       "\\textbf{Prob(Omnibus):} &    0.000  & \\textbf{  Jarque-Bera (JB):  } & 26039.775  \\\\\n",
       "\\textbf{Skew:}          &    1.715  & \\textbf{  Prob(JB):          } &      0.00  \\\\\n",
       "\\textbf{Kurtosis:}      &    5.266  & \\textbf{  Cond. No.          } &      19.6  \\\\\n",
       "\\bottomrule\n",
       "\\end{tabular}\n",
       "%\\caption{OLS Regression Results}\n",
       "\\end{center}\n",
       "\n",
       "Notes: \\newline\n",
       " [1] Standard Errors assume that the covariance matrix of the errors is correctly specified."
      ],
      "text/plain": [
       "<class 'statsmodels.iolib.summary.Summary'>\n",
       "\"\"\"\n",
       "                            OLS Regression Results                            \n",
       "==============================================================================\n",
       "Dep. Variable:        DEPRESSIONINDEX   R-squared:                       0.122\n",
       "Model:                            OLS   Adj. R-squared:                  0.122\n",
       "Method:                 Least Squares   F-statistic:                     1026.\n",
       "Date:                Sun, 26 Jan 2025   Prob (F-statistic):               0.00\n",
       "Time:                        18:30:55   Log-Likelihood:                -87199.\n",
       "No. Observations:               36972   AIC:                         1.744e+05\n",
       "Df Residuals:                   36966   BIC:                         1.745e+05\n",
       "Df Model:                           5                                         \n",
       "Covariance Type:            nonrobust                                         \n",
       "=====================================================================================\n",
       "                        coef    std err          t      P>|t|      [0.025      0.975]\n",
       "-------------------------------------------------------------------------------------\n",
       "Intercept             4.7488      0.090     52.746      0.000       4.572       4.925\n",
       "C(DSTCHEER)[T.2]     -0.5539      0.111     -4.996      0.000      -0.771      -0.337\n",
       "C(DSTCHEER)[T.3]     -2.6103      0.101    -25.719      0.000      -2.809      -2.411\n",
       "C(DSTCHEER)[T.4]     -3.7100      0.098    -37.829      0.000      -3.902      -3.518\n",
       "C(DSTCHEER)[T.5]     -4.3990      0.094    -46.804      0.000      -4.583      -4.215\n",
       "C(DSTCHEER)[T.99]    -3.6368      0.092    -39.532      0.000      -3.817      -3.457\n",
       "==============================================================================\n",
       "Omnibus:                    11060.513   Durbin-Watson:                   2.007\n",
       "Prob(Omnibus):                  0.000   Jarque-Bera (JB):            26039.775\n",
       "Skew:                           1.715   Prob(JB):                         0.00\n",
       "Kurtosis:                       5.266   Cond. No.                         19.6\n",
       "==============================================================================\n",
       "\n",
       "Notes:\n",
       "[1] Standard Errors assume that the covariance matrix of the errors is correctly specified.\n",
       "\"\"\""
      ]
     },
     "execution_count": 17,
     "metadata": {},
     "output_type": "execute_result"
    }
   ],
   "source": [
    "formula = \"\"\"\n",
    "DEPRESSIONINDEX ~ C(DSTCHEER)\n",
    "\"\"\"\n",
    "model = ols(formula=formula, data=filtered_data)\n",
    "res = model.fit()\n",
    "res.summary()"
   ]
  },
  {
   "cell_type": "code",
   "execution_count": 18,
   "metadata": {},
   "outputs": [
    {
     "data": {
      "image/png": "[encoded data removed]",
      "text/plain": [
       "<Figure size 800x600 with 1 Axes>"
      ]
     },
     "metadata": {},
     "output_type": "display_data"
    }
   ],
   "source": [
    "coef = res.params\n",
    "errors = res.bse\n",
    "\n",
    "intercept = coef.loc['Intercept']\n",
    "adjusted_coef = coef.copy()\n",
    "adjusted_coef[1:] += intercept\n",
    "\n",
    "coef_df = pd.DataFrame({\n",
    "    'Coefficient': adjusted_coef.index,\n",
    "    'Value': adjusted_coef.values,\n",
    "})\n",
    "\n",
    "plt.figure(figsize=(8, 6))\n",
    "sns.barplot(\n",
    "    data=coef_df, \n",
    "    y='Value', \n",
    "    x='Coefficient',  \n",
    "    color='skyblue', \n",
    "    edgecolor='black'\n",
    ")\n",
    "\n",
    "for i in range(len(coef_df)):\n",
    "    plt.errorbar(\n",
    "        coef_df['Coefficient'][i], \n",
    "        coef_df['Value'][i], \n",
    "        fmt='o', \n",
    "        color='black'\n",
    "    )\n",
    "\n",
    "plt.title('Regression Coefficients')\n",
    "plt.ylabel('Coefficient Value')\n",
    "plt.xlabel('Variable')\n",
    "plt.tight_layout()\n",
    "plt.show()"
   ]
  },
  {
   "cell_type": "markdown",
   "metadata": {},
   "source": [
    "Analizując powyższy wykres przedstawiający wartości coef dla DEPRESSIONINDEX ~ DSTCHEER, można zauważyć, że im ktoś częściej ma zły humor (nie da się go pocieszyć), tym ma skłonność do głębszej depresji. Jak widać tendencja jest spadkowa co świadczy o tym, że im osoba łatwiej daje się pocieszyć, tym poziom depresji maleje. Wyjątkiem jest wartość DSTCHEER = 99, ale przez to, że oznacza ona Legitimate skip, nie jest ona brana pod uwagę w tej analizie. Patrząc na wyniki z modelu OLS, widać, że cały ten czynnik jest silnie zależny z DEPRESSIONINDEX, ponieważ wartość p-value równa się 0"
   ]
  },
  {
   "cell_type": "code",
   "execution_count": 19,
   "metadata": {},
   "outputs": [
    {
     "data": {
      "text/html": [
       "<table class=\"simpletable\">\n",
       "<caption>OLS Regression Results</caption>\n",
       "<tr>\n",
       "  <th>Dep. Variable:</th>     <td>DEPRESSIONINDEX</td> <th>  R-squared:         </th> <td>   0.013</td> \n",
       "</tr>\n",
       "<tr>\n",
       "  <th>Model:</th>                   <td>OLS</td>       <th>  Adj. R-squared:    </th> <td>   0.013</td> \n",
       "</tr>\n",
       "<tr>\n",
       "  <th>Method:</th>             <td>Least Squares</td>  <th>  F-statistic:       </th> <td>   160.8</td> \n",
       "</tr>\n",
       "<tr>\n",
       "  <th>Date:</th>             <td>Sun, 26 Jan 2025</td> <th>  Prob (F-statistic):</th> <td>1.38e-103</td>\n",
       "</tr>\n",
       "<tr>\n",
       "  <th>Time:</th>                 <td>18:30:59</td>     <th>  Log-Likelihood:    </th> <td> -89362.</td> \n",
       "</tr>\n",
       "<tr>\n",
       "  <th>No. Observations:</th>      <td> 36972</td>      <th>  AIC:               </th> <td>1.787e+05</td>\n",
       "</tr>\n",
       "<tr>\n",
       "  <th>Df Residuals:</th>          <td> 36968</td>      <th>  BIC:               </th> <td>1.788e+05</td>\n",
       "</tr>\n",
       "<tr>\n",
       "  <th>Df Model:</th>              <td>     3</td>      <th>                     </th>     <td> </td>    \n",
       "</tr>\n",
       "<tr>\n",
       "  <th>Covariance Type:</th>      <td>nonrobust</td>    <th>                     </th>     <td> </td>    \n",
       "</tr>\n",
       "</table>\n",
       "<table class=\"simpletable\">\n",
       "<tr>\n",
       "         <td></td>            <th>coef</th>     <th>std err</th>      <th>t</th>      <th>P>|t|</th>  <th>[0.025</th>    <th>0.975]</th>  \n",
       "</tr>\n",
       "<tr>\n",
       "  <th>Intercept</th>       <td>    0.8478</td> <td>    0.025</td> <td>   33.300</td> <td> 0.000</td> <td>    0.798</td> <td>    0.898</td>\n",
       "</tr>\n",
       "<tr>\n",
       "  <th>C(HEALTH2)[T.2]</th> <td>    0.3597</td> <td>    0.034</td> <td>   10.618</td> <td> 0.000</td> <td>    0.293</td> <td>    0.426</td>\n",
       "</tr>\n",
       "<tr>\n",
       "  <th>C(HEALTH2)[T.3]</th> <td>    0.6400</td> <td>    0.039</td> <td>   16.477</td> <td> 0.000</td> <td>    0.564</td> <td>    0.716</td>\n",
       "</tr>\n",
       "<tr>\n",
       "  <th>C(HEALTH2)[T.4]</th> <td>    1.1401</td> <td>    0.062</td> <td>   18.433</td> <td> 0.000</td> <td>    1.019</td> <td>    1.261</td>\n",
       "</tr>\n",
       "</table>\n",
       "<table class=\"simpletable\">\n",
       "<tr>\n",
       "  <th>Omnibus:</th>       <td>11991.334</td> <th>  Durbin-Watson:     </th> <td>   2.007</td> \n",
       "</tr>\n",
       "<tr>\n",
       "  <th>Prob(Omnibus):</th>  <td> 0.000</td>   <th>  Jarque-Bera (JB):  </th> <td>28381.774</td>\n",
       "</tr>\n",
       "<tr>\n",
       "  <th>Skew:</th>           <td> 1.904</td>   <th>  Prob(JB):          </th> <td>    0.00</td> \n",
       "</tr>\n",
       "<tr>\n",
       "  <th>Kurtosis:</th>       <td> 4.982</td>   <th>  Cond. No.          </th> <td>    5.27</td> \n",
       "</tr>\n",
       "</table><br/><br/>Notes:<br/>[1] Standard Errors assume that the covariance matrix of the errors is correctly specified."
      ],
      "text/latex": [
       "\\begin{center}\n",
       "\\begin{tabular}{lclc}\n",
       "\\toprule\n",
       "\\textbf{Dep. Variable:}    & DEPRESSIONINDEX  & \\textbf{  R-squared:         } &     0.013   \\\\\n",
       "\\textbf{Model:}            &       OLS        & \\textbf{  Adj. R-squared:    } &     0.013   \\\\\n",
       "\\textbf{Method:}           &  Least Squares   & \\textbf{  F-statistic:       } &     160.8   \\\\\n",
       "\\textbf{Date:}             & Sun, 26 Jan 2025 & \\textbf{  Prob (F-statistic):} & 1.38e-103   \\\\\n",
       "\\textbf{Time:}             &     18:30:59     & \\textbf{  Log-Likelihood:    } &   -89362.   \\\\\n",
       "\\textbf{No. Observations:} &       36972      & \\textbf{  AIC:               } & 1.787e+05   \\\\\n",
       "\\textbf{Df Residuals:}     &       36968      & \\textbf{  BIC:               } & 1.788e+05   \\\\\n",
       "\\textbf{Df Model:}         &           3      & \\textbf{                     } &             \\\\\n",
       "\\textbf{Covariance Type:}  &    nonrobust     & \\textbf{                     } &             \\\\\n",
       "\\bottomrule\n",
       "\\end{tabular}\n",
       "\\begin{tabular}{lcccccc}\n",
       "                         & \\textbf{coef} & \\textbf{std err} & \\textbf{t} & \\textbf{P$> |$t$|$} & \\textbf{[0.025} & \\textbf{0.975]}  \\\\\n",
       "\\midrule\n",
       "\\textbf{Intercept}       &       0.8478  &        0.025     &    33.300  &         0.000        &        0.798    &        0.898     \\\\\n",
       "\\textbf{C(HEALTH2)[T.2]} &       0.3597  &        0.034     &    10.618  &         0.000        &        0.293    &        0.426     \\\\\n",
       "\\textbf{C(HEALTH2)[T.3]} &       0.6400  &        0.039     &    16.477  &         0.000        &        0.564    &        0.716     \\\\\n",
       "\\textbf{C(HEALTH2)[T.4]} &       1.1401  &        0.062     &    18.433  &         0.000        &        1.019    &        1.261     \\\\\n",
       "\\bottomrule\n",
       "\\end{tabular}\n",
       "\\begin{tabular}{lclc}\n",
       "\\textbf{Omnibus:}       & 11991.334 & \\textbf{  Durbin-Watson:     } &     2.007  \\\\\n",
       "\\textbf{Prob(Omnibus):} &    0.000  & \\textbf{  Jarque-Bera (JB):  } & 28381.774  \\\\\n",
       "\\textbf{Skew:}          &    1.904  & \\textbf{  Prob(JB):          } &      0.00  \\\\\n",
       "\\textbf{Kurtosis:}      &    4.982  & \\textbf{  Cond. No.          } &      5.27  \\\\\n",
       "\\bottomrule\n",
       "\\end{tabular}\n",
       "%\\caption{OLS Regression Results}\n",
       "\\end{center}\n",
       "\n",
       "Notes: \\newline\n",
       " [1] Standard Errors assume that the covariance matrix of the errors is correctly specified."
      ],
      "text/plain": [
       "<class 'statsmodels.iolib.summary.Summary'>\n",
       "\"\"\"\n",
       "                            OLS Regression Results                            \n",
       "==============================================================================\n",
       "Dep. Variable:        DEPRESSIONINDEX   R-squared:                       0.013\n",
       "Model:                            OLS   Adj. R-squared:                  0.013\n",
       "Method:                 Least Squares   F-statistic:                     160.8\n",
       "Date:                Sun, 26 Jan 2025   Prob (F-statistic):          1.38e-103\n",
       "Time:                        18:30:59   Log-Likelihood:                -89362.\n",
       "No. Observations:               36972   AIC:                         1.787e+05\n",
       "Df Residuals:                   36968   BIC:                         1.788e+05\n",
       "Df Model:                           3                                         \n",
       "Covariance Type:            nonrobust                                         \n",
       "===================================================================================\n",
       "                      coef    std err          t      P>|t|      [0.025      0.975]\n",
       "-----------------------------------------------------------------------------------\n",
       "Intercept           0.8478      0.025     33.300      0.000       0.798       0.898\n",
       "C(HEALTH2)[T.2]     0.3597      0.034     10.618      0.000       0.293       0.426\n",
       "C(HEALTH2)[T.3]     0.6400      0.039     16.477      0.000       0.564       0.716\n",
       "C(HEALTH2)[T.4]     1.1401      0.062     18.433      0.000       1.019       1.261\n",
       "==============================================================================\n",
       "Omnibus:                    11991.334   Durbin-Watson:                   2.007\n",
       "Prob(Omnibus):                  0.000   Jarque-Bera (JB):            28381.774\n",
       "Skew:                           1.904   Prob(JB):                         0.00\n",
       "Kurtosis:                       4.982   Cond. No.                         5.27\n",
       "==============================================================================\n",
       "\n",
       "Notes:\n",
       "[1] Standard Errors assume that the covariance matrix of the errors is correctly specified.\n",
       "\"\"\""
      ]
     },
     "execution_count": 19,
     "metadata": {},
     "output_type": "execute_result"
    }
   ],
   "source": [
    "formula = \"\"\"\n",
    "DEPRESSIONINDEX ~ C(HEALTH2)\n",
    "\"\"\"\n",
    "model = ols(formula=formula, data=filtered_data)\n",
    "res = model.fit()\n",
    "res.summary()"
   ]
  },
  {
   "cell_type": "code",
   "execution_count": 20,
   "metadata": {},
   "outputs": [
    {
     "data": {
      "image/png": "[encoded data removed]",
      "text/plain": [
       "<Figure size 800x600 with 1 Axes>"
      ]
     },
     "metadata": {},
     "output_type": "display_data"
    }
   ],
   "source": [
    "coef = res.params\n",
    "errors = res.bse\n",
    "\n",
    "intercept = coef.loc['Intercept']\n",
    "adjusted_coef = coef.copy()\n",
    "adjusted_coef[1:] += intercept\n",
    "\n",
    "coef_df = pd.DataFrame({\n",
    "    'Coefficient': adjusted_coef.index,\n",
    "    'Value': adjusted_coef.values,\n",
    "})\n",
    "\n",
    "plt.figure(figsize=(8, 6))\n",
    "sns.barplot(\n",
    "    data=coef_df, \n",
    "    y='Value', \n",
    "    x='Coefficient',  \n",
    "    color='skyblue', \n",
    "    edgecolor='black'\n",
    ")\n",
    "\n",
    "for i in range(len(coef_df)):\n",
    "    plt.errorbar(\n",
    "        coef_df['Coefficient'][i], \n",
    "        coef_df['Value'][i], \n",
    "        fmt='o', \n",
    "        color='black'\n",
    "    )\n",
    "\n",
    "plt.title('Regression Coefficients')\n",
    "plt.ylabel('Coefficient Value')\n",
    "plt.xlabel('Variable')\n",
    "plt.tight_layout()\n",
    "plt.show()"
   ]
  },
  {
   "cell_type": "markdown",
   "metadata": {},
   "source": [
    "Analizując powyższy wykres przedstawiający wartości coef dla DEPRESSIONINDEX ~ HEALTH2, można zauważyć, że im gorsze zdrowie tym człowiek ma większą tendencje to popadania w głębszą depresję. Patrząc również na wyniki modelu OLS, widać, że p-value dla wszystkich segmentów jest równe 0, co oznacza że czynnik HEALTH2 jest istotny dla DEPRESSIONINDEX"
   ]
  },
  {
   "cell_type": "code",
   "execution_count": 21,
   "metadata": {},
   "outputs": [
    {
     "data": {
      "text/html": [
       "<table class=\"simpletable\">\n",
       "<caption>OLS Regression Results</caption>\n",
       "<tr>\n",
       "  <th>Dep. Variable:</th>     <td>DEPRESSIONINDEX</td> <th>  R-squared:         </th> <td>   0.012</td> \n",
       "</tr>\n",
       "<tr>\n",
       "  <th>Model:</th>                   <td>OLS</td>       <th>  Adj. R-squared:    </th> <td>   0.012</td> \n",
       "</tr>\n",
       "<tr>\n",
       "  <th>Method:</th>             <td>Least Squares</td>  <th>  F-statistic:       </th> <td>   115.8</td> \n",
       "</tr>\n",
       "<tr>\n",
       "  <th>Date:</th>             <td>Sun, 26 Jan 2025</td> <th>  Prob (F-statistic):</th> <td>2.41e-98</td> \n",
       "</tr>\n",
       "<tr>\n",
       "  <th>Time:</th>                 <td>18:31:02</td>     <th>  Log-Likelihood:    </th> <td> -89371.</td> \n",
       "</tr>\n",
       "<tr>\n",
       "  <th>No. Observations:</th>      <td> 36972</td>      <th>  AIC:               </th> <td>1.788e+05</td>\n",
       "</tr>\n",
       "<tr>\n",
       "  <th>Df Residuals:</th>          <td> 36967</td>      <th>  BIC:               </th> <td>1.788e+05</td>\n",
       "</tr>\n",
       "<tr>\n",
       "  <th>Df Model:</th>              <td>     4</td>      <th>                     </th>     <td> </td>    \n",
       "</tr>\n",
       "<tr>\n",
       "  <th>Covariance Type:</th>      <td>nonrobust</td>    <th>                     </th>     <td> </td>    \n",
       "</tr>\n",
       "</table>\n",
       "<table class=\"simpletable\">\n",
       "<tr>\n",
       "          <td></td>            <th>coef</th>     <th>std err</th>      <th>t</th>      <th>P>|t|</th>  <th>[0.025</th>    <th>0.975]</th>  \n",
       "</tr>\n",
       "<tr>\n",
       "  <th>Intercept</th>        <td>    1.0687</td> <td>    0.032</td> <td>   33.485</td> <td> 0.000</td> <td>    1.006</td> <td>    1.131</td>\n",
       "</tr>\n",
       "<tr>\n",
       "  <th>C(IRMARIT)[T.2]</th>  <td>    0.1715</td> <td>    0.134</td> <td>    1.283</td> <td> 0.199</td> <td>   -0.091</td> <td>    0.434</td>\n",
       "</tr>\n",
       "<tr>\n",
       "  <th>C(IRMARIT)[T.3]</th>  <td>    1.0668</td> <td>    0.073</td> <td>   14.573</td> <td> 0.000</td> <td>    0.923</td> <td>    1.210</td>\n",
       "</tr>\n",
       "<tr>\n",
       "  <th>C(IRMARIT)[T.4]</th>  <td>    0.3027</td> <td>    0.038</td> <td>    8.035</td> <td> 0.000</td> <td>    0.229</td> <td>    0.376</td>\n",
       "</tr>\n",
       "<tr>\n",
       "  <th>C(IRMARIT)[T.99]</th> <td>   -0.2396</td> <td>    0.043</td> <td>   -5.618</td> <td> 0.000</td> <td>   -0.323</td> <td>   -0.156</td>\n",
       "</tr>\n",
       "</table>\n",
       "<table class=\"simpletable\">\n",
       "<tr>\n",
       "  <th>Omnibus:</th>       <td>12086.885</td> <th>  Durbin-Watson:     </th> <td>   2.008</td> \n",
       "</tr>\n",
       "<tr>\n",
       "  <th>Prob(Omnibus):</th>  <td> 0.000</td>   <th>  Jarque-Bera (JB):  </th> <td>28845.621</td>\n",
       "</tr>\n",
       "<tr>\n",
       "  <th>Skew:</th>           <td> 1.913</td>   <th>  Prob(JB):          </th> <td>    0.00</td> \n",
       "</tr>\n",
       "<tr>\n",
       "  <th>Kurtosis:</th>       <td> 5.023</td>   <th>  Cond. No.          </th> <td>    11.1</td> \n",
       "</tr>\n",
       "</table><br/><br/>Notes:<br/>[1] Standard Errors assume that the covariance matrix of the errors is correctly specified."
      ],
      "text/latex": [
       "\\begin{center}\n",
       "\\begin{tabular}{lclc}\n",
       "\\toprule\n",
       "\\textbf{Dep. Variable:}    & DEPRESSIONINDEX  & \\textbf{  R-squared:         } &     0.012   \\\\\n",
       "\\textbf{Model:}            &       OLS        & \\textbf{  Adj. R-squared:    } &     0.012   \\\\\n",
       "\\textbf{Method:}           &  Least Squares   & \\textbf{  F-statistic:       } &     115.8   \\\\\n",
       "\\textbf{Date:}             & Sun, 26 Jan 2025 & \\textbf{  Prob (F-statistic):} &  2.41e-98   \\\\\n",
       "\\textbf{Time:}             &     18:31:02     & \\textbf{  Log-Likelihood:    } &   -89371.   \\\\\n",
       "\\textbf{No. Observations:} &       36972      & \\textbf{  AIC:               } & 1.788e+05   \\\\\n",
       "\\textbf{Df Residuals:}     &       36967      & \\textbf{  BIC:               } & 1.788e+05   \\\\\n",
       "\\textbf{Df Model:}         &           4      & \\textbf{                     } &             \\\\\n",
       "\\textbf{Covariance Type:}  &    nonrobust     & \\textbf{                     } &             \\\\\n",
       "\\bottomrule\n",
       "\\end{tabular}\n",
       "\\begin{tabular}{lcccccc}\n",
       "                          & \\textbf{coef} & \\textbf{std err} & \\textbf{t} & \\textbf{P$> |$t$|$} & \\textbf{[0.025} & \\textbf{0.975]}  \\\\\n",
       "\\midrule\n",
       "\\textbf{Intercept}        &       1.0687  &        0.032     &    33.485  &         0.000        &        1.006    &        1.131     \\\\\n",
       "\\textbf{C(IRMARIT)[T.2]}  &       0.1715  &        0.134     &     1.283  &         0.199        &       -0.091    &        0.434     \\\\\n",
       "\\textbf{C(IRMARIT)[T.3]}  &       1.0668  &        0.073     &    14.573  &         0.000        &        0.923    &        1.210     \\\\\n",
       "\\textbf{C(IRMARIT)[T.4]}  &       0.3027  &        0.038     &     8.035  &         0.000        &        0.229    &        0.376     \\\\\n",
       "\\textbf{C(IRMARIT)[T.99]} &      -0.2396  &        0.043     &    -5.618  &         0.000        &       -0.323    &       -0.156     \\\\\n",
       "\\bottomrule\n",
       "\\end{tabular}\n",
       "\\begin{tabular}{lclc}\n",
       "\\textbf{Omnibus:}       & 12086.885 & \\textbf{  Durbin-Watson:     } &     2.008  \\\\\n",
       "\\textbf{Prob(Omnibus):} &    0.000  & \\textbf{  Jarque-Bera (JB):  } & 28845.621  \\\\\n",
       "\\textbf{Skew:}          &    1.913  & \\textbf{  Prob(JB):          } &      0.00  \\\\\n",
       "\\textbf{Kurtosis:}      &    5.023  & \\textbf{  Cond. No.          } &      11.1  \\\\\n",
       "\\bottomrule\n",
       "\\end{tabular}\n",
       "%\\caption{OLS Regression Results}\n",
       "\\end{center}\n",
       "\n",
       "Notes: \\newline\n",
       " [1] Standard Errors assume that the covariance matrix of the errors is correctly specified."
      ],
      "text/plain": [
       "<class 'statsmodels.iolib.summary.Summary'>\n",
       "\"\"\"\n",
       "                            OLS Regression Results                            \n",
       "==============================================================================\n",
       "Dep. Variable:        DEPRESSIONINDEX   R-squared:                       0.012\n",
       "Model:                            OLS   Adj. R-squared:                  0.012\n",
       "Method:                 Least Squares   F-statistic:                     115.8\n",
       "Date:                Sun, 26 Jan 2025   Prob (F-statistic):           2.41e-98\n",
       "Time:                        18:31:02   Log-Likelihood:                -89371.\n",
       "No. Observations:               36972   AIC:                         1.788e+05\n",
       "Df Residuals:                   36967   BIC:                         1.788e+05\n",
       "Df Model:                           4                                         \n",
       "Covariance Type:            nonrobust                                         \n",
       "====================================================================================\n",
       "                       coef    std err          t      P>|t|      [0.025      0.975]\n",
       "------------------------------------------------------------------------------------\n",
       "Intercept            1.0687      0.032     33.485      0.000       1.006       1.131\n",
       "C(IRMARIT)[T.2]      0.1715      0.134      1.283      0.199      -0.091       0.434\n",
       "C(IRMARIT)[T.3]      1.0668      0.073     14.573      0.000       0.923       1.210\n",
       "C(IRMARIT)[T.4]      0.3027      0.038      8.035      0.000       0.229       0.376\n",
       "C(IRMARIT)[T.99]    -0.2396      0.043     -5.618      0.000      -0.323      -0.156\n",
       "==============================================================================\n",
       "Omnibus:                    12086.885   Durbin-Watson:                   2.008\n",
       "Prob(Omnibus):                  0.000   Jarque-Bera (JB):            28845.621\n",
       "Skew:                           1.913   Prob(JB):                         0.00\n",
       "Kurtosis:                       5.023   Cond. No.                         11.1\n",
       "==============================================================================\n",
       "\n",
       "Notes:\n",
       "[1] Standard Errors assume that the covariance matrix of the errors is correctly specified.\n",
       "\"\"\""
      ]
     },
     "execution_count": 21,
     "metadata": {},
     "output_type": "execute_result"
    }
   ],
   "source": [
    "formula = \"\"\"\n",
    "DEPRESSIONINDEX ~ C(IRMARIT)\n",
    "\"\"\"\n",
    "model = ols(formula=formula, data=filtered_data)\n",
    "res = model.fit()\n",
    "res.summary()"
   ]
  },
  {
   "cell_type": "code",
   "execution_count": 22,
   "metadata": {},
   "outputs": [
    {
     "data": {
      "image/png": "[encoded data removed]",
      "text/plain": [
       "<Figure size 800x600 with 1 Axes>"
      ]
     },
     "metadata": {},
     "output_type": "display_data"
    }
   ],
   "source": [
    "coef = res.params\n",
    "errors = res.bse\n",
    "\n",
    "intercept = coef.loc['Intercept']\n",
    "adjusted_coef = coef.copy()\n",
    "adjusted_coef[1:] += intercept\n",
    "\n",
    "coef_df = pd.DataFrame({\n",
    "    'Coefficient': adjusted_coef.index,\n",
    "    'Value': adjusted_coef.values,\n",
    "})\n",
    "\n",
    "plt.figure(figsize=(8, 6))\n",
    "sns.barplot(\n",
    "    data=coef_df, \n",
    "    y='Value', \n",
    "    x='Coefficient',  \n",
    "    color='skyblue', \n",
    "    edgecolor='black'\n",
    ")\n",
    "\n",
    "for i in range(len(coef_df)):\n",
    "    plt.errorbar(\n",
    "        coef_df['Coefficient'][i], \n",
    "        coef_df['Value'][i], \n",
    "        fmt='o', \n",
    "        color='black'\n",
    "    )\n",
    "\n",
    "plt.title('Regression Coefficients')\n",
    "plt.ylabel('Coefficient Value')\n",
    "plt.xlabel('Variable')\n",
    "plt.tight_layout()\n",
    "plt.show()"
   ]
  },
  {
   "cell_type": "markdown",
   "metadata": {},
   "source": [
    "Analizując powyższy wykres przedstawiający wartości coef dla DEPRESSIONINDEX ~ IRMARIT, można zauważyć że osoby, które są rozwiedzione mają większe skłonności do popadania w glębszą depresję niż pozostałe grupy. Widać również, że osoby, które są po ślubie są mniej narażone na depresję niż osoby, które nigdy nie wzięły ślubu. Analizując wyniki z modelu OLS, możemy stwiedzić, że możemy odrzucić hipotezę zerową i powiedzieć, że IRMARIT jest istotne w analizie DEPRESSIONINDEX"
   ]
  },
  {
   "cell_type": "markdown",
   "metadata": {},
   "source": [
    "### Finalny zbiór danych"
   ]
  },
  {
   "cell_type": "code",
   "execution_count": 23,
   "metadata": {},
   "outputs": [],
   "source": [
    "final_selected_columns = [\n",
    "    'DEPRESSIONINDEX', 'CATAG2', 'IRSEX', 'SOMA',\n",
    "\n",
    "    'ANYINDEX', 'IREDUC2', 'EMPSTAT4', 'ANYTHEFT',\n",
    "    'DSTCHEER', 'HEALTH2', 'IRMARIT'\n",
    "]"
   ]
  },
  {
   "cell_type": "code",
   "execution_count": 24,
   "metadata": {},
   "outputs": [
    {
     "name": "stdout",
     "output_type": "stream",
     "text": [
      "36972\n",
      "11\n"
     ]
    }
   ],
   "source": [
    "final_data = filtered_data[final_selected_columns]\n",
    "print(final_data.shape[0])\n",
    "print(final_data.shape[1])"
   ]
  },
  {
   "cell_type": "markdown",
   "metadata": {},
   "source": [
    "### Stosując znane Ci metody oceny istotności, przeanalizuj jak wybrane czynniki zmieniają się w zależności od grupy wiekowej i od płci, możesz również sprawdzić czy istnieją istotne zmiany dla typu depresji (somatycznej i niesomatycznej)."
   ]
  },
  {
   "cell_type": "markdown",
   "metadata": {},
   "source": [
    "Do oceny istotności, jak czynniki zmieniają się w zależności od grupy wiekowej i płci, a także od typu depresji (somatyczna i niesomatyczna) wybrałem test chi-kwadrat."
   ]
  },
  {
   "cell_type": "markdown",
   "metadata": {},
   "source": [
    "##### DSTCHEER"
   ]
  },
  {
   "cell_type": "code",
   "execution_count": 25,
   "metadata": {},
   "outputs": [
    {
     "name": "stdout",
     "output_type": "stream",
     "text": [
      "CATAG2        1     2     3\n",
      "DSTCHEER                   \n",
      "1             0   538   270\n",
      "2             0  1012   553\n",
      "3             0  1636  1347\n",
      "4             0  2255  2074\n",
      "5             0  3928  5064\n",
      "99        18294     0     1\n",
      "Chi2-statistic: 37764.52563153106\n",
      "p-value: 0.0\n",
      "Degrees of freedom: 10\n",
      "Expected frequencies:\n",
      " [[ 399.80395975  204.75365141  203.44238883]\n",
      " [ 774.37276858  396.58349562  394.0437358 ]\n",
      " [1476.00892567  755.91601753  751.0750568 ]\n",
      " [2142.01898734 1097.00316456 1089.9778481 ]\n",
      " [4449.3034729  2278.64459591 2264.05193119]\n",
      " [9052.49188575 4636.09907498 4606.40903927]]\n"
     ]
    }
   ],
   "source": [
    "table = pd.crosstab(final_data['DSTCHEER'], final_data['CATAG2'])\n",
    "print(table)\n",
    "\n",
    "chi2, p, dof, expected = chi2_contingency(table)\n",
    "\n",
    "print(\"Chi2-statistic:\", chi2)\n",
    "print(\"p-value:\", p)\n",
    "print(\"Degrees of freedom:\", dof)\n",
    "print(\"Expected frequencies:\\n\", expected)"
   ]
  },
  {
   "cell_type": "markdown",
   "metadata": {},
   "source": [
    "Jak można powyżej zauważyć, dla CATAG = 1 występuje tylko jedna wartość DSTCHEER = 99 i to liczbie 18294 (cała młodzież). Widać, że taka sytuacja mocno wpływa na ostateczny wynik chi-kwadrat, dlatego dla tego przypadku, nie będę brał CATAG = 1 pod uwagę i pod spodem przedstawiam dalszą analizę DSTCHEER"
   ]
  },
  {
   "cell_type": "code",
   "execution_count": 26,
   "metadata": {},
   "outputs": [
    {
     "name": "stdout",
     "output_type": "stream",
     "text": [
      "CATAG2       2     3\n",
      "DSTCHEER            \n",
      "1          538   270\n",
      "2         1012   553\n",
      "3         1636  1347\n",
      "4         2255  2074\n",
      "5         3928  5064\n",
      "99           0     1\n",
      "Chi2-statistic: 403.4057661587429\n",
      "p-value: 5.472786936529582e-85\n",
      "Degrees of freedom: 5\n",
      "Expected frequencies:\n",
      " [[4.05297783e+02 4.02702217e+02]\n",
      " [7.85013652e+02 7.79986348e+02]\n",
      " [1.49629120e+03 1.48670880e+03]\n",
      " [2.17145310e+03 2.15754690e+03]\n",
      " [4.51044266e+03 4.48155734e+03]\n",
      " [5.01606168e-01 4.98393832e-01]]\n"
     ]
    }
   ],
   "source": [
    "temp_data = final_data[final_data['CATAG2'].isin([2, 3])]\n",
    "temp_table = pd.crosstab(temp_data['DSTCHEER'], temp_data['CATAG2'])\n",
    "print(temp_table)\n",
    "\n",
    "chi2, p, dof, expected = chi2_contingency(temp_table)\n",
    "\n",
    "print(\"Chi2-statistic:\", chi2)\n",
    "print(\"p-value:\", p)\n",
    "print(\"Degrees of freedom:\", dof)\n",
    "print(\"Expected frequencies:\\n\", expected)"
   ]
  },
  {
   "cell_type": "markdown",
   "metadata": {},
   "source": [
    "- Chi2-statistic: 403.4057661587429 - wynik wskazuje na istotne różnice między obserwowalnymi a oczekiwanymi wartościami,\n",
    "\n",
    "- p-value: 5.472786936529582e-85 - p (<0.05), odrzucamy hipotezę zerową, istnieje istotny statystycznie związek między DSTCHEER a CATAG2 w grupach wiekowych 18-25 oraz 26+\n",
    "\n",
    "- dla DSTCHEER = 1 - CATAG2 = 2 ma większy udział w tej kategorii niż CATAG2 = 3\n",
    "\n",
    "- dla DSTCHEER = 2 - CATAG2 = 2 ma większy udział w tej kategorii niż CATAG2 = 3\n",
    "\n",
    "- dla DSTCHEER = 3 - CATAG2 = 2 ma większy udział w tej kategorii niż CATAG2 = 3\n",
    "\n",
    "- dla DSTCHEER = 4 - CATAG2 = 2 ma większy udział w tej kategorii niż CATAG2 = 3\n",
    "\n",
    "- dla DSTCHEER = 5 - CATAG2 = 3 ma większy udział w tej kategorii niż CATAG2 = 2"
   ]
  },
  {
   "cell_type": "code",
   "execution_count": 27,
   "metadata": {},
   "outputs": [
    {
     "name": "stdout",
     "output_type": "stream",
     "text": [
      "IRSEX        1     2\n",
      "DSTCHEER            \n",
      "1          279   529\n",
      "2          568   997\n",
      "3         1161  1822\n",
      "4         1887  2442\n",
      "5         4754  4238\n",
      "99        9330  8965\n",
      "Chi2-statistic: 421.97339019348095\n",
      "p-value: 5.438421816704378e-89\n",
      "Degrees of freedom: 5\n",
      "Expected frequencies:\n",
      " [[ 392.91983122  415.08016878]\n",
      " [ 761.03902954  803.96097046]\n",
      " [1450.59388186 1532.40611814]\n",
      " [2105.13607595 2223.86392405]\n",
      " [4372.69198312 4619.30801688]\n",
      " [8896.61919831 9398.38080169]]\n"
     ]
    }
   ],
   "source": [
    "table1 = pd.crosstab(final_data['DSTCHEER'], final_data['IRSEX'])\n",
    "print(table1)\n",
    "\n",
    "chi2, p, dof, expected = chi2_contingency(table1)\n",
    "\n",
    "print(\"Chi2-statistic:\", chi2)\n",
    "print(\"p-value:\", p)\n",
    "print(\"Degrees of freedom:\", dof)\n",
    "print(\"Expected frequencies:\\n\", expected)"
   ]
  },
  {
   "cell_type": "markdown",
   "metadata": {},
   "source": [
    "- Chi2-statistic: 421.97339019348095 - wynik wskazuje na istotne różnice między obserwowalnymi a oczekiwanymi wartościami\n",
    "\n",
    "- p-value: 5.438421816704378e-89 - p (<0.05), odrzucamy hipotezę zerową, istnieje istotny statystycznie związek między DSTCHEER a IRSEX\n",
    "\n",
    "- rozkład DSTCHEER różni się w zależności od płci\n",
    "\n",
    "- np. dla DSTCHEER = 1 i IRSEX = 1 spodziewano się większego udziału mężczyzn, natomiast dla DSTCHEER = 1 i IRSEX = 2 oczekiwano mniejszego udziału kobiet"
   ]
  },
  {
   "cell_type": "code",
   "execution_count": 28,
   "metadata": {},
   "outputs": [
    {
     "name": "stdout",
     "output_type": "stream",
     "text": [
      "SOMA        0     1      99\n",
      "DSTCHEER                   \n",
      "1           75   410    323\n",
      "2          158   721    686\n",
      "3          215   693   2075\n",
      "4          218   470   3641\n",
      "5          172   328   8492\n",
      "99        1171  1753  15371\n",
      "Chi2-statistic: 4523.224050255664\n",
      "p-value: 0.0\n",
      "Degrees of freedom: 10\n",
      "Expected frequencies:\n",
      " [[   43.90544196    95.61289625   668.4816618 ]\n",
      " [   85.03962458   185.19082008  1294.76955534]\n",
      " [  162.09150168   352.98671968  2467.92177864]\n",
      " [  235.23101266   512.26265823  3581.50632911]\n",
      " [  488.61105702  1064.04846911  7439.34047387]\n",
      " [  994.12136211  2164.89843665 15135.98020123]]\n"
     ]
    }
   ],
   "source": [
    "\n",
    "table2 = pd.crosstab(final_data['DSTCHEER'], final_data['SOMA'])\n",
    "print(table2)\n",
    "\n",
    "chi2, p, dof, expected = chi2_contingency(table2)\n",
    "\n",
    "print(\"Chi2-statistic:\", chi2)\n",
    "print(\"p-value:\", p)\n",
    "print(\"Degrees of freedom:\", dof)\n",
    "print(\"Expected frequencies:\\n\", expected)"
   ]
  },
  {
   "cell_type": "markdown",
   "metadata": {},
   "source": [
    "Ze względu na dużą liczbę wartości 99 dla DSTCHEER i SOMA w dalszej analizie związku miedzy DSTCHEER a SOMA nie będę uwzględniać tej wartości"
   ]
  },
  {
   "cell_type": "code",
   "execution_count": 29,
   "metadata": {},
   "outputs": [
    {
     "name": "stdout",
     "output_type": "stream",
     "text": [
      "SOMA        0    1\n",
      "DSTCHEER          \n",
      "1          75  410\n",
      "2         158  721\n",
      "3         215  693\n",
      "4         218  470\n",
      "5         172  328\n",
      "Chi2-statistic: 88.21021632813995\n",
      "p-value: 3.1595165107931545e-18\n",
      "Degrees of freedom: 4\n",
      "Expected frequencies:\n",
      " [[117.46531792 367.53468208]\n",
      " [212.89075145 666.10924855]\n",
      " [219.91445087 688.08554913]\n",
      " [166.63121387 521.36878613]\n",
      " [121.0982659  378.9017341 ]]\n"
     ]
    }
   ],
   "source": [
    "temp_data2 = final_data[(final_data['DSTCHEER'].isin([1, 2, 3, 4, 5])) & (final_data['SOMA'].isin([0, 1]))]\n",
    "table2 = pd.crosstab(temp_data2['DSTCHEER'], temp_data2['SOMA'])\n",
    "print(table2)\n",
    "\n",
    "chi2, p, dof, expected = chi2_contingency(table2)\n",
    "\n",
    "print(\"Chi2-statistic:\", chi2)\n",
    "print(\"p-value:\", p)\n",
    "print(\"Degrees of freedom:\", dof)\n",
    "print(\"Expected frequencies:\\n\", expected)"
   ]
  },
  {
   "cell_type": "markdown",
   "metadata": {},
   "source": [
    "- Chi2-statistic: 88.21021632813995 - wynik sugeruje istotne różnice między obserwowanymi a oczekiwanymi wartościami\n",
    "\n",
    "- p-value: 3.1595165107931545e-18 - odrzucamy hipotezę zerową, istnieje istotny związek między DSTCHEER a SOMA\n",
    "\n",
    "- osoby mające depresję somatyczną (1), a niesomatyczną (0) różnią się pod względem DSTCHEER"
   ]
  },
  {
   "cell_type": "markdown",
   "metadata": {},
   "source": [
    "##### ANYINDEX"
   ]
  },
  {
   "cell_type": "code",
   "execution_count": 30,
   "metadata": {},
   "outputs": [
    {
     "name": "stdout",
     "output_type": "stream",
     "text": [
      "CATAG2        1     2     3\n",
      "ANYINDEX                   \n",
      "0.142857  16658  7896  8899\n",
      "0.142900     19     4     6\n",
      "0.166667    554   471   134\n",
      "0.285714    100    69    33\n",
      "0.333333    424   373    64\n",
      "0.428571     51    43    19\n",
      "0.500000    207   188    36\n",
      "0.571429     44    45    23\n",
      "0.666667    123   114    20\n",
      "0.714286     25    38    25\n",
      "0.833333     57    57    11\n",
      "0.857143     13    38    23\n",
      "1.000000     19    33    16\n",
      "Chi2-statistic: 800.8944278533243\n",
      "p-value: 1.3393447033243768e-153\n",
      "Degrees of freedom: 24\n",
      "Expected frequencies:\n",
      " [[1.65527746e+04 8.47725730e+03 8.42296811e+03]\n",
      " [1.43493995e+01 7.34883155e+00 7.30176891e+00]\n",
      " [5.73481175e+02 2.93699854e+02 2.91818971e+02]\n",
      " [9.99509899e+01 5.11884129e+01 5.08605972e+01]\n",
      " [4.26028724e+02 2.18184275e+02 2.16787001e+02]\n",
      " [5.59131775e+01 2.86351022e+01 2.84517202e+01]\n",
      " [2.13261766e+02 1.09218841e+02 1.08519393e+02]\n",
      " [5.54183707e+01 2.83816943e+01 2.81999351e+01]\n",
      " [1.27165368e+02 6.51258520e+01 6.47087796e+01]\n",
      " [4.35430055e+01 2.22999026e+01 2.21570919e+01]\n",
      " [6.18508601e+01 3.16759981e+01 3.14731418e+01]\n",
      " [3.66157092e+01 1.87521908e+01 1.86321000e+01]\n",
      " [3.36468679e+01 1.72317429e+01 1.71213892e+01]]\n"
     ]
    }
   ],
   "source": [
    "table3 = pd.crosstab(final_data['ANYINDEX'], final_data['CATAG2'])\n",
    "print(table3)\n",
    "\n",
    "chi2, p, dof, expected = chi2_contingency(table3)\n",
    "\n",
    "print(\"Chi2-statistic:\", chi2)\n",
    "print(\"p-value:\", p)\n",
    "print(\"Degrees of freedom:\", dof)\n",
    "print(\"Expected frequencies:\\n\", expected)"
   ]
  },
  {
   "cell_type": "markdown",
   "metadata": {},
   "source": [
    "- Chi2-statistic: 800.8944278533243 - silny związek między ANYINDEX a CATAG2, rozkład ANYINDEX różni się między grupami CATAG2\n",
    "\n",
    "- p-value: 1.3393447033243768e-153 - odrzucamy hipotezę zerową, istnieje silny związek między ANYINDEX a CATAG2\n",
    "\n",
    "- w przypadku większości kategorii, obserwowane wartości są zbliżone do przewidywanych, co potwierdza, że wyniki testu chi-kwadrat są rzetelne"
   ]
  },
  {
   "cell_type": "code",
   "execution_count": 275,
   "metadata": {},
   "outputs": [
    {
     "name": "stdout",
     "output_type": "stream",
     "text": [
      "IRSEX         1      2\n",
      "ANYINDEX              \n",
      "0.142857  16023  17430\n",
      "0.142900     17     12\n",
      "0.166667    676    483\n",
      "0.285714     74    128\n",
      "0.333333    521    340\n",
      "0.428571     46     67\n",
      "0.500000    248    183\n",
      "0.571429     51     61\n",
      "0.666667    134    123\n",
      "0.714286     50     38\n",
      "0.833333     67     58\n",
      "0.857143     34     40\n",
      "1.000000     38     30\n",
      "Chi2-statistic: 135.7367055327653\n",
      "p-value: 4.335191254650873e-23\n",
      "Degrees of freedom: 12\n",
      "Expected frequencies:\n",
      " [[1.62677563e+04 1.71852437e+04]\n",
      " [1.41023207e+01 1.48976793e+01]\n",
      " [5.63606540e+02 5.95393460e+02]\n",
      " [9.82299578e+01 1.03770042e+02]\n",
      " [4.18693038e+02 4.42306962e+02]\n",
      " [5.49504219e+01 5.80495781e+01]\n",
      " [2.09589662e+02 2.21410338e+02]\n",
      " [5.44641350e+01 5.75358650e+01]\n",
      " [1.24975738e+02 1.32024262e+02]\n",
      " [4.27932489e+01 4.52067511e+01]\n",
      " [6.07858650e+01 6.42141350e+01]\n",
      " [3.59852321e+01 3.80147679e+01]\n",
      " [3.30675105e+01 3.49324895e+01]]\n"
     ]
    }
   ],
   "source": [
    "table4 = pd.crosstab(final_data['ANYINDEX'], final_data['IRSEX'])\n",
    "print(table4)\n",
    "\n",
    "chi2, p, dof, expected = chi2_contingency(table4)\n",
    "\n",
    "print(\"Chi2-statistic:\", chi2)\n",
    "print(\"p-value:\", p)\n",
    "print(\"Degrees of freedom:\", dof)\n",
    "print(\"Expected frequencies:\\n\", expected)"
   ]
  },
  {
   "cell_type": "markdown",
   "metadata": {},
   "source": [
    "- Chi2-statistic: 135.7367055327653 - istnieje istotny związek między ANYINDEX a IRSEX, rozkład ANYINDEX różni się między mężczyznami a kobietami\n",
    "\n",
    "- p-value: 4.335191254650873e-23 - odrzucamy hipotezę zerową, istnieje istotna zależność między cechami\n",
    "\n",
    "- przewidywane wartości są zbliżone do obserwowanych, co wskazuje na wiarygodność testu chi-kwadrat i dobrze dopasowaną tabelę kontyngencji"
   ]
  },
  {
   "cell_type": "code",
   "execution_count": 31,
   "metadata": {},
   "outputs": [
    {
     "name": "stdout",
     "output_type": "stream",
     "text": [
      "SOMA         0     1\n",
      "ANYINDEX            \n",
      "0.142857  1747  3633\n",
      "0.142900     2     2\n",
      "0.166667    65   179\n",
      "0.285714    13    64\n",
      "0.333333    68   145\n",
      "0.428571    14    31\n",
      "0.500000    37    80\n",
      "0.571429     8    37\n",
      "0.666667    22    69\n",
      "0.714286     3    35\n",
      "0.833333    13    34\n",
      "0.857143     5    37\n",
      "1.000000    12    29\n",
      "Chi2-statistic: 37.217382398750345\n",
      "p-value: 0.00020597609208519542\n",
      "Degrees of freedom: 12\n",
      "Expected frequencies:\n",
      " [[1.69304825e+03 3.68695175e+03]\n",
      " [1.25877193e+00 2.74122807e+00]\n",
      " [7.67850877e+01 1.67214912e+02]\n",
      " [2.42313596e+01 5.27686404e+01]\n",
      " [6.70296053e+01 1.45970395e+02]\n",
      " [1.41611842e+01 3.08388158e+01]\n",
      " [3.68190789e+01 8.01809211e+01]\n",
      " [1.41611842e+01 3.08388158e+01]\n",
      " [2.86370614e+01 6.23629386e+01]\n",
      " [1.19583333e+01 2.60416667e+01]\n",
      " [1.47905702e+01 3.22094298e+01]\n",
      " [1.32171053e+01 2.87828947e+01]\n",
      " [1.29024123e+01 2.80975877e+01]]\n"
     ]
    }
   ],
   "source": [
    "# Odrzucamy wartość 99 dla SOMA żeby przeanalizować tylko \n",
    "# te osoby które mają depresję somatyczną albo niesomatyczną\n",
    "temp_data5 = final_data[final_data['SOMA'].isin([0, 1])]\n",
    "table5 = pd.crosstab(temp_data5['ANYINDEX'], temp_data5['SOMA'])\n",
    "print(table5)\n",
    "\n",
    "chi2, p, dof, expected = chi2_contingency(table5)\n",
    "\n",
    "print(\"Chi2-statistic:\", chi2)\n",
    "print(\"p-value:\", p)\n",
    "print(\"Degrees of freedom:\", dof)\n",
    "print(\"Expected frequencies:\\n\", expected)"
   ]
  },
  {
   "cell_type": "markdown",
   "metadata": {},
   "source": [
    "- Chi2-statistic: 37.217382398750345 - istnieje istotny związek między ANYINDEX a SOMA\n",
    "\n",
    "- p-value: 0.00020597609208519542 - odrzucamy hipoteze zerową"
   ]
  },
  {
   "cell_type": "markdown",
   "metadata": {},
   "source": [
    "##### HEALTH2\n"
   ]
  },
  {
   "cell_type": "code",
   "execution_count": 32,
   "metadata": {},
   "outputs": [
    {
     "name": "stdout",
     "output_type": "stream",
     "text": [
      "CATAG2      1     2     3\n",
      "HEALTH2                  \n",
      "1        6207  2773  2376\n",
      "2        7645  3846  3254\n",
      "3        3803  2239  2512\n",
      "4         639   511  1167\n",
      "Chi2-statistic: 1147.4405648456518\n",
      "p-value: 1.1332652060546699e-244\n",
      "Degrees of freedom: 6\n",
      "Expected frequencies:\n",
      " [[5619.02693931 2877.70107108 2859.27198961]\n",
      " [7295.92745862 3736.50073028 3712.5718111 ]\n",
      " [4232.57805907 2167.65189873 2153.77004219]\n",
      " [1146.46754301  587.1462999   583.38615709]]\n"
     ]
    }
   ],
   "source": [
    "table6 = pd.crosstab(final_data['HEALTH2'], final_data['CATAG2'])\n",
    "print(table6)\n",
    "\n",
    "chi2, p, dof, expected = chi2_contingency(table6)\n",
    "\n",
    "print(\"Chi2-statistic:\", chi2)\n",
    "print(\"p-value:\", p)\n",
    "print(\"Degrees of freedom:\", dof)\n",
    "print(\"Expected frequencies:\\n\", expected)"
   ]
  },
  {
   "cell_type": "markdown",
   "metadata": {},
   "source": [
    "- Chi2-statistic: 1147.4405648456518 - istnieje silna zależność między HEALTH2 a CATAG2\n",
    "\n",
    "- p-value: 1.1332652060546699e-244 - odrzucamy hipotezę zerową\n",
    "\n",
    "- z tabeli kontyngnecji możemy zauważyć że im osoba starsza tym jej zdrowie się pogarsza\n",
    "\n",
    "- różnice między wartościami zaobserwowanymi a oczekiwanymi wynikają z dużej wartości Chic2"
   ]
  },
  {
   "cell_type": "code",
   "execution_count": 33,
   "metadata": {},
   "outputs": [
    {
     "name": "stdout",
     "output_type": "stream",
     "text": [
      "IRSEX       1     2\n",
      "HEALTH2            \n",
      "1        5655  5701\n",
      "2        7195  7550\n",
      "3        4083  4471\n",
      "4        1046  1271\n",
      "Chi2-statistic: 20.38713279381717\n",
      "p-value: 0.00014110010667897673\n",
      "Degrees of freedom: 3\n",
      "Expected frequencies:\n",
      " [[5522.2742616  5833.7257384 ]\n",
      " [7170.30063291 7574.69936709]\n",
      " [4159.69831224 4394.30168776]\n",
      " [1126.72679325 1190.27320675]]\n"
     ]
    }
   ],
   "source": [
    "table7 = pd.crosstab(final_data['HEALTH2'], final_data['IRSEX'])\n",
    "print(table7)\n",
    "\n",
    "chi2, p, dof, expected = chi2_contingency(table7)\n",
    "\n",
    "print(\"Chi2-statistic:\", chi2)\n",
    "print(\"p-value:\", p)\n",
    "print(\"Degrees of freedom:\", dof)\n",
    "print(\"Expected frequencies:\\n\", expected)"
   ]
  },
  {
   "cell_type": "markdown",
   "metadata": {},
   "source": [
    "- Chi2-statistic: 20.38713279381717 - istnieje zależność między HEALTH2 a IRSEX\n",
    "\n",
    "- p-value: 0.00014110010667897673 - odrzucamy hipotezę zerową, istnieje zależność między HEALTH2 a IRSEX\n",
    "\n",
    "- z tabeli można zauważyć, że przewidywane wartości pokrywaja się z zanotowanymi, a także że kobiety mają tendencje to posiadania gorszego zdrowia"
   ]
  },
  {
   "cell_type": "code",
   "execution_count": 34,
   "metadata": {},
   "outputs": [
    {
     "name": "stdout",
     "output_type": "stream",
     "text": [
      "SOMA       0     1\n",
      "HEALTH2           \n",
      "1        535   908\n",
      "2        847  1710\n",
      "3        500  1272\n",
      "4        127   485\n",
      "Chi2-statistic: 65.56900706877083\n",
      "p-value: 3.789994587869421e-14\n",
      "Degrees of freedom: 3\n",
      "Expected frequencies:\n",
      " [[ 454.10197368  988.89802632]\n",
      " [ 804.66995614 1752.33004386]\n",
      " [ 557.63596491 1214.36403509]\n",
      " [ 192.59210526  419.40789474]]\n"
     ]
    }
   ],
   "source": [
    "# Odrzucamy wartość 99 dla SOMA żeby przeanalizować tylko \n",
    "# te osoby które mają depresję somatyczną albo niesomatyczną\n",
    "temp_data8 = final_data[final_data['SOMA'].isin([0, 1])]\n",
    "table8 = pd.crosstab(temp_data8['HEALTH2'], temp_data8['SOMA'])\n",
    "print(table8)\n",
    "\n",
    "chi2, p, dof, expected = chi2_contingency(table8)\n",
    "\n",
    "print(\"Chi2-statistic:\", chi2)\n",
    "print(\"p-value:\", p)\n",
    "print(\"Degrees of freedom:\", dof)\n",
    "print(\"Expected frequencies:\\n\", expected)"
   ]
  },
  {
   "cell_type": "markdown",
   "metadata": {},
   "source": [
    "- Chi2-statistic: 65.56900706877083 - istnieje zależność między HEALTH2 a SOMA\n",
    "\n",
    "- p-value: 3.789994587869421e-14 - bardzo mała wartość (p<0.05) odrzucamy hipotezę zerową\n",
    "\n",
    "- wartości oczekiwane pokrywają się z zanotowanymi\n",
    "\n",
    "- osoby mające depresję somatyczną czują się gorzej"
   ]
  },
  {
   "cell_type": "markdown",
   "metadata": {},
   "source": [
    "##### EMPSTAT4"
   ]
  },
  {
   "cell_type": "code",
   "execution_count": 35,
   "metadata": {},
   "outputs": [
    {
     "name": "stdout",
     "output_type": "stream",
     "text": [
      "CATAG2       2     3\n",
      "EMPSTAT4            \n",
      "1         4104  5721\n",
      "2         2447  1072\n",
      "3          790   337\n",
      "4         2028  2179\n",
      "Chi2-statistic: 990.7096673808658\n",
      "p-value: 1.864146807039813e-214\n",
      "Degrees of freedom: 3\n",
      "Expected frequencies:\n",
      " [[4928.28059749 4896.71940251]\n",
      " [1765.15210408 1753.84789592]\n",
      " [ 565.31015098  561.68984902]\n",
      " [2110.25714745 2096.74285255]]\n"
     ]
    }
   ],
   "source": [
    "# Odrzucam wartość 1 w CATAG2, ponieważ w tej kategorii młodzież nie brała\n",
    "# udziału i dla EMPSTAT = 99 i CATAG2 = 1 komórka przyjmuje wartość\n",
    "# 18294 \n",
    "temp_data9 = final_data[final_data['CATAG2'].isin([2, 3])]\n",
    "table9 = pd.crosstab(temp_data9['EMPSTAT4'], temp_data9['CATAG2'])\n",
    "print(table9)\n",
    "\n",
    "chi2, p, dof, expected = chi2_contingency(table9)\n",
    "\n",
    "print(\"Chi2-statistic:\", chi2)\n",
    "print(\"p-value:\", p)\n",
    "print(\"Degrees of freedom:\", dof)\n",
    "print(\"Expected frequencies:\\n\", expected)"
   ]
  },
  {
   "cell_type": "markdown",
   "metadata": {},
   "source": [
    "- Chi2-statistic: 990.7096673808658 - istnieje silna zależność między EMPSTAT4 a CATAG2 dla grupy 18-25 i 26+\n",
    "\n",
    "- p-value: 1.864146807039813e-214 - odrzucamy hipotezę zerową\n",
    "\n",
    "- można zauważyć że osoby z przedziału 18-25 cześciej są nie zatrudnione i częściej pracują na część etatu (part time)\n",
    "\n",
    "- jest duża różnica między tym, co zaobserwowano, a tym co było oczekiwane (duże Chic2)"
   ]
  },
  {
   "cell_type": "code",
   "execution_count": 36,
   "metadata": {},
   "outputs": [
    {
     "name": "stdout",
     "output_type": "stream",
     "text": [
      "IRSEX        1     2\n",
      "EMPSTAT4            \n",
      "1         5307  4518\n",
      "2         1313  2206\n",
      "3          568   559\n",
      "4         1461  2746\n",
      "99        9330  8964\n",
      "Chi2-statistic: 662.5504707851796\n",
      "p-value: 4.471891441040355e-142\n",
      "Degrees of freedom: 4\n",
      "Expected frequencies:\n",
      " [[4777.76898734 5047.23101266]\n",
      " [1711.24367089 1807.75632911]\n",
      " [ 548.04535865  578.95464135]\n",
      " [2045.80907173 2161.19092827]\n",
      " [8896.13291139 9397.86708861]]\n"
     ]
    }
   ],
   "source": [
    "table10 = pd.crosstab(final_data['EMPSTAT4'], final_data['IRSEX'])\n",
    "print(table10)\n",
    "\n",
    "chi2, p, dof, expected = chi2_contingency(table10)\n",
    "\n",
    "print(\"Chi2-statistic:\", chi2)\n",
    "print(\"p-value:\", p)\n",
    "print(\"Degrees of freedom:\", dof)\n",
    "print(\"Expected frequencies:\\n\", expected)"
   ]
  },
  {
   "cell_type": "markdown",
   "metadata": {},
   "source": [
    "- Chi2-statistic: 662.5504707851796 - istnieje zależność między EMPSTAT4 a IRSEX\n",
    "\n",
    "- p-value: 4.471891441040355e-142 - odrzucamy hipotezę zerową\n",
    "\n",
    "- mężczyźni częściej pracują na pełen etat niż kobiety, natomiast kobiety częściej mają pracę part-time lub zajmują się czyms innym"
   ]
  },
  {
   "cell_type": "code",
   "execution_count": 37,
   "metadata": {},
   "outputs": [
    {
     "name": "stdout",
     "output_type": "stream",
     "text": [
      "SOMA         0     1\n",
      "EMPSTAT4            \n",
      "1          424  1313\n",
      "2          180   551\n",
      "3           60   179\n",
      "4          174   579\n",
      "99        1171  1753\n",
      "Chi2-statistic: 184.70272655248624\n",
      "p-value: 7.285061082663915e-39\n",
      "Degrees of freedom: 4\n",
      "Expected frequencies:\n",
      " [[ 546.62171053 1190.37828947]\n",
      " [ 230.04057018  500.95942982]\n",
      " [  75.21162281  163.78837719]\n",
      " [ 236.96381579  516.03618421]\n",
      " [ 920.1622807  2003.8377193 ]]\n"
     ]
    }
   ],
   "source": [
    "# Odrzucamy wartość 99 dla SOMA żeby przeanalizować tylko \n",
    "# te osoby które mają depresję somatyczną albo niesomatyczną\n",
    "temp_data11 = final_data[final_data['SOMA'].isin([0, 1])]\n",
    "table11 = pd.crosstab(temp_data11['EMPSTAT4'], temp_data11['SOMA'])\n",
    "print(table11)\n",
    "\n",
    "chi2, p, dof, expected = chi2_contingency(table11)\n",
    "\n",
    "print(\"Chi2-statistic:\", chi2)\n",
    "print(\"p-value:\", p)\n",
    "print(\"Degrees of freedom:\", dof)\n",
    "print(\"Expected frequencies:\\n\", expected)"
   ]
  },
  {
   "cell_type": "markdown",
   "metadata": {},
   "source": [
    "- Chi2-statistic: 184.70272655248624 - istnieje zależność między EMPSTAT4 a SOMA, wysoka wartość może świadczyć o tym, ze wyniki oczekiwane będą róznić się od tych zaobserwowanych\n",
    "\n",
    "- p-value: 7.285061082663915e-39 - odrzucamy hipoteze zerową, istnieje zalezność między EMPSTAT4 a SOMA"
   ]
  },
  {
   "cell_type": "markdown",
   "metadata": {},
   "source": [
    "##### ANYTHEFT"
   ]
  },
  {
   "cell_type": "code",
   "execution_count": 38,
   "metadata": {},
   "outputs": [
    {
     "name": "stdout",
     "output_type": "stream",
     "text": [
      "CATAG2        1     2     3\n",
      "ANYTHEFT                   \n",
      "0         17397  9101  9243\n",
      "1           897   268    66\n",
      "Chi2-statistic: 345.77670454880706\n",
      "p-value: 8.232706291545191e-76\n",
      "Degrees of freedom: 2\n",
      "Expected frequencies:\n",
      " [[17684.89272963  9057.05477118  8999.05249919]\n",
      " [  609.10727037   311.94522882   309.94750081]]\n"
     ]
    }
   ],
   "source": [
    "table12 = pd.crosstab(final_data['ANYTHEFT'], final_data['CATAG2'])\n",
    "print(table12)\n",
    "\n",
    "chi2, p, dof, expected = chi2_contingency(table12)\n",
    "\n",
    "print(\"Chi2-statistic:\", chi2)\n",
    "print(\"p-value:\", p)\n",
    "print(\"Degrees of freedom:\", dof)\n",
    "print(\"Expected frequencies:\\n\", expected)"
   ]
  },
  {
   "cell_type": "markdown",
   "metadata": {},
   "source": [
    "- Chi2-statistic: 345.77670454880706 - istnieje związek między ANYTHEFT a CATAG2\n",
    "\n",
    "- p-value: 8.232706291545191e-76 - odrzucamy hipotezę zerową\n",
    "\n",
    "- im człowiek starszy tym rzadziej popełnia jakieś przestępstwo"
   ]
  },
  {
   "cell_type": "code",
   "execution_count": 39,
   "metadata": {},
   "outputs": [
    {
     "name": "stdout",
     "output_type": "stream",
     "text": [
      "IRSEX         1      2\n",
      "ANYTHEFT              \n",
      "0         17211  18530\n",
      "1           768    463\n",
      "Chi2-statistic: 95.93907875100956\n",
      "p-value: 1.1847359663553216e-22\n",
      "Degrees of freedom: 1\n",
      "Expected frequencies:\n",
      " [[17380.38080169 18360.61919831]\n",
      " [  598.61919831   632.38080169]]\n"
     ]
    }
   ],
   "source": [
    "table13 = pd.crosstab(final_data['ANYTHEFT'], final_data['IRSEX'])\n",
    "print(table13)\n",
    "\n",
    "chi2, p, dof, expected = chi2_contingency(table13)\n",
    "\n",
    "print(\"Chi2-statistic:\", chi2)\n",
    "print(\"p-value:\", p)\n",
    "print(\"Degrees of freedom:\", dof)\n",
    "print(\"Expected frequencies:\\n\", expected)"
   ]
  },
  {
   "cell_type": "markdown",
   "metadata": {},
   "source": [
    "- Chi2-statistic: 95.93907875100956 - istnieje związek między ANYTHEFT a IRSEX. Dla ANYTHEFT oczekiwano mniejszy udział mężczyzn w popełnianiu przestępstwa oraz oczekiwana większego udziału kobiet\n",
    "\n",
    "- p-value: 1.1847359663553216e-22 - odrzucamy hipoteze zerową, istnieje zależność między tymi kategoriami"
   ]
  },
  {
   "cell_type": "code",
   "execution_count": 40,
   "metadata": {},
   "outputs": [
    {
     "name": "stdout",
     "output_type": "stream",
     "text": [
      "SOMA         0     1\n",
      "ANYTHEFT            \n",
      "0         1901  4144\n",
      "1          108   231\n",
      "Chi2-statistic: 0.009691168941764602\n",
      "p-value: 0.9215799478816533\n",
      "Degrees of freedom: 1\n",
      "Expected frequencies:\n",
      " [[1902.31907895 4142.68092105]\n",
      " [ 106.68092105  232.31907895]]\n"
     ]
    }
   ],
   "source": [
    "temp_data14 = final_data[final_data['SOMA'].isin([0, 1])]\n",
    "table14 = pd.crosstab(temp_data14['ANYTHEFT'], temp_data14['SOMA'])\n",
    "print(table14)\n",
    "\n",
    "chi2, p, dof, expected = chi2_contingency(table14)\n",
    "\n",
    "print(\"Chi2-statistic:\", chi2)\n",
    "print(\"p-value:\", p)\n",
    "print(\"Degrees of freedom:\", dof)\n",
    "print(\"Expected frequencies:\\n\", expected)"
   ]
  },
  {
   "cell_type": "markdown",
   "metadata": {},
   "source": [
    "- Chi2-statistic: 0.009691168941764602 - niska wartość, oznacza, że różnice między obserwowanymi a oczekiwanymi wartościami są minimalne. Zatem obie te cechy są niemal niezalene od siebie\n",
    "\n",
    "- p-value: 0.9215799478816533 - p > 0.05, zatem nie ma wystarczających dowodów, by odrzucić hipotezę zetową o braku zależności między ANYTHEFT a SOMA\n",
    "\n",
    "- Kradzież nie wydaje się mieć związku z występowaniem depresji somatycznej lub niesomatycznej"
   ]
  },
  {
   "cell_type": "markdown",
   "metadata": {},
   "source": [
    "##### IRMARIT"
   ]
  },
  {
   "cell_type": "code",
   "execution_count": 41,
   "metadata": {},
   "outputs": [
    {
     "name": "stdout",
     "output_type": "stream",
     "text": [
      "CATAG2      2     3\n",
      "IRMARIT            \n",
      "1        1509  5704\n",
      "2           7   430\n",
      "3         216  1478\n",
      "4        7637  1697\n",
      "Chi2-statistic: 7569.382245842245\n",
      "p-value: 0.0\n",
      "Degrees of freedom: 3\n",
      "Expected frequencies:\n",
      " [[3618.0852875  3594.9147125 ]\n",
      " [ 219.20189528  217.79810472]\n",
      " [ 849.72084806  844.27915194]\n",
      " [4681.99196916 4652.00803084]]\n"
     ]
    }
   ],
   "source": [
    "# Odrzucam CATAG2 = 1 ponieważ ta cecha dotyczy głównie dorosłych, a \n",
    "# młodzież mogłaby zakłócać wyniki\n",
    "temp_data15 = final_data[final_data['CATAG2'].isin([2, 3])]\n",
    "table15 = pd.crosstab(temp_data15['IRMARIT'], temp_data15['CATAG2'])\n",
    "print(table15)\n",
    "\n",
    "chi2, p, dof, expected = chi2_contingency(table15)\n",
    "\n",
    "print(\"Chi2-statistic:\", chi2)\n",
    "print(\"p-value:\", p)\n",
    "print(\"Degrees of freedom:\", dof)\n",
    "print(\"Expected frequencies:\\n\", expected)"
   ]
  },
  {
   "cell_type": "markdown",
   "metadata": {},
   "source": [
    " - Chi2-statistic: 7569.382245842245 - istnieje zależność między IRMARIT a CATAG2, ale przez dużą wartość wyniki oczekiwane znacznie odbiegają od obserwowanych\n",
    "\n",
    " - p-value: 0.0 - odrzucamy hipotezę zerową, silna zależność"
   ]
  },
  {
   "cell_type": "code",
   "execution_count": 42,
   "metadata": {},
   "outputs": [
    {
     "name": "stdout",
     "output_type": "stream",
     "text": [
      "IRSEX       1     2\n",
      "IRMARIT            \n",
      "1        3246  3984\n",
      "2          84   353\n",
      "3         614  1083\n",
      "4        9373  9036\n",
      "99       4662  4537\n",
      "Chi2-statistic: 350.85604331586205\n",
      "p-value: 1.1458975398368322e-74\n",
      "Degrees of freedom: 4\n",
      "Expected frequencies:\n",
      " [[3515.85443038 3714.14556962]\n",
      " [ 212.50738397  224.49261603]\n",
      " [ 825.22890295  871.77109705]\n",
      " [8952.05590717 9456.94409283]\n",
      " [4473.35337553 4725.64662447]]\n"
     ]
    }
   ],
   "source": [
    "table16 = pd.crosstab(final_data['IRMARIT'], final_data['IRSEX'])\n",
    "print(table16)\n",
    "\n",
    "chi2, p, dof, expected = chi2_contingency(table16)\n",
    "\n",
    "print(\"Chi2-statistic:\", chi2)\n",
    "print(\"p-value:\", p)\n",
    "print(\"Degrees of freedom:\", dof)\n",
    "print(\"Expected frequencies:\\n\", expected)"
   ]
  },
  {
   "cell_type": "markdown",
   "metadata": {},
   "source": [
    " - Chi2-statistic: 350.85604331586205 - istnieje zależność między IRMARIT a IRSEX, ale przez dużą wartość wyniki oczekiwane znacznie odbiegają od obserwowanych\n",
    "\n",
    " - p-value: 1.1458975398368322e-74 - odrzucamy hipotezę zerową, silna zależność\n",
    "\n",
    " - kobiety częściej się rozwodzą od mężczyzn, tak samo częściej są wdowami i częściej biorą ślub"
   ]
  },
  {
   "cell_type": "code",
   "execution_count": 43,
   "metadata": {},
   "outputs": [
    {
     "name": "stdout",
     "output_type": "stream",
     "text": [
      "SOMA        0     1\n",
      "IRMARIT            \n",
      "1         271   830\n",
      "2          13    62\n",
      "3          78   414\n",
      "4        1181  2435\n",
      "99        466   634\n",
      "Chi2-statistic: 149.48782163132427\n",
      "p-value: 2.6210765309064217e-31\n",
      "Degrees of freedom: 4\n",
      "Expected frequencies:\n",
      " [[ 346.47697368  754.52302632]\n",
      " [  23.60197368   51.39802632]\n",
      " [ 154.82894737  337.17105263]\n",
      " [1137.92982456 2478.07017544]\n",
      " [ 346.1622807   753.8377193 ]]\n"
     ]
    }
   ],
   "source": [
    "temp_data17 = final_data[final_data['SOMA'].isin([0, 1])]\n",
    "table17 = pd.crosstab(temp_data17['IRMARIT'], temp_data17['SOMA'])\n",
    "print(table17)\n",
    "\n",
    "chi2, p, dof, expected = chi2_contingency(table17)\n",
    "\n",
    "print(\"Chi2-statistic:\", chi2)\n",
    "print(\"p-value:\", p)\n",
    "print(\"Degrees of freedom:\", dof)\n",
    "print(\"Expected frequencies:\\n\", expected)"
   ]
  },
  {
   "cell_type": "markdown",
   "metadata": {},
   "source": [
    "- Chi2-statistic: 149.48782163132427 - istnieje zależność między IRMARIT a SOMA, duża wartość - duże rozbieżności między przewidywaniami a obserwacjami\n",
    "\n",
    "- p-value: 2.6210765309064217e-31 - odrzucenie hipitezy zerowej\n",
    "\n",
    "- osoby mające zarówno depresje somatyczną i niesomatyczną rzadziej biorą ślub"
   ]
  },
  {
   "cell_type": "markdown",
   "metadata": {},
   "source": [
    "##### IREDUC2"
   ]
  },
  {
   "cell_type": "code",
   "execution_count": 44,
   "metadata": {},
   "outputs": [
    {
     "name": "stdout",
     "output_type": "stream",
     "text": [
      "CATAG2      1     2     3\n",
      "IREDUC2                  \n",
      "1        1177    58   118\n",
      "2        2861    75   137\n",
      "3        3171    20    46\n",
      "4        3248   101   163\n",
      "5        3107   269   243\n",
      "6        2811   408   326\n",
      "7        1709  1064   461\n",
      "8         194  3277  2976\n",
      "9          14  1219   739\n",
      "10          2  1756  1525\n",
      "11          0  1122  2575\n",
      "Chi2-statistic: 27868.645406169784\n",
      "p-value: 0.0\n",
      "Degrees of freedom: 20\n",
      "Expected frequencies:\n",
      " [[ 669.47370983  342.86100292  340.66528724]\n",
      " [1520.54154495  778.72273612  773.73571892]\n",
      " [1601.68987342  820.28164557  815.02848101]\n",
      " [1737.76176566  889.96884129  884.26939305]\n",
      " [1790.70610191  917.08349562  911.21040247]\n",
      " [1754.09039273  898.33130477  892.5783025 ]\n",
      " [1600.20545278  819.52142162  814.27312561]\n",
      " [3190.01996105 1633.72127556 1623.25876339]\n",
      " [ 975.7591691   499.72054528  496.52028562]\n",
      " [1624.45098994  831.93841285  826.61059721]\n",
      " [1829.30103862  936.8493184   930.84964297]]\n"
     ]
    }
   ],
   "source": [
    "table18 = pd.crosstab(final_data['IREDUC2'], final_data['CATAG2'])\n",
    "print(table18)\n",
    "\n",
    "chi2, p, dof, expected = chi2_contingency(table18)\n",
    "\n",
    "print(\"Chi2-statistic:\", chi2)\n",
    "print(\"p-value:\", p)\n",
    "print(\"Degrees of freedom:\", dof)\n",
    "print(\"Expected frequencies:\\n\", expected)"
   ]
  },
  {
   "cell_type": "markdown",
   "metadata": {},
   "source": [
    "- Chi2-statistic: 27868.645406169784 - duża wartość świadczy o tym że przewidywane wartości bedą się różnić od tych zaobserwowanych\n",
    "\n",
    "- p-value: 0.0 - odrzucamy hipoteze zerową, istnieje silna zależność między IREDUC2 a CATAG2"
   ]
  },
  {
   "cell_type": "code",
   "execution_count": 45,
   "metadata": {},
   "outputs": [
    {
     "name": "stdout",
     "output_type": "stream",
     "text": [
      "IRSEX       1     2\n",
      "IREDUC2            \n",
      "1         758   595\n",
      "2        1581  1492\n",
      "3        1643  1594\n",
      "4        1774  1738\n",
      "5        1853  1766\n",
      "6        1794  1751\n",
      "7        1621  1613\n",
      "8        2953  3494\n",
      "9         834  1138\n",
      "10       1469  1814\n",
      "11       1699  1998\n",
      "Chi2-statistic: 150.96082848352674\n",
      "p-value: 2.36436988345061e-27\n",
      "Degrees of freedom: 10\n",
      "Expected frequencies:\n",
      " [[ 657.94620253  695.05379747]\n",
      " [1494.35970464 1578.64029536]\n",
      " [1574.11075949 1662.88924051]\n",
      " [1707.83966245 1804.16033755]\n",
      " [1759.87236287 1859.12763713]\n",
      " [1723.8871308  1821.1128692 ]\n",
      " [1572.65189873 1661.34810127]\n",
      " [3135.09177215 3311.90822785]\n",
      " [ 958.95780591 1013.04219409]\n",
      " [1596.47995781 1686.52004219]\n",
      " [1797.80274262 1899.19725738]]\n"
     ]
    }
   ],
   "source": [
    "table19 = pd.crosstab(final_data['IREDUC2'], final_data['IRSEX'])\n",
    "print(table19)\n",
    "\n",
    "chi2, p, dof, expected = chi2_contingency(table19)\n",
    "\n",
    "print(\"Chi2-statistic:\", chi2)\n",
    "print(\"p-value:\", p)\n",
    "print(\"Degrees of freedom:\", dof)\n",
    "print(\"Expected frequencies:\\n\", expected)"
   ]
  },
  {
   "cell_type": "markdown",
   "metadata": {},
   "source": [
    "- Chi2-statistic: 150.96082848352674 - duża wartość świadczy o tym że przewidywane wartości bedą się różnić od tych zaobserwowanych\n",
    "\n",
    "- p-value: 2.36436988345061e-27 - odrzucamy hipoteze zerową, istnieje silna zależność między IREDUC2 a CATAG2"
   ]
  },
  {
   "cell_type": "code",
   "execution_count": 46,
   "metadata": {},
   "outputs": [
    {
     "name": "stdout",
     "output_type": "stream",
     "text": [
      "SOMA       0    1\n",
      "IREDUC2          \n",
      "1         34   52\n",
      "2        138  169\n",
      "3        170  243\n",
      "4        243  377\n",
      "5        249  401\n",
      "6        257  477\n",
      "7        197  438\n",
      "8        279  907\n",
      "9         88  307\n",
      "10       156  518\n",
      "11       198  486\n",
      "Chi2-statistic: 155.8969623608529\n",
      "p-value: 2.2750641595667887e-28\n",
      "Degrees of freedom: 10\n",
      "Expected frequencies:\n",
      " [[ 27.06359649  58.93640351]\n",
      " [ 96.61074561 210.38925439]\n",
      " [129.96820175 283.03179825]\n",
      " [195.10964912 424.89035088]\n",
      " [204.5504386  445.4495614 ]\n",
      " [230.98464912 503.01535088]\n",
      " [199.83004386 435.16995614]\n",
      " [373.22587719 812.77412281]\n",
      " [124.30372807 270.69627193]\n",
      " [212.10307018 461.89692982]\n",
      " [215.25       468.75      ]]\n"
     ]
    }
   ],
   "source": [
    "temp_data20 = final_data[final_data['SOMA'].isin([0, 1])]\n",
    "table20 = pd.crosstab(temp_data20['IREDUC2'], temp_data20['SOMA'])\n",
    "print(table20)\n",
    "\n",
    "chi2, p, dof, expected = chi2_contingency(table20)\n",
    "\n",
    "print(\"Chi2-statistic:\", chi2)\n",
    "print(\"p-value:\", p)\n",
    "print(\"Degrees of freedom:\", dof)\n",
    "print(\"Expected frequencies:\\n\", expected)"
   ]
  },
  {
   "cell_type": "markdown",
   "metadata": {},
   "source": [
    "- Chi2-statistic: 155.8969623608529 - duża wartość świadczy o tym że różnice między obserwacjami a przewidywaniami są istotne, istnieje zależność między nimi\n",
    "\n",
    "- p-value: 2.2750641595667887e-28 - możemy odrzucić hipiteze zerową, istnieje istotna zależność\n",
    "\n",
    "- im człowiek bardziej wyedukowany tym szansa na depresje somatyczną lub niesomatyczą rośnie tak do 8 stopnia"
   ]
  },
  {
   "cell_type": "markdown",
   "metadata": {},
   "source": [
    "##### Poziom depresji w zależności od wybranej cechy a płci, wieku"
   ]
  },
  {
   "cell_type": "code",
   "execution_count": 47,
   "metadata": {},
   "outputs": [
    {
     "data": {
      "image/png": "[encoded data removed]",
      "text/plain": [
       "<Figure size 1301.72x500 with 2 Axes>"
      ]
     },
     "metadata": {},
     "output_type": "display_data"
    }
   ],
   "source": [
    "grouped_data = (\n",
    "    final_data.groupby(['CATAG2', 'DSTCHEER', 'IRSEX'], as_index=False)\n",
    "    .agg({'DEPRESSIONINDEX': 'mean'})\n",
    ")\n",
    "\n",
    "sns.set_theme(style=\"whitegrid\")\n",
    "g = sns.catplot(\n",
    "    data=grouped_data,\n",
    "    x='CATAG2',\n",
    "    y='DEPRESSIONINDEX',\n",
    "    hue='DSTCHEER',\n",
    "    col='IRSEX',\n",
    "    kind='bar',\n",
    "    palette='tab10',\n",
    "    height=5,\n",
    "    aspect=1.2\n",
    ")\n",
    "\n",
    "g.set_axis_labels(\"CATAG2\", \"DEPRESSIONINDEX\")\n",
    "g.set_titles(\"IRSEX: {col_name}\")\n",
    "g.legend.set_title(\"DSTCHEER\")\n",
    "\n",
    "plt.show()\n"
   ]
  },
  {
   "cell_type": "markdown",
   "metadata": {},
   "source": [
    "Jak widać na powyższym wykresie przedstawiającym średnią wartość poziomu depresji zależną od możliwości pocieszenia badanej osoby z rodzieleniem na wiek i płeć, można zauważyć że im rzadziej da się taką osobe pocieszyć, tym poziom depresji u człowieka (zarowno w przypadku mężczyzn i kobiet) jest wyższy. Warto zauważyć że u kobiet ten współczynnik przyjmuje większe wartości niż u mężczyzn. Między wartościami 2 a 3 we wszystkich przypadkach (oprócz CATAG2 = 1, gdzie występują same missing value - najwidoczniej to pytanie nie dotyczyło młodzieży) widać duży spadek."
   ]
  },
  {
   "cell_type": "code",
   "execution_count": 48,
   "metadata": {},
   "outputs": [
    {
     "data": {
      "image/png": "[encoded data removed]",
      "text/plain": [
       "<Figure size 1415.88x500 with 2 Axes>"
      ]
     },
     "metadata": {},
     "output_type": "display_data"
    }
   ],
   "source": [
    "grouped_data = (\n",
    "    final_data.groupby(['CATAG2', 'ANYINDEX', 'IRSEX'], as_index=False)\n",
    "    .agg({'DEPRESSIONINDEX': 'mean'})\n",
    ")\n",
    "\n",
    "sns.set_theme(style=\"whitegrid\")\n",
    "g = sns.catplot(\n",
    "    data=grouped_data,\n",
    "    x='CATAG2',\n",
    "    y='DEPRESSIONINDEX',\n",
    "    hue='ANYINDEX',\n",
    "    col='IRSEX',\n",
    "    kind='bar',\n",
    "    palette='tab10',\n",
    "    height=5,\n",
    "    aspect=1.2\n",
    ")\n",
    "\n",
    "g.set_axis_labels(\"CATAG2\", \"DEPRESSIONINDEX\")\n",
    "g.set_titles(\"IRSEX: {col_name}\")\n",
    "g.legend.set_title(\"ANYINDEX\")\n",
    "\n",
    "plt.show()"
   ]
  },
  {
   "cell_type": "markdown",
   "metadata": {},
   "source": [
    "Jak widać na powyższym wykresie przedstawiającym średnią wartość poziomu depresji zależną od wskaźnika uzależnienia od narkotyków z rozdzieleniem na wiek i płeć, można zauważyć ogólnie, że im osoba jest bardziej uzależniona tym ma większą skłonność do popadania w głębszą depresję. Wyróżniającą się wartością jest wartość ANYINDEX = 1 dla płci żeńśkiej w przedziale wiekowym 12-17, gdzie ten poziom depresji jest największy. Ogólnie poziom depresji dla tej grupy wiekowej porównując obie płcie jest bardzo różniący się, co może świadczyć o tym, że młode kobiety są bardziej emocjonalne i łatwiej ulegają używkom"
   ]
  },
  {
   "cell_type": "code",
   "execution_count": 49,
   "metadata": {},
   "outputs": [
    {
     "data": {
      "image/png": "[encoded data removed]",
      "text/plain": [
       "<Figure size 1286.97x500 with 2 Axes>"
      ]
     },
     "metadata": {},
     "output_type": "display_data"
    }
   ],
   "source": [
    "grouped_data = (\n",
    "    final_data.groupby(['CATAG2', 'HEALTH2', 'IRSEX'], as_index=False)\n",
    "    .agg({'DEPRESSIONINDEX': 'mean'})\n",
    ")\n",
    "\n",
    "sns.set_theme(style=\"whitegrid\")\n",
    "g = sns.catplot(\n",
    "    data=grouped_data,\n",
    "    x='CATAG2',\n",
    "    y='DEPRESSIONINDEX',\n",
    "    hue='HEALTH2',\n",
    "    col='IRSEX',\n",
    "    kind='bar',\n",
    "    palette='tab10',\n",
    "    height=5,\n",
    "    aspect=1.2\n",
    ")\n",
    "\n",
    "g.set_axis_labels(\"CATAG2\", \"DEPRESSIONINDEX\")\n",
    "g.set_titles(\"IRSEX: {col_name}\")\n",
    "g.legend.set_title(\"HEALTH2\")\n",
    "\n",
    "plt.show()"
   ]
  },
  {
   "cell_type": "markdown",
   "metadata": {},
   "source": [
    "Jak widać na powyższym wykresie przedstawiającym średnią wartość poziomu depresji zależną od poziomu zdrowia z rodzieleniem na wiek i płeć, można zauważyć że im gorsze zdrowie, tym poziom depresji u człowieka (zarowno w przypadku mężczyzn i kobiet) jest wyższy. Warto zauważyć że u kobiet ten współczynnik przyjmuje większe wartości niż u mężczyzn"
   ]
  },
  {
   "cell_type": "code",
   "execution_count": 50,
   "metadata": {},
   "outputs": [
    {
     "data": {
      "image/png": "[encoded data removed]",
      "text/plain": [
       "<Figure size 1297.85x500 with 2 Axes>"
      ]
     },
     "metadata": {},
     "output_type": "display_data"
    }
   ],
   "source": [
    "grouped_data = (\n",
    "    final_data.groupby(['CATAG2', 'EMPSTAT4', 'IRSEX'], as_index=False)\n",
    "    .agg({'DEPRESSIONINDEX': 'mean'})\n",
    ")\n",
    "\n",
    "sns.set_theme(style=\"whitegrid\")\n",
    "g = sns.catplot(\n",
    "    data=grouped_data,\n",
    "    x='CATAG2',\n",
    "    y='DEPRESSIONINDEX',\n",
    "    hue='EMPSTAT4',\n",
    "    col='IRSEX',\n",
    "    kind='bar',\n",
    "    palette='tab10',\n",
    "    height=5,\n",
    "    aspect=1.2\n",
    ")\n",
    "\n",
    "g.set_axis_labels(\"CATAG2\", \"DEPRESSIONINDEX\")\n",
    "g.set_titles(\"IRSEX: {col_name}\")\n",
    "g.legend.set_title(\"EMPSTAT4\")\n",
    "\n",
    "plt.show()"
   ]
  },
  {
   "cell_type": "markdown",
   "metadata": {},
   "source": [
    "Jak widać na powyższym wykresie przedstawiającym średnią wartość poziomu depresji zależną od rodzaju zatrudnienia z rodzieleniem na wiek i płeć, mozna zauważyć, że ta cecha nie ma aż takiego wpływu na rozwój depresji jak poprzednie omawiane czynniki, jednak mimo wszystko można zauważyć, że osoby które są bezrobotne mają większą tendencję do popadania w depresje. Może wynikać to z rosnącej presji, że dana osoba nie ma pracy lub też ma za dużo wolnego czasu w porównaniu z osobami, które pracują i nie mają czasu na tego typu rozmyślania"
   ]
  },
  {
   "cell_type": "code",
   "execution_count": 51,
   "metadata": {},
   "outputs": [
    {
     "data": {
      "image/png": "[encoded data removed]",
      "text/plain": [
       "<Figure size 1298.97x500 with 2 Axes>"
      ]
     },
     "metadata": {},
     "output_type": "display_data"
    }
   ],
   "source": [
    "grouped_data = (\n",
    "    final_data.groupby(['CATAG2', 'ANYTHEFT', 'IRSEX'], as_index=False)\n",
    "    .agg({'DEPRESSIONINDEX': 'mean'})\n",
    ")\n",
    "\n",
    "sns.set_theme(style=\"whitegrid\")\n",
    "g = sns.catplot(\n",
    "    data=grouped_data,\n",
    "    x='CATAG2',\n",
    "    y='DEPRESSIONINDEX',\n",
    "    hue='ANYTHEFT',\n",
    "    col='IRSEX',\n",
    "    kind='bar',\n",
    "    palette='tab10',\n",
    "    height=5,\n",
    "    aspect=1.2\n",
    ")\n",
    "\n",
    "g.set_axis_labels(\"CATAG2\", \"DEPRESSIONINDEX\")\n",
    "g.set_titles(\"IRSEX: {col_name}\")\n",
    "g.legend.set_title(\"ANYTHEFT\")\n",
    "\n",
    "plt.show()"
   ]
  },
  {
   "cell_type": "markdown",
   "metadata": {},
   "source": [
    "Jak widać na powyższym wykresie przedstawiającym średni poziom depresji w zależności od tego czy dana osoba popełniła jakieś przestępstwo bądź nie, z rodzieleniem na wiek i płeć, można zauważyć jasną tendencję, że osoba, która popełniła jakiekolwiek wykroczenie ma większą skłonność do popadania w głębszą depresję od tych osób, które takiego wykroczenia nie popełniły. Widać również, że w przypadku mężczyzn ten poziom w przypadku popełnienia przestępstwa jest w miarę równy, w przeciwieństwie do kobiet, gdzie to z wiekiem ten współczynnik maleje z ok. 3.5 do ok. 1.5, czyli jest na zbliżonym poziomie co u kobiet, które nie miały problemów z prawem"
   ]
  },
  {
   "cell_type": "code",
   "execution_count": 52,
   "metadata": {},
   "outputs": [
    {
     "data": {
      "image/png": "[encoded data removed]",
      "text/plain": [
       "<Figure size 1281.22x500 with 2 Axes>"
      ]
     },
     "metadata": {},
     "output_type": "display_data"
    }
   ],
   "source": [
    "grouped_data = (\n",
    "    final_data.groupby(['CATAG2', 'IRMARIT', 'IRSEX'], as_index=False)\n",
    "    .agg({'DEPRESSIONINDEX': 'mean'})\n",
    ")\n",
    "\n",
    "sns.set_theme(style=\"whitegrid\")\n",
    "g = sns.catplot(\n",
    "    data=grouped_data,\n",
    "    x='CATAG2',\n",
    "    y='DEPRESSIONINDEX',\n",
    "    hue='IRMARIT',\n",
    "    col='IRSEX',\n",
    "    kind='bar',\n",
    "    palette='tab10',\n",
    "    height=5,\n",
    "    aspect=1.2\n",
    ")\n",
    "\n",
    "g.set_axis_labels(\"CATAG2\", \"DEPRESSIONINDEX\")\n",
    "g.set_titles(\"IRSEX: {col_name}\")\n",
    "g.legend.set_title(\"IRMARIT\")\n",
    "\n",
    "plt.show()"
   ]
  },
  {
   "cell_type": "markdown",
   "metadata": {},
   "source": [
    "Na powyższym wykresie przedstawiającym średni poziom depresji w zależności od statusu społecznego danej osoby z rodzieleniem na płec i wiek, można zauważyć, że osoby rozwiedzione mają większe skłonności do popadania w głębszą depresję od osób które są pobrały się lub są wdowcami, czy też nigdy nie brały ślubu albo są za młode. Ciekawym spostrzeżeniem jest fakt, że w grupie mężczyzn w pierwszym przedziale wiekowym nie ma ani jednej osoby, która by wzięła ślub, w przeciwieństwie do kobiet z tej samej grupy, gdzie jak widać są przypadku zamążpójścia i rozwiedzenia się"
   ]
  },
  {
   "cell_type": "code",
   "execution_count": 53,
   "metadata": {},
   "outputs": [
    {
     "data": {
      "image/png": "[encoded data removed]",
      "text/plain": [
       "<Figure size 1286.6x500 with 2 Axes>"
      ]
     },
     "metadata": {},
     "output_type": "display_data"
    }
   ],
   "source": [
    "grouped_data = (\n",
    "    final_data.groupby(['CATAG2', 'IREDUC2', 'IRSEX'], as_index=False)\n",
    "    .agg({'DEPRESSIONINDEX': 'mean'})\n",
    ")\n",
    "\n",
    "sns.set_theme(style=\"whitegrid\")\n",
    "g = sns.catplot(\n",
    "    data=grouped_data,\n",
    "    x='CATAG2',\n",
    "    y='DEPRESSIONINDEX',\n",
    "    hue='IREDUC2',\n",
    "    col='IRSEX',\n",
    "    kind='bar',\n",
    "    palette='tab10',\n",
    "    height=5,\n",
    "    aspect=1.2\n",
    ")\n",
    "\n",
    "g.set_axis_labels(\"CATAG2\", \"DEPRESSIONINDEX\")\n",
    "g.set_titles(\"IRSEX: {col_name}\")\n",
    "g.legend.set_title(\"IREDUC2\")\n",
    "\n",
    "plt.show()"
   ]
  },
  {
   "cell_type": "markdown",
   "metadata": {},
   "source": [
    "Na powyższym wykresie przedstawiającym średnią wartość depresji w zależności od poziomu edukacji z rodzieleniem na wiek i płeć, mozna zauważyć że osoby z mniejszym wykształceniem mają mniejszą skłonność do popadania w depresję. Jak widać na wykresie, im wyższy stopień tym większa szansa na depresję, co prawda tendecja wzrostowa jest do pewnego momentu, ponieważ potem widać że im osoba jest bardziej wykształcona, tym ten poziom jest mniej więcej stały. Wyjątkiem jest wartość IREDUC = 4 dla CATAG2 = 2 dla obu płci, ponieważ występuje tam swego rodzaju szpila (może złożyło się tak, że z tej klasy brało więcej uczniów, którzy mają depresję od pozostałych stąd taki wynik)"
   ]
  },
  {
   "cell_type": "markdown",
   "metadata": {},
   "source": [
    "##### Obserwacje"
   ]
  },
  {
   "cell_type": "markdown",
   "metadata": {},
   "source": [
    "Podsumowując moją analizę wybranych czynników, które mają wpływ na poziom depresji u badanej grupy osób, dochodzę do wniosku, że cecha, która ma największy udział to DSTCHEER. Natomiast cechą, która ma najmniejszy udział jest EMPSTAT4 (chodziło mi o to że jej wartości dużo nie różnią się od bazowego interceptu). Przez wzgląd na brakujące wartości, należy wziąć poprawkę na to, że otrzymane przeze mnie wyniki mogą posiadać błędy. Resztę obserwacji opisałem powyżej, więc nie będę ich tutaj powtarzał"
   ]
  },
  {
   "cell_type": "markdown",
   "metadata": {},
   "source": [
    "## FAZA II - predykcja"
   ]
  },
  {
   "cell_type": "markdown",
   "metadata": {},
   "source": [
    "1. Stwórz model regresyjny umożliwiający oszacowanie natężenia depresji u danej osoby lub model, który dokonuje klasyfikacji na osoby z depresją i bez - decyzję które podejście wybrać podejmij w oparciu o własne testy i analizy.\n"
   ]
  },
  {
   "cell_type": "markdown",
   "metadata": {},
   "source": [
    "W moim przypadku postawiłem na model, który będzie umożliwiał oszacowanie natężenia depresji u danej osoby"
   ]
  },
  {
   "cell_type": "code",
   "execution_count": 54,
   "metadata": {},
   "outputs": [
    {
     "name": "stdout",
     "output_type": "stream",
     "text": [
      "Zbiór treningowy: 29577\n",
      "Zbiór walidacyjny: 7395\n"
     ]
    }
   ],
   "source": [
    "train_data, val_data = train_test_split(final_data, test_size=0.2,stratify=final_data['CATAG2'],random_state=42)\n",
    "\n",
    "print(f\"Zbiór treningowy: {train_data.shape[0]}\")\n",
    "print(f\"Zbiór walidacyjny: {val_data.shape[0]}\")\n",
    "\n",
    "formula_reg = \"\"\"\n",
    "DEPRESSIONINDEX ~ C(IREDUC2) + C(IRMARIT) + C(HEALTH2) + C(DSTCHEER) + C(ANYINDEX) + C(ANYTHEFT) + C(EMPSTAT4)\n",
    "\"\"\"\n",
    "model_reg = ols(formula=formula_reg, data=train_data)\n",
    "res_reg = model_reg.fit()\n",
    "# res_reg.summary()"
   ]
  },
  {
   "cell_type": "markdown",
   "metadata": {},
   "source": [
    "2. Dokonaj ocenę modelu, (użyj do tego zbioru walidacyjnego), pamiętaj żeby ten zbiór miał możliwie podobny rozkład populacji"
   ]
  },
  {
   "cell_type": "code",
   "execution_count": 55,
   "metadata": {},
   "outputs": [
    {
     "name": "stdout",
     "output_type": "stream",
     "text": [
      "Mean Squared Error (MSE): 6.315716603859546\n",
      "Mean Absolute Error (MAE): 1.7167450076654205\n"
     ]
    }
   ],
   "source": [
    "val_X = val_data[['IREDUC2', 'IRMARIT', 'HEALTH2', 'DSTCHEER', 'ANYINDEX', 'ANYTHEFT', 'EMPSTAT4']]\n",
    "val_X = sm.add_constant(pd.get_dummies(val_X, drop_first=True))\n",
    "val_y = val_data['DEPRESSIONINDEX']\n",
    "\n",
    "val_predictions = res_reg.predict(val_X)\n",
    "\n",
    "mse = mean_squared_error(val_y, val_predictions)\n",
    "mae = mean_absolute_error(val_y, val_predictions)\n",
    "\n",
    "print(f\"Mean Squared Error (MSE): {mse}\")\n",
    "print(f\"Mean Absolute Error (MAE): {mae}\")"
   ]
  },
  {
   "cell_type": "markdown",
   "metadata": {},
   "source": [
    "3. Przeanalizuj wyjście z modelu, którym jest prawdopodobieństwo przynależności do danej klasy, w tym celu jeżeli wykorzystałeś model regresyjny możesz zastosować na wyjściu aktywację w postaci funkcji sigmoidalnej"
   ]
  },
  {
   "cell_type": "code",
   "execution_count": 56,
   "metadata": {},
   "outputs": [
    {
     "name": "stdout",
     "output_type": "stream",
     "text": [
      "8971     0.891962\n",
      "7704     0.982598\n",
      "34642    0.866108\n",
      "54341    0.787276\n",
      "21261    0.708442\n",
      "21949    0.832508\n",
      "39954    0.597024\n",
      "43014    0.787276\n",
      "31998    0.762567\n",
      "9927     0.984407\n",
      "dtype: float64\n"
     ]
    }
   ],
   "source": [
    "def sigmoid(x):\n",
    "    return 1 / (1 + np.exp(-x))\n",
    "\n",
    "sigmoid_predictions = sigmoid(val_predictions)\n",
    "\n",
    "print(sigmoid_predictions[:10]) "
   ]
  },
  {
   "cell_type": "markdown",
   "metadata": {},
   "source": [
    "4. Posortuj otrzymane wyniki po wartości prawdopodobieństwa i podziel je na 5-8 równolicznych grup, dla każdej z tych grup wyznacz ryzyko wystąpienia depresji (bazując na ilorazie liczby osób z depresją i całkowitej liczby osób). Wyświetl wykres zmian ryzyka dla poszczególnych grup"
   ]
  },
  {
   "cell_type": "code",
   "execution_count": 57,
   "metadata": {},
   "outputs": [
    {
     "data": {
      "image/png": "[encoded data removed]",
      "text/plain": [
       "<Figure size 800x500 with 1 Axes>"
      ]
     },
     "metadata": {},
     "output_type": "display_data"
    }
   ],
   "source": [
    "data_prob = pd.DataFrame({\n",
    "    \"Probability\": sigmoid_predictions,\n",
    "    \"DepressionIndex\": val_y\n",
    "})\n",
    "\n",
    "data_prob = data_prob.sort_values(by=\"Probability\").reset_index(drop=True)\n",
    "data_prob[\"Group\"] = pd.qcut(data_prob[\"Probability\"], q=8, labels=range(1, 9))\n",
    "data_prob[\"Depressed\"] = data_prob[\"DepressionIndex\"] >= 1\n",
    "\n",
    "group_risk = data_prob.groupby(\"Group\", observed=False).agg(\n",
    "    Total=(\"Depressed\", \"size\"),\n",
    "    Depressed=(\"Depressed\", \"sum\")\n",
    ")\n",
    "group_risk[\"Risk\"] = group_risk[\"Depressed\"] / group_risk[\"Total\"]\n",
    "group_risk.reset_index(inplace=True)\n",
    "group_risk[\"Group\"] = group_risk[\"Group\"].astype(str)\n",
    "\n",
    "plt.figure(figsize=(8, 5))\n",
    "plt.plot(group_risk[\"Group\"].to_numpy(), group_risk[\"Risk\"].to_numpy(), marker=\"o\", linestyle=\"-\", color=\"b\")\n",
    "plt.title(\"Zmiany ryzyka depresji dla poszczególnych grup\")\n",
    "plt.xlabel(\"Grupa (wg prawdopodobieństwa)\")\n",
    "plt.ylabel(\"Ryzyko wystąpienia depresji\")\n",
    "plt.grid(alpha=0.5)\n",
    "plt.show()\n",
    "\n"
   ]
  },
  {
   "cell_type": "markdown",
   "metadata": {},
   "source": [
    "Jak widać na powyższym wykresie przedstawiającym zmiany ryzyka depresji dla poszczególnych grup, wraz ze wzrostem grupy ryzyko wystąpnienia depresji jest większe"
   ]
  },
  {
   "cell_type": "markdown",
   "metadata": {},
   "source": [
    "5. Stwórz tablicę przeglądania lub model, który, będzie klasyfikowała daną obserwację do jednej z wyznaczonych grup ryzyka"
   ]
  },
  {
   "cell_type": "code",
   "execution_count": 58,
   "metadata": {},
   "outputs": [
    {
     "name": "stdout",
     "output_type": "stream",
     "text": [
      "Granice grup ryzyka: [0.03217165 0.09981449 0.12132375 0.13818418 0.15309443 0.17679022\n",
      " 0.20769715 0.2550978  0.76349811]\n",
      "Obserwacja została przypisana do grupy ryzyka: 2\n"
     ]
    }
   ],
   "source": [
    "X_train = pd.get_dummies(train_data[['IREDUC2', 'IRMARIT', 'HEALTH2', 'DSTCHEER', 'ANYINDEX', 'ANYTHEFT', 'EMPSTAT4']], drop_first=True)\n",
    "y_train = (train_data['DEPRESSIONINDEX'] >= 1).astype(int)\n",
    "\n",
    "X_val = pd.get_dummies(val_data[['IREDUC2', 'IRMARIT', 'HEALTH2', 'DSTCHEER', 'ANYINDEX', 'ANYTHEFT', 'EMPSTAT4']], drop_first=True)\n",
    "y_val = (val_data['DEPRESSIONINDEX'] >= 1).astype(int)\n",
    "\n",
    "scaler = StandardScaler()\n",
    "X_train_scaled = scaler.fit_transform(X_train)\n",
    "X_val_scaled = scaler.transform(X_val)\n",
    "\n",
    "log_model = LogisticRegression(random_state=42)\n",
    "log_model.fit(X_train_scaled, y_train)\n",
    "\n",
    "val_probs = log_model.predict_proba(X_val_scaled)[:, 1]\n",
    "\n",
    "val_data[\"Probability\"] = val_probs\n",
    "val_data[\"Group\"] = pd.qcut(val_probs, q=8, labels=range(1, 9))\n",
    "\n",
    "group_thresholds = pd.qcut(val_probs, q=8, retbins=True)[1]\n",
    "print(\"Granice grup ryzyka:\", group_thresholds)\n",
    "\n",
    "def classify_risk(observation, model, scaler, group_thresholds):\n",
    "\n",
    "    observation = pd.DataFrame([observation])\n",
    "    observation = pd.get_dummies(observation, drop_first=True)\n",
    "\n",
    "    for col in X_train.columns:\n",
    "        if col not in observation.columns:\n",
    "            observation[col] = 0\n",
    "    observation = observation[X_train.columns]\n",
    "\n",
    "    observation_scaled = scaler.transform(observation)\n",
    "\n",
    "    prob = model.predict_proba(observation_scaled)[:, 1][0]\n",
    "\n",
    "    for i in range(len(group_thresholds) - 1):\n",
    "        if group_thresholds[i] <= prob < group_thresholds[i + 1]:\n",
    "            return i + 1\n",
    "    return len(group_thresholds) - 1\n",
    "\n",
    "example_observation = {\n",
    "    \"IREDUC2\": 5,\n",
    "    \"IRMARIT\": 4,\n",
    "    \"HEALTH2\": 1,\n",
    "    \"DSTCHEER\": 4,\n",
    "    \"ANYINDEX\": 0.5,\n",
    "    \"ANYTHEFT\": 0,\n",
    "    \"EMPSTAT4\": 1\n",
    "}\n",
    "group = classify_risk(example_observation, log_model, scaler, group_thresholds)\n",
    "print(f\"Obserwacja została przypisana do grupy ryzyka: {group}\")\n"
   ]
  },
  {
   "cell_type": "markdown",
   "metadata": {},
   "source": [
    "6. Dla zbioru walidacyjnego oceń jak wygląda liczebność poszczególnych grup ryzyka"
   ]
  },
  {
   "cell_type": "code",
   "execution_count": 59,
   "metadata": {},
   "outputs": [
    {
     "name": "stdout",
     "output_type": "stream",
     "text": [
      "Liczebność poszczególnych grup ryzyka:\n",
      "Group\n",
      "1    930\n",
      "2    941\n",
      "3    920\n",
      "4    926\n",
      "5    991\n",
      "6    840\n",
      "7    923\n",
      "8    924\n",
      "Name: count, dtype: int64\n"
     ]
    },
    {
     "data": {
      "image/png": "[encoded data removed]",
      "text/plain": [
       "<Figure size 800x500 with 1 Axes>"
      ]
     },
     "metadata": {},
     "output_type": "display_data"
    }
   ],
   "source": [
    "group_counts = val_data[\"Group\"].value_counts().sort_index()\n",
    "\n",
    "print(\"Liczebność poszczególnych grup ryzyka:\")\n",
    "print(group_counts)\n",
    "\n",
    "plt.figure(figsize=(8, 5))\n",
    "group_counts.plot(kind=\"bar\", color=\"blue\", alpha=0.8)\n",
    "plt.title(\"Liczebność poszczególnych grup ryzyka\")\n",
    "plt.xlabel(\"Grupa ryzyka\")\n",
    "plt.ylabel(\"Liczba obserwacji\")\n",
    "plt.grid(axis=\"y\", alpha=0.5)\n",
    "plt.show()"
   ]
  },
  {
   "cell_type": "markdown",
   "metadata": {},
   "source": [
    "Jak widać na powyższym wykresie przedstawiającym liczebność poszczególnych grup ryzyka, rozkład osób między grupami jest równomierny z małymi oscylacjami"
   ]
  },
  {
   "cell_type": "markdown",
   "metadata": {},
   "source": [
    "7. Na podstawie parametrów modelu regresyjnego przeanalizuj grupę o najniższym i najwyższym poziomie ryzyka depresji, spróbuj ją scharakteryzować."
   ]
  },
  {
   "cell_type": "code",
   "execution_count": 60,
   "metadata": {},
   "outputs": [
    {
     "name": "stdout",
     "output_type": "stream",
     "text": [
      "Intercept                           3.336771\n",
      "C(IREDUC2)[T.2]                     0.151984\n",
      "C(IREDUC2)[T.3]                     0.383752\n",
      "C(IREDUC2)[T.4]                     0.619145\n",
      "C(IREDUC2)[T.5]                     0.559013\n",
      "C(IREDUC2)[T.6]                     0.748590\n",
      "C(IREDUC2)[T.7]                     0.718172\n",
      "C(IREDUC2)[T.8]                     0.883930\n",
      "C(IREDUC2)[T.9]                     1.050752\n",
      "C(IREDUC2)[T.10]                    1.136347\n",
      "C(IREDUC2)[T.11]                    1.229072\n",
      "C(IRMARIT)[T.2]                    -0.021746\n",
      "C(IRMARIT)[T.3]                     0.625402\n",
      "C(IRMARIT)[T.4]                    -0.172079\n",
      "C(IRMARIT)[T.99]                   -0.348295\n",
      "C(HEALTH2)[T.2]                     0.231661\n",
      "C(HEALTH2)[T.3]                     0.417019\n",
      "C(HEALTH2)[T.4]                     0.697320\n",
      "C(DSTCHEER)[T.2]                   -0.492485\n",
      "C(DSTCHEER)[T.3]                   -2.526784\n",
      "C(DSTCHEER)[T.4]                   -3.572479\n",
      "C(DSTCHEER)[T.5]                   -4.192329\n",
      "C(DSTCHEER)[T.99]                  -4.573138\n",
      "C(ANYINDEX)[T.0.1429]               0.072299\n",
      "C(ANYINDEX)[T.0.166666666666667]    0.122177\n",
      "C(ANYINDEX)[T.0.285714285714286]    1.081981\n",
      "C(ANYINDEX)[T.0.333333333333333]    0.259501\n",
      "C(ANYINDEX)[T.0.428571428571429]    1.313203\n",
      "C(ANYINDEX)[T.0.5]                  0.531996\n",
      "C(ANYINDEX)[T.0.571428571428571]    0.847723\n",
      "C(ANYINDEX)[T.0.666666666666667]    1.018017\n",
      "C(ANYINDEX)[T.0.714285714285714]    0.560573\n",
      "C(ANYINDEX)[T.0.833333333333333]    1.011760\n",
      "C(ANYINDEX)[T.0.857142857142857]    1.644837\n",
      "C(ANYINDEX)[T.1.0]                  2.214464\n",
      "C(ANYTHEFT)[T.1]                    0.358612\n",
      "C(EMPSTAT4)[T.2]                    0.112290\n",
      "C(EMPSTAT4)[T.3]                   -0.001043\n",
      "C(EMPSTAT4)[T.4]                   -0.078090\n",
      "C(EMPSTAT4)[T.99]                   1.857080\n",
      "dtype: float64\n"
     ]
    }
   ],
   "source": [
    "print(res_reg.params)"
   ]
  },
  {
   "cell_type": "code",
   "execution_count": 61,
   "metadata": {},
   "outputs": [
    {
     "name": "stdout",
     "output_type": "stream",
     "text": [
      "        DEPRESSIONINDEX      CATAG2       IRSEX        SOMA    ANYINDEX  \\\n",
      "count        930.000000  930.000000  930.000000  930.000000  930.000000   \n",
      "unique              NaN         NaN         NaN         NaN         NaN   \n",
      "top                 NaN         NaN         NaN         NaN         NaN   \n",
      "freq                NaN         NaN         NaN         NaN         NaN   \n",
      "mean           0.334409    1.961290    1.408602   93.708602    0.143344   \n",
      "std            1.452143    0.853415    0.491840   22.210899    0.005446   \n",
      "min            0.000000    1.000000    1.000000    0.000000    0.142857   \n",
      "25%            0.000000    1.000000    1.000000   99.000000    0.142857   \n",
      "50%            0.000000    2.000000    1.000000   99.000000    0.142857   \n",
      "75%            0.000000    3.000000    2.000000   99.000000    0.142857   \n",
      "max            9.000000    3.000000    2.000000   99.000000    0.285714   \n",
      "\n",
      "           IREDUC2    EMPSTAT4  ANYTHEFT    DSTCHEER     HEALTH2     IRMARIT  \\\n",
      "count   930.000000  930.000000     930.0  930.000000  930.000000  930.000000   \n",
      "unique         NaN         NaN       NaN         NaN         NaN         NaN   \n",
      "top            NaN         NaN       NaN         NaN         NaN         NaN   \n",
      "freq           NaN         NaN       NaN         NaN         NaN         NaN   \n",
      "mean      5.083871   38.705376       0.0   40.997849    1.416129   39.474194   \n",
      "std       3.267325   47.619017       0.0   45.808277    0.610244   47.024098   \n",
      "min       1.000000    1.000000       0.0    3.000000    1.000000    1.000000   \n",
      "25%       2.000000    1.000000       0.0    5.000000    1.000000    1.000000   \n",
      "50%       6.000000    1.000000       0.0    5.000000    1.000000    4.000000   \n",
      "75%       8.000000   99.000000       0.0   99.000000    2.000000   99.000000   \n",
      "max      10.000000   99.000000       0.0   99.000000    4.000000   99.000000   \n",
      "\n",
      "        Probability  Group  \n",
      "count    930.000000  930.0  \n",
      "unique          NaN    1.0  \n",
      "top             NaN    1.0  \n",
      "freq            NaN  930.0  \n",
      "mean       0.087808    NaN  \n",
      "std        0.011675    NaN  \n",
      "min        0.032172    NaN  \n",
      "25%        0.078906    NaN  \n",
      "50%        0.089199    NaN  \n",
      "75%        0.097311    NaN  \n",
      "max        0.099814    NaN  \n"
     ]
    }
   ],
   "source": [
    "lowest_risk_group = val_data[val_data[\"Group\"] == 1]\n",
    "lowest_group = lowest_risk_group.describe(include=\"all\")\n",
    "\n",
    "print(lowest_group)"
   ]
  },
  {
   "cell_type": "markdown",
   "metadata": {},
   "source": [
    "Grupa o najniższym poziomie ryzyka depresji, charakteryzuje się średnim poziomie depresji (DEPRESSIONINDEX) na poziomie 0.33, co może świadczyć o tym, że większość tej grupy to osoby bez depresji. Są to najczęściej osoby z drugiej grupy wiekowej (CATAG2) przedział 18-25, ponieważ średnia tej kategorii wynosi 1.96, co wskazuje też na to, że jest w niej sporo młodzieży a najmniej grupy 26+. W grupie tej jest przewaga płci męskiej (IRSEX na poziomie 1.40), co świadczy o tym, że mężczyźni rzadziej wpadają w depresję od kobiet. Analizując rodzaj depresji (somatyczna lub niesomatyczna - SOMA), ciężko dojść do dobrych wniosków, ponieważ większość danych przyjmuje wartość 99 (missing value dla tego czynnika). Jeżeli chodzi o uzaleznienie od używek (ANYINDEX) to analizowana grupa nie jest podatna na silne uzależenienie od narkotyków ponieważ średnia tej cechy wynosi 0.143344, a maksymalna wartość 0.285714, gdzie dla całej tej kolumny maksymalna wartość to 1. Osoby będące najmniej narażone na depresję średnio są na poziomie \"9th grade\" edukacji (IREDUCE2) co plasuje ich mniej więcej w połowie całego poziomu wykształcenia. Czynnik EMPSTAT4 ciężko określić ze względu na brakujące wartości równe 99, jednak można zauważyć że w połowie badanej grupy to osoby, które mają stałą pracę, natomiast wartość 99 osoby w przedziale wiekowym 12-17. Jeżeli chodzi o popełnienie kiedykolwiek jakiegoś przestępstwa (ANYTHEFT) to nikt z tej grupy takiego nie popełnił (wartość średnia 0.0). Osoby, które znalazły się w tej grupie charakteryzują się tym, że łatwiej jest je pocieszyć (DSCHEER), ponieważ minimalna wartość w tym czynniku to 3 - Some of the time, spora część to wartość 5 - None of the time. Nie można nic powiedzieć o średniej w tym czynniku ponieważ znajdują się w niej wartości brakujące, które zaburzają średni wynik. Osoby te charakteryzują się również bardzo dobrym/dobrym poziomem zdrowia (HEALTH2), średnia wartość - 1.41. Analizując ostatni czynnik, czyli poziom społeczny (IRMARIT), to przez missing value, cięzko interpretować średnią, jednak widać że są to głównie osoby, które: wzięły ślub lub nigdy się nie pobrały albo nie były brane pod uwagę ponieważ były zbyt młode"
   ]
  },
  {
   "cell_type": "code",
   "execution_count": 62,
   "metadata": {},
   "outputs": [
    {
     "name": "stdout",
     "output_type": "stream",
     "text": [
      "        DEPRESSIONINDEX      CATAG2       IRSEX        SOMA    ANYINDEX  \\\n",
      "count        924.000000  924.000000  924.000000  924.000000  924.000000   \n",
      "unique              NaN         NaN         NaN         NaN         NaN   \n",
      "top                 NaN         NaN         NaN         NaN         NaN   \n",
      "freq                NaN         NaN         NaN         NaN         NaN   \n",
      "mean           2.686147    2.030303    1.600649   63.822511    0.277907   \n",
      "std            3.661901    0.794859    0.490030   47.110631    0.222485   \n",
      "min            0.000000    1.000000    1.000000    0.000000    0.142857   \n",
      "25%            0.000000    1.000000    1.000000    1.000000    0.142857   \n",
      "50%            0.000000    2.000000    2.000000   99.000000    0.142857   \n",
      "75%            7.000000    3.000000    2.000000   99.000000    0.333333   \n",
      "max            9.000000    3.000000    2.000000   99.000000    1.000000   \n",
      "\n",
      "           IREDUC2    EMPSTAT4    ANYTHEFT    DSTCHEER     HEALTH2  \\\n",
      "count   924.000000  924.000000  924.000000  924.000000  924.000000   \n",
      "unique         NaN         NaN         NaN         NaN         NaN   \n",
      "top            NaN         NaN         NaN         NaN         NaN   \n",
      "freq           NaN         NaN         NaN         NaN         NaN   \n",
      "mean      8.050866   31.904762    0.116883   31.747835    2.833333   \n",
      "std       2.007194   44.049878    0.321455   44.153876    0.883417   \n",
      "min       1.000000    1.000000    0.000000    1.000000    1.000000   \n",
      "25%       7.000000    3.000000    0.000000    2.000000    2.000000   \n",
      "50%       8.000000    4.000000    0.000000    4.000000    3.000000   \n",
      "75%      10.000000   99.000000    0.000000   99.000000    3.000000   \n",
      "max      11.000000   99.000000    1.000000   99.000000    4.000000   \n",
      "\n",
      "           IRMARIT  Probability  Group  \n",
      "count   924.000000   924.000000  924.0  \n",
      "unique         NaN          NaN    1.0  \n",
      "top            NaN          NaN    8.0  \n",
      "freq           NaN          NaN  924.0  \n",
      "mean      4.468615     0.337055    NaN  \n",
      "std      10.918594     0.086024    NaN  \n",
      "min       1.000000     0.255371    NaN  \n",
      "25%       3.000000     0.274778    NaN  \n",
      "50%       4.000000     0.305860    NaN  \n",
      "75%       4.000000     0.366690    NaN  \n",
      "max      99.000000     0.763498    NaN  \n"
     ]
    }
   ],
   "source": [
    "highest_risk_group = val_data[val_data[\"Group\"] == 8]\n",
    "highest_group = highest_risk_group.describe(include=\"all\")\n",
    "\n",
    "print(highest_group)"
   ]
  },
  {
   "cell_type": "markdown",
   "metadata": {},
   "source": [
    "Analizując poziom depresji oraz wybrane przeze mnie czynniki w grupie o największym ryzyku wpadnięcia w depresje, można zauważyć, że średnia wartość DEPRESSIONINDEX jest na poziomie 2.68, co świadczy o tym, że średnio każda osoba w tej grupie ma niski poziom depresji. Podobnie jak w przypadku grupy o najniższym ryzyku, są to głownie osoby z drugiej kategorii wiekowej CATAG2. Patrząc na czynnik IRSEX, można dojść do wniosku, że większością tej grupy są kobiety (średnia wartość = 1.6). Odnośnie rodzaju depresji (SOMA), to ciężko cokolwiek stwierdzić, ponieważ podobnie jak w poprzednim przypadku, większość tej kolumny zajmują wartości 99. Jeżeli chodzi o poziom uzależnienia od używek (ANYINDEX) to widać tutaj już większą średnią - 0.27, oraz fakt, że są w tej grupie osoby, które są wpełni uzależnione (maksymalna wartość = 1). Poziom edukacji tych osób również jest większy (IREDUC), ponieważ średnia wartość to 8.05, czyli \"12th grade\", czyli osoby o większym wykształceniu są bardziej narażone na depresję. Jeżeli chodzi o poziom zatrudnienia (EMPSTAT4), to przez missing value, średnia nie powie nam za wiele, ale patrząc na to jakie wartości występują w tej kolumnie to można zauważyć, że znajdują się w niej osoby, które są bezrobotne, bądź są to osoby, których pracę ciężko określić. Na pewno jest mniejszy udział osób pracujących na pełen etat. W tej grupie widać, że są osoby które popelniły jakieś przestępstwo (ANYTHEFT), co prawda są oni mniejszością ale widać, że osoby z tej grupy są bardziej skłonne do wykroczeń. Analizujac czynnik DSTCHEER, to można zauważyć, że grupa ta posiada osoby, których nie da się pocieszyć albo bardzo trudno to zrobić. Wartość średnia jest zaburzona przez brakujące wartości, ale widać, że im trudniej taką osobę wesprzeć tym ma ona większe skłonności do depresji. Średnia zdrowia (HEALTH2) jest również w tej grupie wyższa - 2.83, co świadczy o tym, że osoby te charakteryzują się gorszym zdrowiem. Patrząc na ostatni czynnik (IRMARIT), można dojść do wniosku, że osoby z tej grupy rzadziej są w związku małżeńskim, częściej są one rozwiedzione lub nigdy nie brały ślubu"
   ]
  },
  {
   "cell_type": "markdown",
   "metadata": {},
   "source": [
    "#### Porównanie MSE i MAE dla modelu OLS i DecisionTreeRegressor"
   ]
  },
  {
   "cell_type": "code",
   "execution_count": 63,
   "metadata": {},
   "outputs": [
    {
     "name": "stdout",
     "output_type": "stream",
     "text": [
      "Regresja drzewa decyzyjnego:\n",
      "MSE: 6.3782\n",
      "MAE: 1.7149\n",
      "Regresja modelu OLS:\n",
      "MSE: 6.315716603859546\n",
      "MAE: 1.7167450076654205\n"
     ]
    }
   ],
   "source": [
    "tree_reg = DecisionTreeRegressor(max_depth=5, random_state=42)\n",
    "tree_reg.fit(X_train, train_data['DEPRESSIONINDEX'])\n",
    "\n",
    "val_preds_reg = tree_reg.predict(X_val)\n",
    "\n",
    "mse_tree = mean_squared_error(val_data['DEPRESSIONINDEX'], val_preds_reg)\n",
    "mae_tree = mean_absolute_error(val_data['DEPRESSIONINDEX'], val_preds_reg)\n",
    "\n",
    "print(\"Regresja drzewa decyzyjnego:\")\n",
    "print(f\"MSE: {mse_tree:.4f}\")\n",
    "print(f\"MAE: {mae_tree:.4f}\")\n",
    "\n",
    "\n",
    "print(\"Regresja modelu OLS:\")\n",
    "print(f\"MSE: {mse}\")\n",
    "print(f\"MAE: {mae}\")"
   ]
  },
  {
   "cell_type": "markdown",
   "metadata": {},
   "source": [
    "Analizując MSE i MAE dla obydwóch modeli można dojść do wniosku, że oba modele radzą sobie podobnie"
   ]
  }
 ],
 "metadata": {
  "kernelspec": {
   "display_name": "usr",
   "language": "python",
   "name": "python3"
  },
  "language_info": {
   "codemirror_mode": {
    "name": "ipython",
    "version": 3
   },
   "file_extension": ".py",
   "mimetype": "text/x-python",
   "name": "python",
   "nbconvert_exporter": "python",
   "pygments_lexer": "ipython3",
   "version": "3.10.12"
  }
 },
 "nbformat": 4,
 "nbformat_minor": 2
}
